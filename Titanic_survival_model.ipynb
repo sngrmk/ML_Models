{
  "nbformat": 4,
  "nbformat_minor": 0,
  "metadata": {
    "colab": {
      "name": "Titanic_survival_model.ipynb",
      "provenance": [],
      "collapsed_sections": [],
      "toc_visible": true
    },
    "kernelspec": {
      "name": "python3",
      "display_name": "Python 3"
    }
  },
  "cells": [
    {
      "cell_type": "markdown",
      "metadata": {
        "id": "JZxJRm8_cdRX",
        "colab_type": "text"
      },
      "source": [
        "# Predicting the Survival of passengers on Titanic using ML estimators\n",
        "\n",
        "This notebook is in referenc to Kaggle competition \" https://www.kaggle.com/c/titanic/overview/evaluation \"."
      ]
    },
    {
      "cell_type": "markdown",
      "metadata": {
        "id": "JOG5UqLRiE9V",
        "colab_type": "text"
      },
      "source": [
        "## 1. Importing necessary packages & data"
      ]
    },
    {
      "cell_type": "code",
      "metadata": {
        "id": "c1ClbSYHTD9d",
        "colab_type": "code",
        "colab": {
          "base_uri": "https://localhost:8080/",
          "height": 72
        },
        "outputId": "dc5ab3d5-97da-4ce4-bac0-0c2dd720542f"
      },
      "source": [
        "# Manipulating & plotting packages\n",
        "import pandas as pd\n",
        "import numpy as np\n",
        "import matplotlib.pyplot as plt\n",
        "import seaborn as sns\n",
        "\n",
        "# Import Estimator\n",
        "from sklearn.ensemble import RandomForestClassifier\n",
        "\n",
        "# Splitting data into 2 sets\n",
        "from sklearn.model_selection import train_test_split\n",
        "\n",
        "# Tunning hyperparameters\n",
        "from sklearn.model_selection import GridSearchCV\n",
        "\n",
        "# Evaluating Model\n",
        "from sklearn.metrics import classification_report,confusion_matrix\n",
        "from sklearn.metrics import plot_roc_curve"
      ],
      "execution_count": 1,
      "outputs": [
        {
          "output_type": "stream",
          "text": [
            "/usr/local/lib/python3.6/dist-packages/statsmodels/tools/_testing.py:19: FutureWarning: pandas.util.testing is deprecated. Use the functions in the public API at pandas.testing instead.\n",
            "  import pandas.util.testing as tm\n"
          ],
          "name": "stderr"
        }
      ]
    },
    {
      "cell_type": "code",
      "metadata": {
        "id": "kCRYW24SL4Ts",
        "colab_type": "code",
        "colab": {}
      },
      "source": [
        "train_data = pd.read_csv(\"drive/My Drive/Titanic/train.csv\")\n",
        "test_data = pd.read_csv('drive/My Drive/Titanic/test.csv')"
      ],
      "execution_count": 2,
      "outputs": []
    },
    {
      "cell_type": "markdown",
      "metadata": {
        "id": "qytIs8FKiRAL",
        "colab_type": "text"
      },
      "source": [
        "## 2. Data Analysis & Manipulation\n",
        "\n",
        "  `List of Techniques`:\n",
        "\n",
        "     * Imputation\n",
        "     * Handling Outliers\n",
        "     * Binning\n",
        "     * Log Transform\n",
        "     * One-Hot Encoding\n",
        "     * Grouping Operations\n",
        "     * Feature Split\n",
        "     * Scaling\n",
        "     * Extracting Date\n",
        "\n",
        "Among these techniques, choose the techniques best suited for your model.\n",
        "\n"
      ]
    },
    {
      "cell_type": "code",
      "metadata": {
        "id": "8ItFznE7kTeD",
        "colab_type": "code",
        "colab": {
          "base_uri": "https://localhost:8080/",
          "height": 461
        },
        "outputId": "8ba3a7b6-b760-4e9a-deec-6644209a2b0d"
      },
      "source": [
        "train_data.head().T"
      ],
      "execution_count": 3,
      "outputs": [
        {
          "output_type": "execute_result",
          "data": {
            "text/html": [
              "<div>\n",
              "<style scoped>\n",
              "    .dataframe tbody tr th:only-of-type {\n",
              "        vertical-align: middle;\n",
              "    }\n",
              "\n",
              "    .dataframe tbody tr th {\n",
              "        vertical-align: top;\n",
              "    }\n",
              "\n",
              "    .dataframe thead th {\n",
              "        text-align: right;\n",
              "    }\n",
              "</style>\n",
              "<table border=\"1\" class=\"dataframe\">\n",
              "  <thead>\n",
              "    <tr style=\"text-align: right;\">\n",
              "      <th></th>\n",
              "      <th>0</th>\n",
              "      <th>1</th>\n",
              "      <th>2</th>\n",
              "      <th>3</th>\n",
              "      <th>4</th>\n",
              "    </tr>\n",
              "  </thead>\n",
              "  <tbody>\n",
              "    <tr>\n",
              "      <th>PassengerId</th>\n",
              "      <td>1</td>\n",
              "      <td>2</td>\n",
              "      <td>3</td>\n",
              "      <td>4</td>\n",
              "      <td>5</td>\n",
              "    </tr>\n",
              "    <tr>\n",
              "      <th>Survived</th>\n",
              "      <td>0</td>\n",
              "      <td>1</td>\n",
              "      <td>1</td>\n",
              "      <td>1</td>\n",
              "      <td>0</td>\n",
              "    </tr>\n",
              "    <tr>\n",
              "      <th>Pclass</th>\n",
              "      <td>3</td>\n",
              "      <td>1</td>\n",
              "      <td>3</td>\n",
              "      <td>1</td>\n",
              "      <td>3</td>\n",
              "    </tr>\n",
              "    <tr>\n",
              "      <th>Name</th>\n",
              "      <td>Braund, Mr. Owen Harris</td>\n",
              "      <td>Cumings, Mrs. John Bradley (Florence Briggs Th...</td>\n",
              "      <td>Heikkinen, Miss. Laina</td>\n",
              "      <td>Futrelle, Mrs. Jacques Heath (Lily May Peel)</td>\n",
              "      <td>Allen, Mr. William Henry</td>\n",
              "    </tr>\n",
              "    <tr>\n",
              "      <th>Sex</th>\n",
              "      <td>male</td>\n",
              "      <td>female</td>\n",
              "      <td>female</td>\n",
              "      <td>female</td>\n",
              "      <td>male</td>\n",
              "    </tr>\n",
              "    <tr>\n",
              "      <th>Age</th>\n",
              "      <td>22</td>\n",
              "      <td>38</td>\n",
              "      <td>26</td>\n",
              "      <td>35</td>\n",
              "      <td>35</td>\n",
              "    </tr>\n",
              "    <tr>\n",
              "      <th>SibSp</th>\n",
              "      <td>1</td>\n",
              "      <td>1</td>\n",
              "      <td>0</td>\n",
              "      <td>1</td>\n",
              "      <td>0</td>\n",
              "    </tr>\n",
              "    <tr>\n",
              "      <th>Parch</th>\n",
              "      <td>0</td>\n",
              "      <td>0</td>\n",
              "      <td>0</td>\n",
              "      <td>0</td>\n",
              "      <td>0</td>\n",
              "    </tr>\n",
              "    <tr>\n",
              "      <th>Ticket</th>\n",
              "      <td>A/5 21171</td>\n",
              "      <td>PC 17599</td>\n",
              "      <td>STON/O2. 3101282</td>\n",
              "      <td>113803</td>\n",
              "      <td>373450</td>\n",
              "    </tr>\n",
              "    <tr>\n",
              "      <th>Fare</th>\n",
              "      <td>7.25</td>\n",
              "      <td>71.2833</td>\n",
              "      <td>7.925</td>\n",
              "      <td>53.1</td>\n",
              "      <td>8.05</td>\n",
              "    </tr>\n",
              "    <tr>\n",
              "      <th>Cabin</th>\n",
              "      <td>NaN</td>\n",
              "      <td>C85</td>\n",
              "      <td>NaN</td>\n",
              "      <td>C123</td>\n",
              "      <td>NaN</td>\n",
              "    </tr>\n",
              "    <tr>\n",
              "      <th>Embarked</th>\n",
              "      <td>S</td>\n",
              "      <td>C</td>\n",
              "      <td>S</td>\n",
              "      <td>S</td>\n",
              "      <td>S</td>\n",
              "    </tr>\n",
              "  </tbody>\n",
              "</table>\n",
              "</div>"
            ],
            "text/plain": [
              "                                   0  ...                         4\n",
              "PassengerId                        1  ...                         5\n",
              "Survived                           0  ...                         0\n",
              "Pclass                             3  ...                         3\n",
              "Name         Braund, Mr. Owen Harris  ...  Allen, Mr. William Henry\n",
              "Sex                             male  ...                      male\n",
              "Age                               22  ...                        35\n",
              "SibSp                              1  ...                         0\n",
              "Parch                              0  ...                         0\n",
              "Ticket                     A/5 21171  ...                    373450\n",
              "Fare                            7.25  ...                      8.05\n",
              "Cabin                            NaN  ...                       NaN\n",
              "Embarked                           S  ...                         S\n",
              "\n",
              "[12 rows x 5 columns]"
            ]
          },
          "metadata": {
            "tags": []
          },
          "execution_count": 3
        }
      ]
    },
    {
      "cell_type": "code",
      "metadata": {
        "id": "yF4sOKEJk5Q_",
        "colab_type": "code",
        "colab": {
          "base_uri": "https://localhost:8080/",
          "height": 156
        },
        "outputId": "c71269e7-97b6-407a-fa3d-3b40e3548604"
      },
      "source": [
        "train_data.var()"
      ],
      "execution_count": 4,
      "outputs": [
        {
          "output_type": "execute_result",
          "data": {
            "text/plain": [
              "PassengerId    66231.000000\n",
              "Survived           0.236772\n",
              "Pclass             0.699015\n",
              "Age              211.019125\n",
              "SibSp              1.216043\n",
              "Parch              0.649728\n",
              "Fare            2469.436846\n",
              "dtype: float64"
            ]
          },
          "metadata": {
            "tags": []
          },
          "execution_count": 4
        }
      ]
    },
    {
      "cell_type": "code",
      "metadata": {
        "id": "UBAHHG-ulA8-",
        "colab_type": "code",
        "colab": {
          "base_uri": "https://localhost:8080/",
          "height": 243
        },
        "outputId": "cf8a4ec1-54df-4e5b-ad20-436fc2b2cffd"
      },
      "source": [
        "train_data.isna().sum()/len(train_data)"
      ],
      "execution_count": 5,
      "outputs": [
        {
          "output_type": "execute_result",
          "data": {
            "text/plain": [
              "PassengerId    0.000000\n",
              "Survived       0.000000\n",
              "Pclass         0.000000\n",
              "Name           0.000000\n",
              "Sex            0.000000\n",
              "Age            0.198653\n",
              "SibSp          0.000000\n",
              "Parch          0.000000\n",
              "Ticket         0.000000\n",
              "Fare           0.000000\n",
              "Cabin          0.771044\n",
              "Embarked       0.002245\n",
              "dtype: float64"
            ]
          },
          "metadata": {
            "tags": []
          },
          "execution_count": 5
        }
      ]
    },
    {
      "cell_type": "code",
      "metadata": {
        "id": "sAh3Jf8tm6JG",
        "colab_type": "code",
        "colab": {}
      },
      "source": [
        "train_data.drop(['PassengerId','Name','Cabin'],axis=1,inplace=True)"
      ],
      "execution_count": 6,
      "outputs": []
    },
    {
      "cell_type": "code",
      "metadata": {
        "id": "wwr3_N25nDZb",
        "colab_type": "code",
        "colab": {
          "base_uri": "https://localhost:8080/",
          "height": 265
        },
        "outputId": "472a966c-5e4b-4928-821a-d8e30e9fe6f6"
      },
      "source": [
        "train_data.Age.hist();"
      ],
      "execution_count": 7,
      "outputs": [
        {
          "output_type": "display_data",
          "data": {
            "image/png": "[encoded data removed]",
            "text/plain": [
              "<Figure size 432x288 with 1 Axes>"
            ]
          },
          "metadata": {
            "tags": [],
            "needs_background": "light"
          }
        }
      ]
    },
    {
      "cell_type": "code",
      "metadata": {
        "id": "2qtEwFnMzAR7",
        "colab_type": "code",
        "colab": {
          "base_uri": "https://localhost:8080/",
          "height": 332
        },
        "outputId": "84d48f9e-c52a-4d3f-a5a6-e0a53861e5f4"
      },
      "source": [
        "train_data.head().T"
      ],
      "execution_count": 8,
      "outputs": [
        {
          "output_type": "execute_result",
          "data": {
            "text/html": [
              "<div>\n",
              "<style scoped>\n",
              "    .dataframe tbody tr th:only-of-type {\n",
              "        vertical-align: middle;\n",
              "    }\n",
              "\n",
              "    .dataframe tbody tr th {\n",
              "        vertical-align: top;\n",
              "    }\n",
              "\n",
              "    .dataframe thead th {\n",
              "        text-align: right;\n",
              "    }\n",
              "</style>\n",
              "<table border=\"1\" class=\"dataframe\">\n",
              "  <thead>\n",
              "    <tr style=\"text-align: right;\">\n",
              "      <th></th>\n",
              "      <th>0</th>\n",
              "      <th>1</th>\n",
              "      <th>2</th>\n",
              "      <th>3</th>\n",
              "      <th>4</th>\n",
              "    </tr>\n",
              "  </thead>\n",
              "  <tbody>\n",
              "    <tr>\n",
              "      <th>Survived</th>\n",
              "      <td>0</td>\n",
              "      <td>1</td>\n",
              "      <td>1</td>\n",
              "      <td>1</td>\n",
              "      <td>0</td>\n",
              "    </tr>\n",
              "    <tr>\n",
              "      <th>Pclass</th>\n",
              "      <td>3</td>\n",
              "      <td>1</td>\n",
              "      <td>3</td>\n",
              "      <td>1</td>\n",
              "      <td>3</td>\n",
              "    </tr>\n",
              "    <tr>\n",
              "      <th>Sex</th>\n",
              "      <td>male</td>\n",
              "      <td>female</td>\n",
              "      <td>female</td>\n",
              "      <td>female</td>\n",
              "      <td>male</td>\n",
              "    </tr>\n",
              "    <tr>\n",
              "      <th>Age</th>\n",
              "      <td>22</td>\n",
              "      <td>38</td>\n",
              "      <td>26</td>\n",
              "      <td>35</td>\n",
              "      <td>35</td>\n",
              "    </tr>\n",
              "    <tr>\n",
              "      <th>SibSp</th>\n",
              "      <td>1</td>\n",
              "      <td>1</td>\n",
              "      <td>0</td>\n",
              "      <td>1</td>\n",
              "      <td>0</td>\n",
              "    </tr>\n",
              "    <tr>\n",
              "      <th>Parch</th>\n",
              "      <td>0</td>\n",
              "      <td>0</td>\n",
              "      <td>0</td>\n",
              "      <td>0</td>\n",
              "      <td>0</td>\n",
              "    </tr>\n",
              "    <tr>\n",
              "      <th>Ticket</th>\n",
              "      <td>A/5 21171</td>\n",
              "      <td>PC 17599</td>\n",
              "      <td>STON/O2. 3101282</td>\n",
              "      <td>113803</td>\n",
              "      <td>373450</td>\n",
              "    </tr>\n",
              "    <tr>\n",
              "      <th>Fare</th>\n",
              "      <td>7.25</td>\n",
              "      <td>71.2833</td>\n",
              "      <td>7.925</td>\n",
              "      <td>53.1</td>\n",
              "      <td>8.05</td>\n",
              "    </tr>\n",
              "    <tr>\n",
              "      <th>Embarked</th>\n",
              "      <td>S</td>\n",
              "      <td>C</td>\n",
              "      <td>S</td>\n",
              "      <td>S</td>\n",
              "      <td>S</td>\n",
              "    </tr>\n",
              "  </tbody>\n",
              "</table>\n",
              "</div>"
            ],
            "text/plain": [
              "                  0         1                 2       3       4\n",
              "Survived          0         1                 1       1       0\n",
              "Pclass            3         1                 3       1       3\n",
              "Sex            male    female            female  female    male\n",
              "Age              22        38                26      35      35\n",
              "SibSp             1         1                 0       1       0\n",
              "Parch             0         0                 0       0       0\n",
              "Ticket    A/5 21171  PC 17599  STON/O2. 3101282  113803  373450\n",
              "Fare           7.25   71.2833             7.925    53.1    8.05\n",
              "Embarked          S         C                 S       S       S"
            ]
          },
          "metadata": {
            "tags": []
          },
          "execution_count": 8
        }
      ]
    },
    {
      "cell_type": "code",
      "metadata": {
        "id": "s8pezCy10Ccg",
        "colab_type": "code",
        "colab": {
          "base_uri": "https://localhost:8080/",
          "height": 225
        },
        "outputId": "f5348ce9-9e9b-45c2-b3f7-7a921cdf53bc"
      },
      "source": [
        "train_data.Fare.value_counts()"
      ],
      "execution_count": 9,
      "outputs": [
        {
          "output_type": "execute_result",
          "data": {
            "text/plain": [
              "8.0500     43\n",
              "13.0000    42\n",
              "7.8958     38\n",
              "7.7500     34\n",
              "26.0000    31\n",
              "           ..\n",
              "8.4583      1\n",
              "9.8375      1\n",
              "8.3625      1\n",
              "14.1083     1\n",
              "17.4000     1\n",
              "Name: Fare, Length: 248, dtype: int64"
            ]
          },
          "metadata": {
            "tags": []
          },
          "execution_count": 9
        }
      ]
    },
    {
      "cell_type": "code",
      "metadata": {
        "id": "uSYPg9gZ0lFx",
        "colab_type": "code",
        "colab": {
          "base_uri": "https://localhost:8080/",
          "height": 175
        },
        "outputId": "35bcd33d-42b7-46cc-a334-6e50321fd1e9"
      },
      "source": [
        "pd.crosstab(train_data.Sex,train_data.Survived,margins=True,margins_name='Total')"
      ],
      "execution_count": 10,
      "outputs": [
        {
          "output_type": "execute_result",
          "data": {
            "text/html": [
              "<div>\n",
              "<style scoped>\n",
              "    .dataframe tbody tr th:only-of-type {\n",
              "        vertical-align: middle;\n",
              "    }\n",
              "\n",
              "    .dataframe tbody tr th {\n",
              "        vertical-align: top;\n",
              "    }\n",
              "\n",
              "    .dataframe thead th {\n",
              "        text-align: right;\n",
              "    }\n",
              "</style>\n",
              "<table border=\"1\" class=\"dataframe\">\n",
              "  <thead>\n",
              "    <tr style=\"text-align: right;\">\n",
              "      <th>Survived</th>\n",
              "      <th>0</th>\n",
              "      <th>1</th>\n",
              "      <th>Total</th>\n",
              "    </tr>\n",
              "    <tr>\n",
              "      <th>Sex</th>\n",
              "      <th></th>\n",
              "      <th></th>\n",
              "      <th></th>\n",
              "    </tr>\n",
              "  </thead>\n",
              "  <tbody>\n",
              "    <tr>\n",
              "      <th>female</th>\n",
              "      <td>81</td>\n",
              "      <td>233</td>\n",
              "      <td>314</td>\n",
              "    </tr>\n",
              "    <tr>\n",
              "      <th>male</th>\n",
              "      <td>468</td>\n",
              "      <td>109</td>\n",
              "      <td>577</td>\n",
              "    </tr>\n",
              "    <tr>\n",
              "      <th>Total</th>\n",
              "      <td>549</td>\n",
              "      <td>342</td>\n",
              "      <td>891</td>\n",
              "    </tr>\n",
              "  </tbody>\n",
              "</table>\n",
              "</div>"
            ],
            "text/plain": [
              "Survived    0    1  Total\n",
              "Sex                      \n",
              "female     81  233    314\n",
              "male      468  109    577\n",
              "Total     549  342    891"
            ]
          },
          "metadata": {
            "tags": []
          },
          "execution_count": 10
        }
      ]
    },
    {
      "cell_type": "code",
      "metadata": {
        "id": "e3OvTvzs1UK3",
        "colab_type": "code",
        "colab": {
          "base_uri": "https://localhost:8080/",
          "height": 225
        },
        "outputId": "7ecbfc07-8549-4c46-99c3-91221d1ac3a9"
      },
      "source": [
        "train_data.Pclass.value_counts"
      ],
      "execution_count": 11,
      "outputs": [
        {
          "output_type": "execute_result",
          "data": {
            "text/plain": [
              "<bound method IndexOpsMixin.value_counts of 0      3\n",
              "1      1\n",
              "2      3\n",
              "3      1\n",
              "4      3\n",
              "      ..\n",
              "886    2\n",
              "887    1\n",
              "888    3\n",
              "889    1\n",
              "890    3\n",
              "Name: Pclass, Length: 891, dtype: int64>"
            ]
          },
          "metadata": {
            "tags": []
          },
          "execution_count": 11
        }
      ]
    },
    {
      "cell_type": "code",
      "metadata": {
        "id": "_EUkuEc63dQW",
        "colab_type": "code",
        "colab": {
          "base_uri": "https://localhost:8080/",
          "height": 206
        },
        "outputId": "83f46bd4-8918-4c40-b790-e48b8013171e"
      },
      "source": [
        "pd.crosstab(train_data['Pclass'],train_data['Survived'],margins=True)"
      ],
      "execution_count": 12,
      "outputs": [
        {
          "output_type": "execute_result",
          "data": {
            "text/html": [
              "<div>\n",
              "<style scoped>\n",
              "    .dataframe tbody tr th:only-of-type {\n",
              "        vertical-align: middle;\n",
              "    }\n",
              "\n",
              "    .dataframe tbody tr th {\n",
              "        vertical-align: top;\n",
              "    }\n",
              "\n",
              "    .dataframe thead th {\n",
              "        text-align: right;\n",
              "    }\n",
              "</style>\n",
              "<table border=\"1\" class=\"dataframe\">\n",
              "  <thead>\n",
              "    <tr style=\"text-align: right;\">\n",
              "      <th>Survived</th>\n",
              "      <th>0</th>\n",
              "      <th>1</th>\n",
              "      <th>All</th>\n",
              "    </tr>\n",
              "    <tr>\n",
              "      <th>Pclass</th>\n",
              "      <th></th>\n",
              "      <th></th>\n",
              "      <th></th>\n",
              "    </tr>\n",
              "  </thead>\n",
              "  <tbody>\n",
              "    <tr>\n",
              "      <th>1</th>\n",
              "      <td>80</td>\n",
              "      <td>136</td>\n",
              "      <td>216</td>\n",
              "    </tr>\n",
              "    <tr>\n",
              "      <th>2</th>\n",
              "      <td>97</td>\n",
              "      <td>87</td>\n",
              "      <td>184</td>\n",
              "    </tr>\n",
              "    <tr>\n",
              "      <th>3</th>\n",
              "      <td>372</td>\n",
              "      <td>119</td>\n",
              "      <td>491</td>\n",
              "    </tr>\n",
              "    <tr>\n",
              "      <th>All</th>\n",
              "      <td>549</td>\n",
              "      <td>342</td>\n",
              "      <td>891</td>\n",
              "    </tr>\n",
              "  </tbody>\n",
              "</table>\n",
              "</div>"
            ],
            "text/plain": [
              "Survived    0    1  All\n",
              "Pclass                 \n",
              "1          80  136  216\n",
              "2          97   87  184\n",
              "3         372  119  491\n",
              "All       549  342  891"
            ]
          },
          "metadata": {
            "tags": []
          },
          "execution_count": 12
        }
      ]
    },
    {
      "cell_type": "code",
      "metadata": {
        "id": "Dkcc_eUFBOx7",
        "colab_type": "code",
        "colab": {
          "base_uri": "https://localhost:8080/",
          "height": 206
        },
        "outputId": "5da17170-ac5d-41fd-e021-a05638ff5e93"
      },
      "source": [
        "train_data.head()"
      ],
      "execution_count": 13,
      "outputs": [
        {
          "output_type": "execute_result",
          "data": {
            "text/html": [
              "<div>\n",
              "<style scoped>\n",
              "    .dataframe tbody tr th:only-of-type {\n",
              "        vertical-align: middle;\n",
              "    }\n",
              "\n",
              "    .dataframe tbody tr th {\n",
              "        vertical-align: top;\n",
              "    }\n",
              "\n",
              "    .dataframe thead th {\n",
              "        text-align: right;\n",
              "    }\n",
              "</style>\n",
              "<table border=\"1\" class=\"dataframe\">\n",
              "  <thead>\n",
              "    <tr style=\"text-align: right;\">\n",
              "      <th></th>\n",
              "      <th>Survived</th>\n",
              "      <th>Pclass</th>\n",
              "      <th>Sex</th>\n",
              "      <th>Age</th>\n",
              "      <th>SibSp</th>\n",
              "      <th>Parch</th>\n",
              "      <th>Ticket</th>\n",
              "      <th>Fare</th>\n",
              "      <th>Embarked</th>\n",
              "    </tr>\n",
              "  </thead>\n",
              "  <tbody>\n",
              "    <tr>\n",
              "      <th>0</th>\n",
              "      <td>0</td>\n",
              "      <td>3</td>\n",
              "      <td>male</td>\n",
              "      <td>22.0</td>\n",
              "      <td>1</td>\n",
              "      <td>0</td>\n",
              "      <td>A/5 21171</td>\n",
              "      <td>7.2500</td>\n",
              "      <td>S</td>\n",
              "    </tr>\n",
              "    <tr>\n",
              "      <th>1</th>\n",
              "      <td>1</td>\n",
              "      <td>1</td>\n",
              "      <td>female</td>\n",
              "      <td>38.0</td>\n",
              "      <td>1</td>\n",
              "      <td>0</td>\n",
              "      <td>PC 17599</td>\n",
              "      <td>71.2833</td>\n",
              "      <td>C</td>\n",
              "    </tr>\n",
              "    <tr>\n",
              "      <th>2</th>\n",
              "      <td>1</td>\n",
              "      <td>3</td>\n",
              "      <td>female</td>\n",
              "      <td>26.0</td>\n",
              "      <td>0</td>\n",
              "      <td>0</td>\n",
              "      <td>STON/O2. 3101282</td>\n",
              "      <td>7.9250</td>\n",
              "      <td>S</td>\n",
              "    </tr>\n",
              "    <tr>\n",
              "      <th>3</th>\n",
              "      <td>1</td>\n",
              "      <td>1</td>\n",
              "      <td>female</td>\n",
              "      <td>35.0</td>\n",
              "      <td>1</td>\n",
              "      <td>0</td>\n",
              "      <td>113803</td>\n",
              "      <td>53.1000</td>\n",
              "      <td>S</td>\n",
              "    </tr>\n",
              "    <tr>\n",
              "      <th>4</th>\n",
              "      <td>0</td>\n",
              "      <td>3</td>\n",
              "      <td>male</td>\n",
              "      <td>35.0</td>\n",
              "      <td>0</td>\n",
              "      <td>0</td>\n",
              "      <td>373450</td>\n",
              "      <td>8.0500</td>\n",
              "      <td>S</td>\n",
              "    </tr>\n",
              "  </tbody>\n",
              "</table>\n",
              "</div>"
            ],
            "text/plain": [
              "   Survived  Pclass     Sex   Age  ...  Parch            Ticket     Fare  Embarked\n",
              "0         0       3    male  22.0  ...      0         A/5 21171   7.2500         S\n",
              "1         1       1  female  38.0  ...      0          PC 17599  71.2833         C\n",
              "2         1       3  female  26.0  ...      0  STON/O2. 3101282   7.9250         S\n",
              "3         1       1  female  35.0  ...      0            113803  53.1000         S\n",
              "4         0       3    male  35.0  ...      0            373450   8.0500         S\n",
              "\n",
              "[5 rows x 9 columns]"
            ]
          },
          "metadata": {
            "tags": []
          },
          "execution_count": 13
        }
      ]
    },
    {
      "cell_type": "code",
      "metadata": {
        "id": "cSpbEwnhBZo_",
        "colab_type": "code",
        "colab": {
          "base_uri": "https://localhost:8080/",
          "height": 295
        },
        "outputId": "27900b1e-1c71-430e-f017-c30277d35fa8"
      },
      "source": [
        "train_data.info()"
      ],
      "execution_count": 14,
      "outputs": [
        {
          "output_type": "stream",
          "text": [
            "<class 'pandas.core.frame.DataFrame'>\n",
            "RangeIndex: 891 entries, 0 to 890\n",
            "Data columns (total 9 columns):\n",
            " #   Column    Non-Null Count  Dtype  \n",
            "---  ------    --------------  -----  \n",
            " 0   Survived  891 non-null    int64  \n",
            " 1   Pclass    891 non-null    int64  \n",
            " 2   Sex       891 non-null    object \n",
            " 3   Age       714 non-null    float64\n",
            " 4   SibSp     891 non-null    int64  \n",
            " 5   Parch     891 non-null    int64  \n",
            " 6   Ticket    891 non-null    object \n",
            " 7   Fare      891 non-null    float64\n",
            " 8   Embarked  889 non-null    object \n",
            "dtypes: float64(2), int64(4), object(3)\n",
            "memory usage: 62.8+ KB\n"
          ],
          "name": "stdout"
        }
      ]
    },
    {
      "cell_type": "code",
      "metadata": {
        "id": "-JGgoaotB-Qa",
        "colab_type": "code",
        "colab": {
          "base_uri": "https://localhost:8080/",
          "height": 86
        },
        "outputId": "a03c2e3f-f171-40da-d96c-ecd49f451997"
      },
      "source": [
        "train_data.Embarked.value_counts()"
      ],
      "execution_count": 15,
      "outputs": [
        {
          "output_type": "execute_result",
          "data": {
            "text/plain": [
              "S    644\n",
              "C    168\n",
              "Q     77\n",
              "Name: Embarked, dtype: int64"
            ]
          },
          "metadata": {
            "tags": []
          },
          "execution_count": 15
        }
      ]
    },
    {
      "cell_type": "code",
      "metadata": {
        "id": "cshPtfgPCEtu",
        "colab_type": "code",
        "colab": {
          "base_uri": "https://localhost:8080/",
          "height": 206
        },
        "outputId": "43c6bae7-68cc-4512-c892-a98aa143f6f2"
      },
      "source": [
        "pd.crosstab(train_data.Embarked,train_data.Survived,margins=True)"
      ],
      "execution_count": 16,
      "outputs": [
        {
          "output_type": "execute_result",
          "data": {
            "text/html": [
              "<div>\n",
              "<style scoped>\n",
              "    .dataframe tbody tr th:only-of-type {\n",
              "        vertical-align: middle;\n",
              "    }\n",
              "\n",
              "    .dataframe tbody tr th {\n",
              "        vertical-align: top;\n",
              "    }\n",
              "\n",
              "    .dataframe thead th {\n",
              "        text-align: right;\n",
              "    }\n",
              "</style>\n",
              "<table border=\"1\" class=\"dataframe\">\n",
              "  <thead>\n",
              "    <tr style=\"text-align: right;\">\n",
              "      <th>Survived</th>\n",
              "      <th>0</th>\n",
              "      <th>1</th>\n",
              "      <th>All</th>\n",
              "    </tr>\n",
              "    <tr>\n",
              "      <th>Embarked</th>\n",
              "      <th></th>\n",
              "      <th></th>\n",
              "      <th></th>\n",
              "    </tr>\n",
              "  </thead>\n",
              "  <tbody>\n",
              "    <tr>\n",
              "      <th>C</th>\n",
              "      <td>75</td>\n",
              "      <td>93</td>\n",
              "      <td>168</td>\n",
              "    </tr>\n",
              "    <tr>\n",
              "      <th>Q</th>\n",
              "      <td>47</td>\n",
              "      <td>30</td>\n",
              "      <td>77</td>\n",
              "    </tr>\n",
              "    <tr>\n",
              "      <th>S</th>\n",
              "      <td>427</td>\n",
              "      <td>217</td>\n",
              "      <td>644</td>\n",
              "    </tr>\n",
              "    <tr>\n",
              "      <th>All</th>\n",
              "      <td>549</td>\n",
              "      <td>340</td>\n",
              "      <td>889</td>\n",
              "    </tr>\n",
              "  </tbody>\n",
              "</table>\n",
              "</div>"
            ],
            "text/plain": [
              "Survived    0    1  All\n",
              "Embarked               \n",
              "C          75   93  168\n",
              "Q          47   30   77\n",
              "S         427  217  644\n",
              "All       549  340  889"
            ]
          },
          "metadata": {
            "tags": []
          },
          "execution_count": 16
        }
      ]
    },
    {
      "cell_type": "code",
      "metadata": {
        "id": "Qgu7ms8HBjdz",
        "colab_type": "code",
        "colab": {}
      },
      "source": [
        "#filling in missing values\n",
        "\n",
        "train_data['Age'].fillna(train_data['Age'].mean(),inplace=True)"
      ],
      "execution_count": 17,
      "outputs": []
    },
    {
      "cell_type": "code",
      "metadata": {
        "id": "xmQ9BYOXB2K_",
        "colab_type": "code",
        "colab": {}
      },
      "source": [
        "#to fill non-numeric missing values \n",
        "train_data['Embarked'].fillna(train_data['Embarked'].value_counts().idxmax(),inplace=True)"
      ],
      "execution_count": 18,
      "outputs": []
    },
    {
      "cell_type": "code",
      "metadata": {
        "id": "ej11NnwfEGrz",
        "colab_type": "code",
        "colab": {
          "base_uri": "https://localhost:8080/",
          "height": 295
        },
        "outputId": "d684fb58-8c61-4552-a948-02a0b66e7e8c"
      },
      "source": [
        "train_data.info()"
      ],
      "execution_count": 19,
      "outputs": [
        {
          "output_type": "stream",
          "text": [
            "<class 'pandas.core.frame.DataFrame'>\n",
            "RangeIndex: 891 entries, 0 to 890\n",
            "Data columns (total 9 columns):\n",
            " #   Column    Non-Null Count  Dtype  \n",
            "---  ------    --------------  -----  \n",
            " 0   Survived  891 non-null    int64  \n",
            " 1   Pclass    891 non-null    int64  \n",
            " 2   Sex       891 non-null    object \n",
            " 3   Age       891 non-null    float64\n",
            " 4   SibSp     891 non-null    int64  \n",
            " 5   Parch     891 non-null    int64  \n",
            " 6   Ticket    891 non-null    object \n",
            " 7   Fare      891 non-null    float64\n",
            " 8   Embarked  891 non-null    object \n",
            "dtypes: float64(2), int64(4), object(3)\n",
            "memory usage: 62.8+ KB\n"
          ],
          "name": "stdout"
        }
      ]
    },
    {
      "cell_type": "code",
      "metadata": {
        "id": "4zTjdWnGETB8",
        "colab_type": "code",
        "colab": {
          "base_uri": "https://localhost:8080/",
          "height": 86
        },
        "outputId": "b963805f-9639-4a0a-a4d7-a53f7d8673fe"
      },
      "source": [
        "print(\"Non-Nummeric Features are :\")\n",
        "for feature,content in train_data.items():\n",
        "  if pd.api.types.is_string_dtype(content):\n",
        "    print(feature)\n",
        "\n"
      ],
      "execution_count": 20,
      "outputs": [
        {
          "output_type": "stream",
          "text": [
            "Non-Nummeric Features are :\n",
            "Sex\n",
            "Ticket\n",
            "Embarked\n"
          ],
          "name": "stdout"
        }
      ]
    },
    {
      "cell_type": "code",
      "metadata": {
        "id": "FKs0u7T8FMQY",
        "colab_type": "code",
        "colab": {}
      },
      "source": [
        "#Converting non-numeric into numeric type\n",
        "for feature,content in train_data.items():\n",
        "  if pd.api.types.is_string_dtype(content):\n",
        "    #Converting into categories\n",
        "    train_data[feature] = content.astype('category').cat.as_ordered()\n",
        "    #converting categories into codes\n",
        "    train_data[feature] = pd.Categorical(content).codes    "
      ],
      "execution_count": 21,
      "outputs": []
    },
    {
      "cell_type": "code",
      "metadata": {
        "id": "utZnATAcF3DT",
        "colab_type": "code",
        "colab": {
          "base_uri": "https://localhost:8080/",
          "height": 295
        },
        "outputId": "fd6b69dd-1c5e-49a5-b998-32dfa247e972"
      },
      "source": [
        "train_data.info()"
      ],
      "execution_count": 22,
      "outputs": [
        {
          "output_type": "stream",
          "text": [
            "<class 'pandas.core.frame.DataFrame'>\n",
            "RangeIndex: 891 entries, 0 to 890\n",
            "Data columns (total 9 columns):\n",
            " #   Column    Non-Null Count  Dtype  \n",
            "---  ------    --------------  -----  \n",
            " 0   Survived  891 non-null    int64  \n",
            " 1   Pclass    891 non-null    int64  \n",
            " 2   Sex       891 non-null    int8   \n",
            " 3   Age       891 non-null    float64\n",
            " 4   SibSp     891 non-null    int64  \n",
            " 5   Parch     891 non-null    int64  \n",
            " 6   Ticket    891 non-null    int16  \n",
            " 7   Fare      891 non-null    float64\n",
            " 8   Embarked  891 non-null    int8   \n",
            "dtypes: float64(2), int16(1), int64(4), int8(2)\n",
            "memory usage: 45.4 KB\n"
          ],
          "name": "stdout"
        }
      ]
    },
    {
      "cell_type": "code",
      "metadata": {
        "id": "zE4u6bRWF6R_",
        "colab_type": "code",
        "colab": {
          "base_uri": "https://localhost:8080/",
          "height": 34
        },
        "outputId": "d6e71285-c773-4cf6-f3b6-5e6bb58bd089"
      },
      "source": [
        "#Spliting the data into X & y\n",
        "X = train_data.drop('Survived',axis=1)\n",
        "y = train_data['Survived']\n",
        "\n",
        "#Splitting the data into Train & Validation sets\n",
        "X_train,X_val,y_train,y_val = train_test_split(X,y,random_state=42,test_size=0.2)\n",
        "\n",
        "X_train.shape,X_val.shape,y_train.shape,y_val.shape"
      ],
      "execution_count": 23,
      "outputs": [
        {
          "output_type": "execute_result",
          "data": {
            "text/plain": [
              "((712, 8), (179, 8), (712,), (179,))"
            ]
          },
          "metadata": {
            "tags": []
          },
          "execution_count": 23
        }
      ]
    },
    {
      "cell_type": "markdown",
      "metadata": {
        "id": "wnfjAh-Pig-y",
        "colab_type": "text"
      },
      "source": [
        "## 3. Training Model"
      ]
    },
    {
      "cell_type": "code",
      "metadata": {
        "id": "EfzPakZgHgtX",
        "colab_type": "code",
        "colab": {}
      },
      "source": [
        "rd = RandomForestClassifier(n_estimators = 15,random_state=0,max_depth=5)"
      ],
      "execution_count": 24,
      "outputs": []
    },
    {
      "cell_type": "code",
      "metadata": {
        "id": "93jKYg4rAbgI",
        "colab_type": "code",
        "colab": {
          "base_uri": "https://localhost:8080/",
          "height": 156
        },
        "outputId": "ffec3bfe-0132-453b-afdd-842f95f3aecb"
      },
      "source": [
        "rd.fit(X_train,y_train)"
      ],
      "execution_count": 25,
      "outputs": [
        {
          "output_type": "execute_result",
          "data": {
            "text/plain": [
              "RandomForestClassifier(bootstrap=True, ccp_alpha=0.0, class_weight=None,\n",
              "                       criterion='gini', max_depth=5, max_features='auto',\n",
              "                       max_leaf_nodes=None, max_samples=None,\n",
              "                       min_impurity_decrease=0.0, min_impurity_split=None,\n",
              "                       min_samples_leaf=1, min_samples_split=2,\n",
              "                       min_weight_fraction_leaf=0.0, n_estimators=15,\n",
              "                       n_jobs=None, oob_score=False, random_state=0, verbose=0,\n",
              "                       warm_start=False)"
            ]
          },
          "metadata": {
            "tags": []
          },
          "execution_count": 25
        }
      ]
    },
    {
      "cell_type": "code",
      "metadata": {
        "id": "-qZzAgx1AfWV",
        "colab_type": "code",
        "colab": {
          "base_uri": "https://localhost:8080/",
          "height": 34
        },
        "outputId": "ef648b1a-a8e5-4df9-de0a-769dd79953ee"
      },
      "source": [
        "rd.score(X_val,y_val),rd.score(X_train,y_train)"
      ],
      "execution_count": 26,
      "outputs": [
        {
          "output_type": "execute_result",
          "data": {
            "text/plain": [
              "(0.8156424581005587, 0.8665730337078652)"
            ]
          },
          "metadata": {
            "tags": []
          },
          "execution_count": 26
        }
      ]
    },
    {
      "cell_type": "markdown",
      "metadata": {
        "id": "arQ6SGlriu7Q",
        "colab_type": "text"
      },
      "source": [
        "## 4. Hyperparameter Tunning"
      ]
    },
    {
      "cell_type": "code",
      "metadata": {
        "id": "-gV9EYKjAmij",
        "colab_type": "code",
        "colab": {}
      },
      "source": [
        "#now use GridSearchCV to find the best set of hyperparameters\n",
        "grid = {'n_estimators':[13,15,20],\n",
        "        'max_depth':[5,7,None],\n",
        "        'min_samples_split':[2,4,7],\n",
        "        'min_samples_leaf':[1,3,5]}\n",
        "\n",
        "gd = GridSearchCV(rd,\n",
        "                  param_grid = grid,\n",
        "                  cv=4,\n",
        "                  verbose=2)"
      ],
      "execution_count": 27,
      "outputs": []
    },
    {
      "cell_type": "code",
      "metadata": {
        "id": "7PMxSTHDAsLf",
        "colab_type": "code",
        "colab": {
          "base_uri": "https://localhost:8080/",
          "height": 1000
        },
        "outputId": "87cc6adf-c79a-4dfd-a938-f2bd723edfe5"
      },
      "source": [
        "gd.fit(X_train,y_train)"
      ],
      "execution_count": 28,
      "outputs": [
        {
          "output_type": "stream",
          "text": [
            "Fitting 4 folds for each of 81 candidates, totalling 324 fits\n",
            "[CV] max_depth=5, min_samples_leaf=1, min_samples_split=2, n_estimators=13 \n",
            "[CV]  max_depth=5, min_samples_leaf=1, min_samples_split=2, n_estimators=13, total=   0.0s\n",
            "[CV] max_depth=5, min_samples_leaf=1, min_samples_split=2, n_estimators=13 \n",
            "[CV]  max_depth=5, min_samples_leaf=1, min_samples_split=2, n_estimators=13, total=   0.0s\n",
            "[CV] max_depth=5, min_samples_leaf=1, min_samples_split=2, n_estimators=13 \n",
            "[CV]  max_depth=5, min_samples_leaf=1, min_samples_split=2, n_estimators=13, total=   0.0s\n",
            "[CV] max_depth=5, min_samples_leaf=1, min_samples_split=2, n_estimators=13 \n",
            "[CV]  max_depth=5, min_samples_leaf=1, min_samples_split=2, n_estimators=13, total=   0.0s\n",
            "[CV] max_depth=5, min_samples_leaf=1, min_samples_split=2, n_estimators=15 \n",
            "[CV]  max_depth=5, min_samples_leaf=1, min_samples_split=2, n_estimators=15, total=   0.0s\n",
            "[CV] max_depth=5, min_samples_leaf=1, min_samples_split=2, n_estimators=15 \n",
            "[CV]  max_depth=5, min_samples_leaf=1, min_samples_split=2, n_estimators=15, total=   0.0s\n",
            "[CV] max_depth=5, min_samples_leaf=1, min_samples_split=2, n_estimators=15 \n"
          ],
          "name": "stdout"
        },
        {
          "output_type": "stream",
          "text": [
            "[Parallel(n_jobs=1)]: Using backend SequentialBackend with 1 concurrent workers.\n",
            "[Parallel(n_jobs=1)]: Done   1 out of   1 | elapsed:    0.0s remaining:    0.0s\n"
          ],
          "name": "stderr"
        },
        {
          "output_type": "stream",
          "text": [
            "[CV]  max_depth=5, min_samples_leaf=1, min_samples_split=2, n_estimators=15, total=   0.0s\n",
            "[CV] max_depth=5, min_samples_leaf=1, min_samples_split=2, n_estimators=15 \n",
            "[CV]  max_depth=5, min_samples_leaf=1, min_samples_split=2, n_estimators=15, total=   0.0s\n",
            "[CV] max_depth=5, min_samples_leaf=1, min_samples_split=2, n_estimators=20 \n",
            "[CV]  max_depth=5, min_samples_leaf=1, min_samples_split=2, n_estimators=20, total=   0.0s\n",
            "[CV] max_depth=5, min_samples_leaf=1, min_samples_split=2, n_estimators=20 \n",
            "[CV]  max_depth=5, min_samples_leaf=1, min_samples_split=2, n_estimators=20, total=   0.0s\n",
            "[CV] max_depth=5, min_samples_leaf=1, min_samples_split=2, n_estimators=20 \n",
            "[CV]  max_depth=5, min_samples_leaf=1, min_samples_split=2, n_estimators=20, total=   0.1s\n",
            "[CV] max_depth=5, min_samples_leaf=1, min_samples_split=2, n_estimators=20 \n",
            "[CV]  max_depth=5, min_samples_leaf=1, min_samples_split=2, n_estimators=20, total=   0.0s\n",
            "[CV] max_depth=5, min_samples_leaf=1, min_samples_split=4, n_estimators=13 \n",
            "[CV]  max_depth=5, min_samples_leaf=1, min_samples_split=4, n_estimators=13, total=   0.0s\n",
            "[CV] max_depth=5, min_samples_leaf=1, min_samples_split=4, n_estimators=13 \n",
            "[CV]  max_depth=5, min_samples_leaf=1, min_samples_split=4, n_estimators=13, total=   0.0s\n",
            "[CV] max_depth=5, min_samples_leaf=1, min_samples_split=4, n_estimators=13 \n",
            "[CV]  max_depth=5, min_samples_leaf=1, min_samples_split=4, n_estimators=13, total=   0.0s\n",
            "[CV] max_depth=5, min_samples_leaf=1, min_samples_split=4, n_estimators=13 \n",
            "[CV]  max_depth=5, min_samples_leaf=1, min_samples_split=4, n_estimators=13, total=   0.0s\n",
            "[CV] max_depth=5, min_samples_leaf=1, min_samples_split=4, n_estimators=15 \n",
            "[CV]  max_depth=5, min_samples_leaf=1, min_samples_split=4, n_estimators=15, total=   0.0s\n",
            "[CV] max_depth=5, min_samples_leaf=1, min_samples_split=4, n_estimators=15 \n",
            "[CV]  max_depth=5, min_samples_leaf=1, min_samples_split=4, n_estimators=15, total=   0.0s\n",
            "[CV] max_depth=5, min_samples_leaf=1, min_samples_split=4, n_estimators=15 \n",
            "[CV]  max_depth=5, min_samples_leaf=1, min_samples_split=4, n_estimators=15, total=   0.0s\n",
            "[CV] max_depth=5, min_samples_leaf=1, min_samples_split=4, n_estimators=15 \n",
            "[CV]  max_depth=5, min_samples_leaf=1, min_samples_split=4, n_estimators=15, total=   0.0s\n",
            "[CV] max_depth=5, min_samples_leaf=1, min_samples_split=4, n_estimators=20 \n",
            "[CV]  max_depth=5, min_samples_leaf=1, min_samples_split=4, n_estimators=20, total=   0.0s\n",
            "[CV] max_depth=5, min_samples_leaf=1, min_samples_split=4, n_estimators=20 \n",
            "[CV]  max_depth=5, min_samples_leaf=1, min_samples_split=4, n_estimators=20, total=   0.0s\n",
            "[CV] max_depth=5, min_samples_leaf=1, min_samples_split=4, n_estimators=20 \n",
            "[CV]  max_depth=5, min_samples_leaf=1, min_samples_split=4, n_estimators=20, total=   0.0s\n",
            "[CV] max_depth=5, min_samples_leaf=1, min_samples_split=4, n_estimators=20 \n",
            "[CV]  max_depth=5, min_samples_leaf=1, min_samples_split=4, n_estimators=20, total=   0.0s\n",
            "[CV] max_depth=5, min_samples_leaf=1, min_samples_split=7, n_estimators=13 \n",
            "[CV]  max_depth=5, min_samples_leaf=1, min_samples_split=7, n_estimators=13, total=   0.0s\n",
            "[CV] max_depth=5, min_samples_leaf=1, min_samples_split=7, n_estimators=13 \n",
            "[CV]  max_depth=5, min_samples_leaf=1, min_samples_split=7, n_estimators=13, total=   0.0s\n",
            "[CV] max_depth=5, min_samples_leaf=1, min_samples_split=7, n_estimators=13 \n",
            "[CV]  max_depth=5, min_samples_leaf=1, min_samples_split=7, n_estimators=13, total=   0.0s\n",
            "[CV] max_depth=5, min_samples_leaf=1, min_samples_split=7, n_estimators=13 \n",
            "[CV]  max_depth=5, min_samples_leaf=1, min_samples_split=7, n_estimators=13, total=   0.0s\n",
            "[CV] max_depth=5, min_samples_leaf=1, min_samples_split=7, n_estimators=15 \n",
            "[CV]  max_depth=5, min_samples_leaf=1, min_samples_split=7, n_estimators=15, total=   0.0s\n",
            "[CV] max_depth=5, min_samples_leaf=1, min_samples_split=7, n_estimators=15 \n",
            "[CV]  max_depth=5, min_samples_leaf=1, min_samples_split=7, n_estimators=15, total=   0.0s\n",
            "[CV] max_depth=5, min_samples_leaf=1, min_samples_split=7, n_estimators=15 \n",
            "[CV]  max_depth=5, min_samples_leaf=1, min_samples_split=7, n_estimators=15, total=   0.0s\n",
            "[CV] max_depth=5, min_samples_leaf=1, min_samples_split=7, n_estimators=15 \n",
            "[CV]  max_depth=5, min_samples_leaf=1, min_samples_split=7, n_estimators=15, total=   0.0s\n",
            "[CV] max_depth=5, min_samples_leaf=1, min_samples_split=7, n_estimators=20 \n",
            "[CV]  max_depth=5, min_samples_leaf=1, min_samples_split=7, n_estimators=20, total=   0.0s\n",
            "[CV] max_depth=5, min_samples_leaf=1, min_samples_split=7, n_estimators=20 \n",
            "[CV]  max_depth=5, min_samples_leaf=1, min_samples_split=7, n_estimators=20, total=   0.0s\n",
            "[CV] max_depth=5, min_samples_leaf=1, min_samples_split=7, n_estimators=20 \n",
            "[CV]  max_depth=5, min_samples_leaf=1, min_samples_split=7, n_estimators=20, total=   0.0s\n",
            "[CV] max_depth=5, min_samples_leaf=1, min_samples_split=7, n_estimators=20 \n",
            "[CV]  max_depth=5, min_samples_leaf=1, min_samples_split=7, n_estimators=20, total=   0.0s\n",
            "[CV] max_depth=5, min_samples_leaf=3, min_samples_split=2, n_estimators=13 \n",
            "[CV]  max_depth=5, min_samples_leaf=3, min_samples_split=2, n_estimators=13, total=   0.0s\n",
            "[CV] max_depth=5, min_samples_leaf=3, min_samples_split=2, n_estimators=13 \n",
            "[CV]  max_depth=5, min_samples_leaf=3, min_samples_split=2, n_estimators=13, total=   0.0s\n",
            "[CV] max_depth=5, min_samples_leaf=3, min_samples_split=2, n_estimators=13 \n",
            "[CV]  max_depth=5, min_samples_leaf=3, min_samples_split=2, n_estimators=13, total=   0.0s\n",
            "[CV] max_depth=5, min_samples_leaf=3, min_samples_split=2, n_estimators=13 \n",
            "[CV]  max_depth=5, min_samples_leaf=3, min_samples_split=2, n_estimators=13, total=   0.0s\n",
            "[CV] max_depth=5, min_samples_leaf=3, min_samples_split=2, n_estimators=15 \n",
            "[CV]  max_depth=5, min_samples_leaf=3, min_samples_split=2, n_estimators=15, total=   0.0s\n",
            "[CV] max_depth=5, min_samples_leaf=3, min_samples_split=2, n_estimators=15 \n",
            "[CV]  max_depth=5, min_samples_leaf=3, min_samples_split=2, n_estimators=15, total=   0.0s\n",
            "[CV] max_depth=5, min_samples_leaf=3, min_samples_split=2, n_estimators=15 \n",
            "[CV]  max_depth=5, min_samples_leaf=3, min_samples_split=2, n_estimators=15, total=   0.0s\n",
            "[CV] max_depth=5, min_samples_leaf=3, min_samples_split=2, n_estimators=15 \n",
            "[CV]  max_depth=5, min_samples_leaf=3, min_samples_split=2, n_estimators=15, total=   0.0s\n",
            "[CV] max_depth=5, min_samples_leaf=3, min_samples_split=2, n_estimators=20 \n",
            "[CV]  max_depth=5, min_samples_leaf=3, min_samples_split=2, n_estimators=20, total=   0.0s\n",
            "[CV] max_depth=5, min_samples_leaf=3, min_samples_split=2, n_estimators=20 \n",
            "[CV]  max_depth=5, min_samples_leaf=3, min_samples_split=2, n_estimators=20, total=   0.0s\n",
            "[CV] max_depth=5, min_samples_leaf=3, min_samples_split=2, n_estimators=20 \n",
            "[CV]  max_depth=5, min_samples_leaf=3, min_samples_split=2, n_estimators=20, total=   0.0s\n",
            "[CV] max_depth=5, min_samples_leaf=3, min_samples_split=2, n_estimators=20 \n",
            "[CV]  max_depth=5, min_samples_leaf=3, min_samples_split=2, n_estimators=20, total=   0.0s\n",
            "[CV] max_depth=5, min_samples_leaf=3, min_samples_split=4, n_estimators=13 \n",
            "[CV]  max_depth=5, min_samples_leaf=3, min_samples_split=4, n_estimators=13, total=   0.0s\n",
            "[CV] max_depth=5, min_samples_leaf=3, min_samples_split=4, n_estimators=13 \n",
            "[CV]  max_depth=5, min_samples_leaf=3, min_samples_split=4, n_estimators=13, total=   0.0s\n",
            "[CV] max_depth=5, min_samples_leaf=3, min_samples_split=4, n_estimators=13 \n",
            "[CV]  max_depth=5, min_samples_leaf=3, min_samples_split=4, n_estimators=13, total=   0.0s\n",
            "[CV] max_depth=5, min_samples_leaf=3, min_samples_split=4, n_estimators=13 \n",
            "[CV]  max_depth=5, min_samples_leaf=3, min_samples_split=4, n_estimators=13, total=   0.0s\n",
            "[CV] max_depth=5, min_samples_leaf=3, min_samples_split=4, n_estimators=15 \n",
            "[CV]  max_depth=5, min_samples_leaf=3, min_samples_split=4, n_estimators=15, total=   0.0s\n",
            "[CV] max_depth=5, min_samples_leaf=3, min_samples_split=4, n_estimators=15 \n",
            "[CV]  max_depth=5, min_samples_leaf=3, min_samples_split=4, n_estimators=15, total=   0.0s\n",
            "[CV] max_depth=5, min_samples_leaf=3, min_samples_split=4, n_estimators=15 \n",
            "[CV]  max_depth=5, min_samples_leaf=3, min_samples_split=4, n_estimators=15, total=   0.0s\n",
            "[CV] max_depth=5, min_samples_leaf=3, min_samples_split=4, n_estimators=15 \n",
            "[CV]  max_depth=5, min_samples_leaf=3, min_samples_split=4, n_estimators=15, total=   0.0s\n",
            "[CV] max_depth=5, min_samples_leaf=3, min_samples_split=4, n_estimators=20 \n",
            "[CV]  max_depth=5, min_samples_leaf=3, min_samples_split=4, n_estimators=20, total=   0.0s\n",
            "[CV] max_depth=5, min_samples_leaf=3, min_samples_split=4, n_estimators=20 \n",
            "[CV]  max_depth=5, min_samples_leaf=3, min_samples_split=4, n_estimators=20, total=   0.0s\n",
            "[CV] max_depth=5, min_samples_leaf=3, min_samples_split=4, n_estimators=20 \n",
            "[CV]  max_depth=5, min_samples_leaf=3, min_samples_split=4, n_estimators=20, total=   0.0s\n",
            "[CV] max_depth=5, min_samples_leaf=3, min_samples_split=4, n_estimators=20 \n",
            "[CV]  max_depth=5, min_samples_leaf=3, min_samples_split=4, n_estimators=20, total=   0.0s\n",
            "[CV] max_depth=5, min_samples_leaf=3, min_samples_split=7, n_estimators=13 \n",
            "[CV]  max_depth=5, min_samples_leaf=3, min_samples_split=7, n_estimators=13, total=   0.0s\n",
            "[CV] max_depth=5, min_samples_leaf=3, min_samples_split=7, n_estimators=13 \n",
            "[CV]  max_depth=5, min_samples_leaf=3, min_samples_split=7, n_estimators=13, total=   0.0s\n",
            "[CV] max_depth=5, min_samples_leaf=3, min_samples_split=7, n_estimators=13 \n",
            "[CV]  max_depth=5, min_samples_leaf=3, min_samples_split=7, n_estimators=13, total=   0.0s\n",
            "[CV] max_depth=5, min_samples_leaf=3, min_samples_split=7, n_estimators=13 \n",
            "[CV]  max_depth=5, min_samples_leaf=3, min_samples_split=7, n_estimators=13, total=   0.0s\n",
            "[CV] max_depth=5, min_samples_leaf=3, min_samples_split=7, n_estimators=15 \n",
            "[CV]  max_depth=5, min_samples_leaf=3, min_samples_split=7, n_estimators=15, total=   0.0s\n",
            "[CV] max_depth=5, min_samples_leaf=3, min_samples_split=7, n_estimators=15 \n",
            "[CV]  max_depth=5, min_samples_leaf=3, min_samples_split=7, n_estimators=15, total=   0.0s\n",
            "[CV] max_depth=5, min_samples_leaf=3, min_samples_split=7, n_estimators=15 \n",
            "[CV]  max_depth=5, min_samples_leaf=3, min_samples_split=7, n_estimators=15, total=   0.0s\n",
            "[CV] max_depth=5, min_samples_leaf=3, min_samples_split=7, n_estimators=15 \n",
            "[CV]  max_depth=5, min_samples_leaf=3, min_samples_split=7, n_estimators=15, total=   0.0s\n",
            "[CV] max_depth=5, min_samples_leaf=3, min_samples_split=7, n_estimators=20 \n",
            "[CV]  max_depth=5, min_samples_leaf=3, min_samples_split=7, n_estimators=20, total=   0.0s\n",
            "[CV] max_depth=5, min_samples_leaf=3, min_samples_split=7, n_estimators=20 \n",
            "[CV]  max_depth=5, min_samples_leaf=3, min_samples_split=7, n_estimators=20, total=   0.0s\n",
            "[CV] max_depth=5, min_samples_leaf=3, min_samples_split=7, n_estimators=20 \n",
            "[CV]  max_depth=5, min_samples_leaf=3, min_samples_split=7, n_estimators=20, total=   0.0s\n",
            "[CV] max_depth=5, min_samples_leaf=3, min_samples_split=7, n_estimators=20 \n",
            "[CV]  max_depth=5, min_samples_leaf=3, min_samples_split=7, n_estimators=20, total=   0.0s\n",
            "[CV] max_depth=5, min_samples_leaf=5, min_samples_split=2, n_estimators=13 \n",
            "[CV]  max_depth=5, min_samples_leaf=5, min_samples_split=2, n_estimators=13, total=   0.0s\n",
            "[CV] max_depth=5, min_samples_leaf=5, min_samples_split=2, n_estimators=13 \n",
            "[CV]  max_depth=5, min_samples_leaf=5, min_samples_split=2, n_estimators=13, total=   0.0s\n",
            "[CV] max_depth=5, min_samples_leaf=5, min_samples_split=2, n_estimators=13 \n",
            "[CV]  max_depth=5, min_samples_leaf=5, min_samples_split=2, n_estimators=13, total=   0.0s\n",
            "[CV] max_depth=5, min_samples_leaf=5, min_samples_split=2, n_estimators=13 \n",
            "[CV]  max_depth=5, min_samples_leaf=5, min_samples_split=2, n_estimators=13, total=   0.0s\n",
            "[CV] max_depth=5, min_samples_leaf=5, min_samples_split=2, n_estimators=15 \n",
            "[CV]  max_depth=5, min_samples_leaf=5, min_samples_split=2, n_estimators=15, total=   0.0s\n",
            "[CV] max_depth=5, min_samples_leaf=5, min_samples_split=2, n_estimators=15 \n",
            "[CV]  max_depth=5, min_samples_leaf=5, min_samples_split=2, n_estimators=15, total=   0.0s\n",
            "[CV] max_depth=5, min_samples_leaf=5, min_samples_split=2, n_estimators=15 \n",
            "[CV]  max_depth=5, min_samples_leaf=5, min_samples_split=2, n_estimators=15, total=   0.0s\n",
            "[CV] max_depth=5, min_samples_leaf=5, min_samples_split=2, n_estimators=15 \n",
            "[CV]  max_depth=5, min_samples_leaf=5, min_samples_split=2, n_estimators=15, total=   0.0s\n",
            "[CV] max_depth=5, min_samples_leaf=5, min_samples_split=2, n_estimators=20 \n",
            "[CV]  max_depth=5, min_samples_leaf=5, min_samples_split=2, n_estimators=20, total=   0.0s\n",
            "[CV] max_depth=5, min_samples_leaf=5, min_samples_split=2, n_estimators=20 \n",
            "[CV]  max_depth=5, min_samples_leaf=5, min_samples_split=2, n_estimators=20, total=   0.0s\n",
            "[CV] max_depth=5, min_samples_leaf=5, min_samples_split=2, n_estimators=20 \n",
            "[CV]  max_depth=5, min_samples_leaf=5, min_samples_split=2, n_estimators=20, total=   0.0s\n",
            "[CV] max_depth=5, min_samples_leaf=5, min_samples_split=2, n_estimators=20 \n",
            "[CV]  max_depth=5, min_samples_leaf=5, min_samples_split=2, n_estimators=20, total=   0.0s\n",
            "[CV] max_depth=5, min_samples_leaf=5, min_samples_split=4, n_estimators=13 \n",
            "[CV]  max_depth=5, min_samples_leaf=5, min_samples_split=4, n_estimators=13, total=   0.0s\n",
            "[CV] max_depth=5, min_samples_leaf=5, min_samples_split=4, n_estimators=13 \n",
            "[CV]  max_depth=5, min_samples_leaf=5, min_samples_split=4, n_estimators=13, total=   0.0s\n",
            "[CV] max_depth=5, min_samples_leaf=5, min_samples_split=4, n_estimators=13 \n",
            "[CV]  max_depth=5, min_samples_leaf=5, min_samples_split=4, n_estimators=13, total=   0.0s\n",
            "[CV] max_depth=5, min_samples_leaf=5, min_samples_split=4, n_estimators=13 \n",
            "[CV]  max_depth=5, min_samples_leaf=5, min_samples_split=4, n_estimators=13, total=   0.0s\n",
            "[CV] max_depth=5, min_samples_leaf=5, min_samples_split=4, n_estimators=15 \n",
            "[CV]  max_depth=5, min_samples_leaf=5, min_samples_split=4, n_estimators=15, total=   0.0s\n",
            "[CV] max_depth=5, min_samples_leaf=5, min_samples_split=4, n_estimators=15 \n",
            "[CV]  max_depth=5, min_samples_leaf=5, min_samples_split=4, n_estimators=15, total=   0.0s\n",
            "[CV] max_depth=5, min_samples_leaf=5, min_samples_split=4, n_estimators=15 \n",
            "[CV]  max_depth=5, min_samples_leaf=5, min_samples_split=4, n_estimators=15, total=   0.0s\n",
            "[CV] max_depth=5, min_samples_leaf=5, min_samples_split=4, n_estimators=15 \n",
            "[CV]  max_depth=5, min_samples_leaf=5, min_samples_split=4, n_estimators=15, total=   0.0s\n",
            "[CV] max_depth=5, min_samples_leaf=5, min_samples_split=4, n_estimators=20 \n",
            "[CV]  max_depth=5, min_samples_leaf=5, min_samples_split=4, n_estimators=20, total=   0.0s\n",
            "[CV] max_depth=5, min_samples_leaf=5, min_samples_split=4, n_estimators=20 \n",
            "[CV]  max_depth=5, min_samples_leaf=5, min_samples_split=4, n_estimators=20, total=   0.0s\n",
            "[CV] max_depth=5, min_samples_leaf=5, min_samples_split=4, n_estimators=20 \n",
            "[CV]  max_depth=5, min_samples_leaf=5, min_samples_split=4, n_estimators=20, total=   0.0s\n",
            "[CV] max_depth=5, min_samples_leaf=5, min_samples_split=4, n_estimators=20 \n",
            "[CV]  max_depth=5, min_samples_leaf=5, min_samples_split=4, n_estimators=20, total=   0.0s\n",
            "[CV] max_depth=5, min_samples_leaf=5, min_samples_split=7, n_estimators=13 \n",
            "[CV]  max_depth=5, min_samples_leaf=5, min_samples_split=7, n_estimators=13, total=   0.0s\n",
            "[CV] max_depth=5, min_samples_leaf=5, min_samples_split=7, n_estimators=13 \n",
            "[CV]  max_depth=5, min_samples_leaf=5, min_samples_split=7, n_estimators=13, total=   0.0s\n",
            "[CV] max_depth=5, min_samples_leaf=5, min_samples_split=7, n_estimators=13 \n",
            "[CV]  max_depth=5, min_samples_leaf=5, min_samples_split=7, n_estimators=13, total=   0.0s\n",
            "[CV] max_depth=5, min_samples_leaf=5, min_samples_split=7, n_estimators=13 \n",
            "[CV]  max_depth=5, min_samples_leaf=5, min_samples_split=7, n_estimators=13, total=   0.0s\n",
            "[CV] max_depth=5, min_samples_leaf=5, min_samples_split=7, n_estimators=15 \n",
            "[CV]  max_depth=5, min_samples_leaf=5, min_samples_split=7, n_estimators=15, total=   0.0s\n",
            "[CV] max_depth=5, min_samples_leaf=5, min_samples_split=7, n_estimators=15 \n",
            "[CV]  max_depth=5, min_samples_leaf=5, min_samples_split=7, n_estimators=15, total=   0.0s\n",
            "[CV] max_depth=5, min_samples_leaf=5, min_samples_split=7, n_estimators=15 \n",
            "[CV]  max_depth=5, min_samples_leaf=5, min_samples_split=7, n_estimators=15, total=   0.0s\n",
            "[CV] max_depth=5, min_samples_leaf=5, min_samples_split=7, n_estimators=15 \n",
            "[CV]  max_depth=5, min_samples_leaf=5, min_samples_split=7, n_estimators=15, total=   0.0s\n",
            "[CV] max_depth=5, min_samples_leaf=5, min_samples_split=7, n_estimators=20 \n",
            "[CV]  max_depth=5, min_samples_leaf=5, min_samples_split=7, n_estimators=20, total=   0.0s\n",
            "[CV] max_depth=5, min_samples_leaf=5, min_samples_split=7, n_estimators=20 \n",
            "[CV]  max_depth=5, min_samples_leaf=5, min_samples_split=7, n_estimators=20, total=   0.1s\n",
            "[CV] max_depth=5, min_samples_leaf=5, min_samples_split=7, n_estimators=20 \n",
            "[CV]  max_depth=5, min_samples_leaf=5, min_samples_split=7, n_estimators=20, total=   0.0s\n",
            "[CV] max_depth=5, min_samples_leaf=5, min_samples_split=7, n_estimators=20 \n",
            "[CV]  max_depth=5, min_samples_leaf=5, min_samples_split=7, n_estimators=20, total=   0.0s\n",
            "[CV] max_depth=7, min_samples_leaf=1, min_samples_split=2, n_estimators=13 \n",
            "[CV]  max_depth=7, min_samples_leaf=1, min_samples_split=2, n_estimators=13, total=   0.0s\n",
            "[CV] max_depth=7, min_samples_leaf=1, min_samples_split=2, n_estimators=13 \n",
            "[CV]  max_depth=7, min_samples_leaf=1, min_samples_split=2, n_estimators=13, total=   0.0s\n",
            "[CV] max_depth=7, min_samples_leaf=1, min_samples_split=2, n_estimators=13 \n",
            "[CV]  max_depth=7, min_samples_leaf=1, min_samples_split=2, n_estimators=13, total=   0.0s\n",
            "[CV] max_depth=7, min_samples_leaf=1, min_samples_split=2, n_estimators=13 \n",
            "[CV]  max_depth=7, min_samples_leaf=1, min_samples_split=2, n_estimators=13, total=   0.0s\n",
            "[CV] max_depth=7, min_samples_leaf=1, min_samples_split=2, n_estimators=15 \n",
            "[CV]  max_depth=7, min_samples_leaf=1, min_samples_split=2, n_estimators=15, total=   0.0s\n",
            "[CV] max_depth=7, min_samples_leaf=1, min_samples_split=2, n_estimators=15 \n",
            "[CV]  max_depth=7, min_samples_leaf=1, min_samples_split=2, n_estimators=15, total=   0.0s\n",
            "[CV] max_depth=7, min_samples_leaf=1, min_samples_split=2, n_estimators=15 \n",
            "[CV]  max_depth=7, min_samples_leaf=1, min_samples_split=2, n_estimators=15, total=   0.0s\n",
            "[CV] max_depth=7, min_samples_leaf=1, min_samples_split=2, n_estimators=15 \n",
            "[CV]  max_depth=7, min_samples_leaf=1, min_samples_split=2, n_estimators=15, total=   0.0s\n",
            "[CV] max_depth=7, min_samples_leaf=1, min_samples_split=2, n_estimators=20 \n",
            "[CV]  max_depth=7, min_samples_leaf=1, min_samples_split=2, n_estimators=20, total=   0.0s\n",
            "[CV] max_depth=7, min_samples_leaf=1, min_samples_split=2, n_estimators=20 \n",
            "[CV]  max_depth=7, min_samples_leaf=1, min_samples_split=2, n_estimators=20, total=   0.0s\n",
            "[CV] max_depth=7, min_samples_leaf=1, min_samples_split=2, n_estimators=20 \n",
            "[CV]  max_depth=7, min_samples_leaf=1, min_samples_split=2, n_estimators=20, total=   0.0s\n",
            "[CV] max_depth=7, min_samples_leaf=1, min_samples_split=2, n_estimators=20 \n",
            "[CV]  max_depth=7, min_samples_leaf=1, min_samples_split=2, n_estimators=20, total=   0.0s\n",
            "[CV] max_depth=7, min_samples_leaf=1, min_samples_split=4, n_estimators=13 \n",
            "[CV]  max_depth=7, min_samples_leaf=1, min_samples_split=4, n_estimators=13, total=   0.0s\n",
            "[CV] max_depth=7, min_samples_leaf=1, min_samples_split=4, n_estimators=13 \n",
            "[CV]  max_depth=7, min_samples_leaf=1, min_samples_split=4, n_estimators=13, total=   0.0s\n",
            "[CV] max_depth=7, min_samples_leaf=1, min_samples_split=4, n_estimators=13 \n",
            "[CV]  max_depth=7, min_samples_leaf=1, min_samples_split=4, n_estimators=13, total=   0.0s\n",
            "[CV] max_depth=7, min_samples_leaf=1, min_samples_split=4, n_estimators=13 \n",
            "[CV]  max_depth=7, min_samples_leaf=1, min_samples_split=4, n_estimators=13, total=   0.0s\n",
            "[CV] max_depth=7, min_samples_leaf=1, min_samples_split=4, n_estimators=15 \n",
            "[CV]  max_depth=7, min_samples_leaf=1, min_samples_split=4, n_estimators=15, total=   0.0s\n",
            "[CV] max_depth=7, min_samples_leaf=1, min_samples_split=4, n_estimators=15 \n",
            "[CV]  max_depth=7, min_samples_leaf=1, min_samples_split=4, n_estimators=15, total=   0.0s\n",
            "[CV] max_depth=7, min_samples_leaf=1, min_samples_split=4, n_estimators=15 \n",
            "[CV]  max_depth=7, min_samples_leaf=1, min_samples_split=4, n_estimators=15, total=   0.0s\n",
            "[CV] max_depth=7, min_samples_leaf=1, min_samples_split=4, n_estimators=15 \n",
            "[CV]  max_depth=7, min_samples_leaf=1, min_samples_split=4, n_estimators=15, total=   0.0s\n",
            "[CV] max_depth=7, min_samples_leaf=1, min_samples_split=4, n_estimators=20 \n",
            "[CV]  max_depth=7, min_samples_leaf=1, min_samples_split=4, n_estimators=20, total=   0.0s\n",
            "[CV] max_depth=7, min_samples_leaf=1, min_samples_split=4, n_estimators=20 \n",
            "[CV]  max_depth=7, min_samples_leaf=1, min_samples_split=4, n_estimators=20, total=   0.0s\n",
            "[CV] max_depth=7, min_samples_leaf=1, min_samples_split=4, n_estimators=20 \n",
            "[CV]  max_depth=7, min_samples_leaf=1, min_samples_split=4, n_estimators=20, total=   0.0s\n",
            "[CV] max_depth=7, min_samples_leaf=1, min_samples_split=4, n_estimators=20 \n",
            "[CV]  max_depth=7, min_samples_leaf=1, min_samples_split=4, n_estimators=20, total=   0.0s\n",
            "[CV] max_depth=7, min_samples_leaf=1, min_samples_split=7, n_estimators=13 \n",
            "[CV]  max_depth=7, min_samples_leaf=1, min_samples_split=7, n_estimators=13, total=   0.0s\n",
            "[CV] max_depth=7, min_samples_leaf=1, min_samples_split=7, n_estimators=13 \n",
            "[CV]  max_depth=7, min_samples_leaf=1, min_samples_split=7, n_estimators=13, total=   0.0s\n",
            "[CV] max_depth=7, min_samples_leaf=1, min_samples_split=7, n_estimators=13 \n",
            "[CV]  max_depth=7, min_samples_leaf=1, min_samples_split=7, n_estimators=13, total=   0.0s\n",
            "[CV] max_depth=7, min_samples_leaf=1, min_samples_split=7, n_estimators=13 \n",
            "[CV]  max_depth=7, min_samples_leaf=1, min_samples_split=7, n_estimators=13, total=   0.0s\n",
            "[CV] max_depth=7, min_samples_leaf=1, min_samples_split=7, n_estimators=15 \n",
            "[CV]  max_depth=7, min_samples_leaf=1, min_samples_split=7, n_estimators=15, total=   0.0s\n",
            "[CV] max_depth=7, min_samples_leaf=1, min_samples_split=7, n_estimators=15 \n",
            "[CV]  max_depth=7, min_samples_leaf=1, min_samples_split=7, n_estimators=15, total=   0.0s\n",
            "[CV] max_depth=7, min_samples_leaf=1, min_samples_split=7, n_estimators=15 \n",
            "[CV]  max_depth=7, min_samples_leaf=1, min_samples_split=7, n_estimators=15, total=   0.0s\n",
            "[CV] max_depth=7, min_samples_leaf=1, min_samples_split=7, n_estimators=15 \n",
            "[CV]  max_depth=7, min_samples_leaf=1, min_samples_split=7, n_estimators=15, total=   0.0s\n",
            "[CV] max_depth=7, min_samples_leaf=1, min_samples_split=7, n_estimators=20 \n",
            "[CV]  max_depth=7, min_samples_leaf=1, min_samples_split=7, n_estimators=20, total=   0.0s\n",
            "[CV] max_depth=7, min_samples_leaf=1, min_samples_split=7, n_estimators=20 \n",
            "[CV]  max_depth=7, min_samples_leaf=1, min_samples_split=7, n_estimators=20, total=   0.0s\n",
            "[CV] max_depth=7, min_samples_leaf=1, min_samples_split=7, n_estimators=20 \n",
            "[CV]  max_depth=7, min_samples_leaf=1, min_samples_split=7, n_estimators=20, total=   0.0s\n",
            "[CV] max_depth=7, min_samples_leaf=1, min_samples_split=7, n_estimators=20 \n",
            "[CV]  max_depth=7, min_samples_leaf=1, min_samples_split=7, n_estimators=20, total=   0.0s\n",
            "[CV] max_depth=7, min_samples_leaf=3, min_samples_split=2, n_estimators=13 \n",
            "[CV]  max_depth=7, min_samples_leaf=3, min_samples_split=2, n_estimators=13, total=   0.0s\n",
            "[CV] max_depth=7, min_samples_leaf=3, min_samples_split=2, n_estimators=13 \n",
            "[CV]  max_depth=7, min_samples_leaf=3, min_samples_split=2, n_estimators=13, total=   0.0s\n",
            "[CV] max_depth=7, min_samples_leaf=3, min_samples_split=2, n_estimators=13 \n",
            "[CV]  max_depth=7, min_samples_leaf=3, min_samples_split=2, n_estimators=13, total=   0.0s\n",
            "[CV] max_depth=7, min_samples_leaf=3, min_samples_split=2, n_estimators=13 \n",
            "[CV]  max_depth=7, min_samples_leaf=3, min_samples_split=2, n_estimators=13, total=   0.0s\n",
            "[CV] max_depth=7, min_samples_leaf=3, min_samples_split=2, n_estimators=15 \n",
            "[CV]  max_depth=7, min_samples_leaf=3, min_samples_split=2, n_estimators=15, total=   0.0s\n",
            "[CV] max_depth=7, min_samples_leaf=3, min_samples_split=2, n_estimators=15 \n",
            "[CV]  max_depth=7, min_samples_leaf=3, min_samples_split=2, n_estimators=15, total=   0.0s\n",
            "[CV] max_depth=7, min_samples_leaf=3, min_samples_split=2, n_estimators=15 \n",
            "[CV]  max_depth=7, min_samples_leaf=3, min_samples_split=2, n_estimators=15, total=   0.0s\n",
            "[CV] max_depth=7, min_samples_leaf=3, min_samples_split=2, n_estimators=15 \n",
            "[CV]  max_depth=7, min_samples_leaf=3, min_samples_split=2, n_estimators=15, total=   0.0s\n",
            "[CV] max_depth=7, min_samples_leaf=3, min_samples_split=2, n_estimators=20 \n",
            "[CV]  max_depth=7, min_samples_leaf=3, min_samples_split=2, n_estimators=20, total=   0.0s\n",
            "[CV] max_depth=7, min_samples_leaf=3, min_samples_split=2, n_estimators=20 \n",
            "[CV]  max_depth=7, min_samples_leaf=3, min_samples_split=2, n_estimators=20, total=   0.0s\n",
            "[CV] max_depth=7, min_samples_leaf=3, min_samples_split=2, n_estimators=20 \n",
            "[CV]  max_depth=7, min_samples_leaf=3, min_samples_split=2, n_estimators=20, total=   0.0s\n",
            "[CV] max_depth=7, min_samples_leaf=3, min_samples_split=2, n_estimators=20 \n",
            "[CV]  max_depth=7, min_samples_leaf=3, min_samples_split=2, n_estimators=20, total=   0.0s\n",
            "[CV] max_depth=7, min_samples_leaf=3, min_samples_split=4, n_estimators=13 \n",
            "[CV]  max_depth=7, min_samples_leaf=3, min_samples_split=4, n_estimators=13, total=   0.0s\n",
            "[CV] max_depth=7, min_samples_leaf=3, min_samples_split=4, n_estimators=13 \n",
            "[CV]  max_depth=7, min_samples_leaf=3, min_samples_split=4, n_estimators=13, total=   0.0s\n",
            "[CV] max_depth=7, min_samples_leaf=3, min_samples_split=4, n_estimators=13 \n",
            "[CV]  max_depth=7, min_samples_leaf=3, min_samples_split=4, n_estimators=13, total=   0.0s\n",
            "[CV] max_depth=7, min_samples_leaf=3, min_samples_split=4, n_estimators=13 \n",
            "[CV]  max_depth=7, min_samples_leaf=3, min_samples_split=4, n_estimators=13, total=   0.0s\n",
            "[CV] max_depth=7, min_samples_leaf=3, min_samples_split=4, n_estimators=15 \n",
            "[CV]  max_depth=7, min_samples_leaf=3, min_samples_split=4, n_estimators=15, total=   0.0s\n",
            "[CV] max_depth=7, min_samples_leaf=3, min_samples_split=4, n_estimators=15 \n",
            "[CV]  max_depth=7, min_samples_leaf=3, min_samples_split=4, n_estimators=15, total=   0.0s\n",
            "[CV] max_depth=7, min_samples_leaf=3, min_samples_split=4, n_estimators=15 \n",
            "[CV]  max_depth=7, min_samples_leaf=3, min_samples_split=4, n_estimators=15, total=   0.0s\n",
            "[CV] max_depth=7, min_samples_leaf=3, min_samples_split=4, n_estimators=15 \n",
            "[CV]  max_depth=7, min_samples_leaf=3, min_samples_split=4, n_estimators=15, total=   0.0s\n",
            "[CV] max_depth=7, min_samples_leaf=3, min_samples_split=4, n_estimators=20 \n",
            "[CV]  max_depth=7, min_samples_leaf=3, min_samples_split=4, n_estimators=20, total=   0.0s\n",
            "[CV] max_depth=7, min_samples_leaf=3, min_samples_split=4, n_estimators=20 \n",
            "[CV]  max_depth=7, min_samples_leaf=3, min_samples_split=4, n_estimators=20, total=   0.0s\n",
            "[CV] max_depth=7, min_samples_leaf=3, min_samples_split=4, n_estimators=20 \n",
            "[CV]  max_depth=7, min_samples_leaf=3, min_samples_split=4, n_estimators=20, total=   0.0s\n",
            "[CV] max_depth=7, min_samples_leaf=3, min_samples_split=4, n_estimators=20 \n",
            "[CV]  max_depth=7, min_samples_leaf=3, min_samples_split=4, n_estimators=20, total=   0.0s\n",
            "[CV] max_depth=7, min_samples_leaf=3, min_samples_split=7, n_estimators=13 \n",
            "[CV]  max_depth=7, min_samples_leaf=3, min_samples_split=7, n_estimators=13, total=   0.0s\n",
            "[CV] max_depth=7, min_samples_leaf=3, min_samples_split=7, n_estimators=13 \n",
            "[CV]  max_depth=7, min_samples_leaf=3, min_samples_split=7, n_estimators=13, total=   0.0s\n",
            "[CV] max_depth=7, min_samples_leaf=3, min_samples_split=7, n_estimators=13 \n",
            "[CV]  max_depth=7, min_samples_leaf=3, min_samples_split=7, n_estimators=13, total=   0.0s\n",
            "[CV] max_depth=7, min_samples_leaf=3, min_samples_split=7, n_estimators=13 \n",
            "[CV]  max_depth=7, min_samples_leaf=3, min_samples_split=7, n_estimators=13, total=   0.0s\n",
            "[CV] max_depth=7, min_samples_leaf=3, min_samples_split=7, n_estimators=15 \n",
            "[CV]  max_depth=7, min_samples_leaf=3, min_samples_split=7, n_estimators=15, total=   0.0s\n",
            "[CV] max_depth=7, min_samples_leaf=3, min_samples_split=7, n_estimators=15 \n",
            "[CV]  max_depth=7, min_samples_leaf=3, min_samples_split=7, n_estimators=15, total=   0.0s\n",
            "[CV] max_depth=7, min_samples_leaf=3, min_samples_split=7, n_estimators=15 \n",
            "[CV]  max_depth=7, min_samples_leaf=3, min_samples_split=7, n_estimators=15, total=   0.0s\n",
            "[CV] max_depth=7, min_samples_leaf=3, min_samples_split=7, n_estimators=15 \n",
            "[CV]  max_depth=7, min_samples_leaf=3, min_samples_split=7, n_estimators=15, total=   0.0s\n",
            "[CV] max_depth=7, min_samples_leaf=3, min_samples_split=7, n_estimators=20 \n",
            "[CV]  max_depth=7, min_samples_leaf=3, min_samples_split=7, n_estimators=20, total=   0.0s\n",
            "[CV] max_depth=7, min_samples_leaf=3, min_samples_split=7, n_estimators=20 \n",
            "[CV]  max_depth=7, min_samples_leaf=3, min_samples_split=7, n_estimators=20, total=   0.0s\n",
            "[CV] max_depth=7, min_samples_leaf=3, min_samples_split=7, n_estimators=20 \n",
            "[CV]  max_depth=7, min_samples_leaf=3, min_samples_split=7, n_estimators=20, total=   0.0s\n",
            "[CV] max_depth=7, min_samples_leaf=3, min_samples_split=7, n_estimators=20 \n",
            "[CV]  max_depth=7, min_samples_leaf=3, min_samples_split=7, n_estimators=20, total=   0.0s\n",
            "[CV] max_depth=7, min_samples_leaf=5, min_samples_split=2, n_estimators=13 \n",
            "[CV]  max_depth=7, min_samples_leaf=5, min_samples_split=2, n_estimators=13, total=   0.0s\n",
            "[CV] max_depth=7, min_samples_leaf=5, min_samples_split=2, n_estimators=13 \n",
            "[CV]  max_depth=7, min_samples_leaf=5, min_samples_split=2, n_estimators=13, total=   0.0s\n",
            "[CV] max_depth=7, min_samples_leaf=5, min_samples_split=2, n_estimators=13 \n",
            "[CV]  max_depth=7, min_samples_leaf=5, min_samples_split=2, n_estimators=13, total=   0.0s\n",
            "[CV] max_depth=7, min_samples_leaf=5, min_samples_split=2, n_estimators=13 \n",
            "[CV]  max_depth=7, min_samples_leaf=5, min_samples_split=2, n_estimators=13, total=   0.0s\n",
            "[CV] max_depth=7, min_samples_leaf=5, min_samples_split=2, n_estimators=15 \n",
            "[CV]  max_depth=7, min_samples_leaf=5, min_samples_split=2, n_estimators=15, total=   0.0s\n",
            "[CV] max_depth=7, min_samples_leaf=5, min_samples_split=2, n_estimators=15 \n",
            "[CV]  max_depth=7, min_samples_leaf=5, min_samples_split=2, n_estimators=15, total=   0.0s\n",
            "[CV] max_depth=7, min_samples_leaf=5, min_samples_split=2, n_estimators=15 \n",
            "[CV]  max_depth=7, min_samples_leaf=5, min_samples_split=2, n_estimators=15, total=   0.0s\n",
            "[CV] max_depth=7, min_samples_leaf=5, min_samples_split=2, n_estimators=15 \n",
            "[CV]  max_depth=7, min_samples_leaf=5, min_samples_split=2, n_estimators=15, total=   0.0s\n",
            "[CV] max_depth=7, min_samples_leaf=5, min_samples_split=2, n_estimators=20 \n",
            "[CV]  max_depth=7, min_samples_leaf=5, min_samples_split=2, n_estimators=20, total=   0.0s\n",
            "[CV] max_depth=7, min_samples_leaf=5, min_samples_split=2, n_estimators=20 \n",
            "[CV]  max_depth=7, min_samples_leaf=5, min_samples_split=2, n_estimators=20, total=   0.0s\n",
            "[CV] max_depth=7, min_samples_leaf=5, min_samples_split=2, n_estimators=20 \n",
            "[CV]  max_depth=7, min_samples_leaf=5, min_samples_split=2, n_estimators=20, total=   0.0s\n",
            "[CV] max_depth=7, min_samples_leaf=5, min_samples_split=2, n_estimators=20 \n",
            "[CV]  max_depth=7, min_samples_leaf=5, min_samples_split=2, n_estimators=20, total=   0.0s\n",
            "[CV] max_depth=7, min_samples_leaf=5, min_samples_split=4, n_estimators=13 \n",
            "[CV]  max_depth=7, min_samples_leaf=5, min_samples_split=4, n_estimators=13, total=   0.0s\n",
            "[CV] max_depth=7, min_samples_leaf=5, min_samples_split=4, n_estimators=13 \n",
            "[CV]  max_depth=7, min_samples_leaf=5, min_samples_split=4, n_estimators=13, total=   0.0s\n",
            "[CV] max_depth=7, min_samples_leaf=5, min_samples_split=4, n_estimators=13 \n",
            "[CV]  max_depth=7, min_samples_leaf=5, min_samples_split=4, n_estimators=13, total=   0.0s\n",
            "[CV] max_depth=7, min_samples_leaf=5, min_samples_split=4, n_estimators=13 \n",
            "[CV]  max_depth=7, min_samples_leaf=5, min_samples_split=4, n_estimators=13, total=   0.0s\n",
            "[CV] max_depth=7, min_samples_leaf=5, min_samples_split=4, n_estimators=15 \n",
            "[CV]  max_depth=7, min_samples_leaf=5, min_samples_split=4, n_estimators=15, total=   0.0s\n",
            "[CV] max_depth=7, min_samples_leaf=5, min_samples_split=4, n_estimators=15 \n",
            "[CV]  max_depth=7, min_samples_leaf=5, min_samples_split=4, n_estimators=15, total=   0.0s\n",
            "[CV] max_depth=7, min_samples_leaf=5, min_samples_split=4, n_estimators=15 \n",
            "[CV]  max_depth=7, min_samples_leaf=5, min_samples_split=4, n_estimators=15, total=   0.0s\n",
            "[CV] max_depth=7, min_samples_leaf=5, min_samples_split=4, n_estimators=15 \n",
            "[CV]  max_depth=7, min_samples_leaf=5, min_samples_split=4, n_estimators=15, total=   0.0s\n",
            "[CV] max_depth=7, min_samples_leaf=5, min_samples_split=4, n_estimators=20 \n",
            "[CV]  max_depth=7, min_samples_leaf=5, min_samples_split=4, n_estimators=20, total=   0.0s\n",
            "[CV] max_depth=7, min_samples_leaf=5, min_samples_split=4, n_estimators=20 \n",
            "[CV]  max_depth=7, min_samples_leaf=5, min_samples_split=4, n_estimators=20, total=   0.0s\n",
            "[CV] max_depth=7, min_samples_leaf=5, min_samples_split=4, n_estimators=20 \n",
            "[CV]  max_depth=7, min_samples_leaf=5, min_samples_split=4, n_estimators=20, total=   0.0s\n",
            "[CV] max_depth=7, min_samples_leaf=5, min_samples_split=4, n_estimators=20 \n",
            "[CV]  max_depth=7, min_samples_leaf=5, min_samples_split=4, n_estimators=20, total=   0.0s\n",
            "[CV] max_depth=7, min_samples_leaf=5, min_samples_split=7, n_estimators=13 \n",
            "[CV]  max_depth=7, min_samples_leaf=5, min_samples_split=7, n_estimators=13, total=   0.0s\n",
            "[CV] max_depth=7, min_samples_leaf=5, min_samples_split=7, n_estimators=13 \n",
            "[CV]  max_depth=7, min_samples_leaf=5, min_samples_split=7, n_estimators=13, total=   0.0s\n",
            "[CV] max_depth=7, min_samples_leaf=5, min_samples_split=7, n_estimators=13 \n",
            "[CV]  max_depth=7, min_samples_leaf=5, min_samples_split=7, n_estimators=13, total=   0.0s\n",
            "[CV] max_depth=7, min_samples_leaf=5, min_samples_split=7, n_estimators=13 \n",
            "[CV]  max_depth=7, min_samples_leaf=5, min_samples_split=7, n_estimators=13, total=   0.0s\n",
            "[CV] max_depth=7, min_samples_leaf=5, min_samples_split=7, n_estimators=15 \n",
            "[CV]  max_depth=7, min_samples_leaf=5, min_samples_split=7, n_estimators=15, total=   0.0s\n",
            "[CV] max_depth=7, min_samples_leaf=5, min_samples_split=7, n_estimators=15 \n",
            "[CV]  max_depth=7, min_samples_leaf=5, min_samples_split=7, n_estimators=15, total=   0.0s\n",
            "[CV] max_depth=7, min_samples_leaf=5, min_samples_split=7, n_estimators=15 \n",
            "[CV]  max_depth=7, min_samples_leaf=5, min_samples_split=7, n_estimators=15, total=   0.0s\n",
            "[CV] max_depth=7, min_samples_leaf=5, min_samples_split=7, n_estimators=15 \n",
            "[CV]  max_depth=7, min_samples_leaf=5, min_samples_split=7, n_estimators=15, total=   0.0s\n",
            "[CV] max_depth=7, min_samples_leaf=5, min_samples_split=7, n_estimators=20 \n",
            "[CV]  max_depth=7, min_samples_leaf=5, min_samples_split=7, n_estimators=20, total=   0.0s\n",
            "[CV] max_depth=7, min_samples_leaf=5, min_samples_split=7, n_estimators=20 \n",
            "[CV]  max_depth=7, min_samples_leaf=5, min_samples_split=7, n_estimators=20, total=   0.0s\n",
            "[CV] max_depth=7, min_samples_leaf=5, min_samples_split=7, n_estimators=20 \n",
            "[CV]  max_depth=7, min_samples_leaf=5, min_samples_split=7, n_estimators=20, total=   0.0s\n",
            "[CV] max_depth=7, min_samples_leaf=5, min_samples_split=7, n_estimators=20 \n",
            "[CV]  max_depth=7, min_samples_leaf=5, min_samples_split=7, n_estimators=20, total=   0.0s\n",
            "[CV] max_depth=None, min_samples_leaf=1, min_samples_split=2, n_estimators=13 \n",
            "[CV]  max_depth=None, min_samples_leaf=1, min_samples_split=2, n_estimators=13, total=   0.0s\n",
            "[CV] max_depth=None, min_samples_leaf=1, min_samples_split=2, n_estimators=13 \n",
            "[CV]  max_depth=None, min_samples_leaf=1, min_samples_split=2, n_estimators=13, total=   0.0s\n",
            "[CV] max_depth=None, min_samples_leaf=1, min_samples_split=2, n_estimators=13 \n",
            "[CV]  max_depth=None, min_samples_leaf=1, min_samples_split=2, n_estimators=13, total=   0.0s\n",
            "[CV] max_depth=None, min_samples_leaf=1, min_samples_split=2, n_estimators=13 \n",
            "[CV]  max_depth=None, min_samples_leaf=1, min_samples_split=2, n_estimators=13, total=   0.0s\n",
            "[CV] max_depth=None, min_samples_leaf=1, min_samples_split=2, n_estimators=15 \n",
            "[CV]  max_depth=None, min_samples_leaf=1, min_samples_split=2, n_estimators=15, total=   0.0s\n",
            "[CV] max_depth=None, min_samples_leaf=1, min_samples_split=2, n_estimators=15 \n",
            "[CV]  max_depth=None, min_samples_leaf=1, min_samples_split=2, n_estimators=15, total=   0.0s\n",
            "[CV] max_depth=None, min_samples_leaf=1, min_samples_split=2, n_estimators=15 \n",
            "[CV]  max_depth=None, min_samples_leaf=1, min_samples_split=2, n_estimators=15, total=   0.0s\n",
            "[CV] max_depth=None, min_samples_leaf=1, min_samples_split=2, n_estimators=15 \n",
            "[CV]  max_depth=None, min_samples_leaf=1, min_samples_split=2, n_estimators=15, total=   0.0s\n",
            "[CV] max_depth=None, min_samples_leaf=1, min_samples_split=2, n_estimators=20 \n",
            "[CV]  max_depth=None, min_samples_leaf=1, min_samples_split=2, n_estimators=20, total=   0.0s\n",
            "[CV] max_depth=None, min_samples_leaf=1, min_samples_split=2, n_estimators=20 \n",
            "[CV]  max_depth=None, min_samples_leaf=1, min_samples_split=2, n_estimators=20, total=   0.0s\n",
            "[CV] max_depth=None, min_samples_leaf=1, min_samples_split=2, n_estimators=20 \n",
            "[CV]  max_depth=None, min_samples_leaf=1, min_samples_split=2, n_estimators=20, total=   0.0s\n",
            "[CV] max_depth=None, min_samples_leaf=1, min_samples_split=2, n_estimators=20 \n",
            "[CV]  max_depth=None, min_samples_leaf=1, min_samples_split=2, n_estimators=20, total=   0.0s\n",
            "[CV] max_depth=None, min_samples_leaf=1, min_samples_split=4, n_estimators=13 \n",
            "[CV]  max_depth=None, min_samples_leaf=1, min_samples_split=4, n_estimators=13, total=   0.0s\n",
            "[CV] max_depth=None, min_samples_leaf=1, min_samples_split=4, n_estimators=13 \n",
            "[CV]  max_depth=None, min_samples_leaf=1, min_samples_split=4, n_estimators=13, total=   0.0s\n",
            "[CV] max_depth=None, min_samples_leaf=1, min_samples_split=4, n_estimators=13 \n",
            "[CV]  max_depth=None, min_samples_leaf=1, min_samples_split=4, n_estimators=13, total=   0.0s\n",
            "[CV] max_depth=None, min_samples_leaf=1, min_samples_split=4, n_estimators=13 \n",
            "[CV]  max_depth=None, min_samples_leaf=1, min_samples_split=4, n_estimators=13, total=   0.0s\n",
            "[CV] max_depth=None, min_samples_leaf=1, min_samples_split=4, n_estimators=15 \n",
            "[CV]  max_depth=None, min_samples_leaf=1, min_samples_split=4, n_estimators=15, total=   0.0s\n",
            "[CV] max_depth=None, min_samples_leaf=1, min_samples_split=4, n_estimators=15 \n",
            "[CV]  max_depth=None, min_samples_leaf=1, min_samples_split=4, n_estimators=15, total=   0.0s\n",
            "[CV] max_depth=None, min_samples_leaf=1, min_samples_split=4, n_estimators=15 \n",
            "[CV]  max_depth=None, min_samples_leaf=1, min_samples_split=4, n_estimators=15, total=   0.0s\n",
            "[CV] max_depth=None, min_samples_leaf=1, min_samples_split=4, n_estimators=15 \n",
            "[CV]  max_depth=None, min_samples_leaf=1, min_samples_split=4, n_estimators=15, total=   0.0s\n",
            "[CV] max_depth=None, min_samples_leaf=1, min_samples_split=4, n_estimators=20 \n",
            "[CV]  max_depth=None, min_samples_leaf=1, min_samples_split=4, n_estimators=20, total=   0.0s\n",
            "[CV] max_depth=None, min_samples_leaf=1, min_samples_split=4, n_estimators=20 \n",
            "[CV]  max_depth=None, min_samples_leaf=1, min_samples_split=4, n_estimators=20, total=   0.0s\n",
            "[CV] max_depth=None, min_samples_leaf=1, min_samples_split=4, n_estimators=20 \n",
            "[CV]  max_depth=None, min_samples_leaf=1, min_samples_split=4, n_estimators=20, total=   0.0s\n",
            "[CV] max_depth=None, min_samples_leaf=1, min_samples_split=4, n_estimators=20 \n",
            "[CV]  max_depth=None, min_samples_leaf=1, min_samples_split=4, n_estimators=20, total=   0.0s\n",
            "[CV] max_depth=None, min_samples_leaf=1, min_samples_split=7, n_estimators=13 \n",
            "[CV]  max_depth=None, min_samples_leaf=1, min_samples_split=7, n_estimators=13, total=   0.0s\n",
            "[CV] max_depth=None, min_samples_leaf=1, min_samples_split=7, n_estimators=13 \n",
            "[CV]  max_depth=None, min_samples_leaf=1, min_samples_split=7, n_estimators=13, total=   0.0s\n",
            "[CV] max_depth=None, min_samples_leaf=1, min_samples_split=7, n_estimators=13 \n",
            "[CV]  max_depth=None, min_samples_leaf=1, min_samples_split=7, n_estimators=13, total=   0.0s\n",
            "[CV] max_depth=None, min_samples_leaf=1, min_samples_split=7, n_estimators=13 \n",
            "[CV]  max_depth=None, min_samples_leaf=1, min_samples_split=7, n_estimators=13, total=   0.0s\n",
            "[CV] max_depth=None, min_samples_leaf=1, min_samples_split=7, n_estimators=15 \n",
            "[CV]  max_depth=None, min_samples_leaf=1, min_samples_split=7, n_estimators=15, total=   0.0s\n",
            "[CV] max_depth=None, min_samples_leaf=1, min_samples_split=7, n_estimators=15 \n",
            "[CV]  max_depth=None, min_samples_leaf=1, min_samples_split=7, n_estimators=15, total=   0.0s\n",
            "[CV] max_depth=None, min_samples_leaf=1, min_samples_split=7, n_estimators=15 \n",
            "[CV]  max_depth=None, min_samples_leaf=1, min_samples_split=7, n_estimators=15, total=   0.0s\n",
            "[CV] max_depth=None, min_samples_leaf=1, min_samples_split=7, n_estimators=15 \n",
            "[CV]  max_depth=None, min_samples_leaf=1, min_samples_split=7, n_estimators=15, total=   0.0s\n",
            "[CV] max_depth=None, min_samples_leaf=1, min_samples_split=7, n_estimators=20 \n",
            "[CV]  max_depth=None, min_samples_leaf=1, min_samples_split=7, n_estimators=20, total=   0.0s\n",
            "[CV] max_depth=None, min_samples_leaf=1, min_samples_split=7, n_estimators=20 \n",
            "[CV]  max_depth=None, min_samples_leaf=1, min_samples_split=7, n_estimators=20, total=   0.0s\n",
            "[CV] max_depth=None, min_samples_leaf=1, min_samples_split=7, n_estimators=20 \n",
            "[CV]  max_depth=None, min_samples_leaf=1, min_samples_split=7, n_estimators=20, total=   0.0s\n",
            "[CV] max_depth=None, min_samples_leaf=1, min_samples_split=7, n_estimators=20 \n",
            "[CV]  max_depth=None, min_samples_leaf=1, min_samples_split=7, n_estimators=20, total=   0.0s\n",
            "[CV] max_depth=None, min_samples_leaf=3, min_samples_split=2, n_estimators=13 \n",
            "[CV]  max_depth=None, min_samples_leaf=3, min_samples_split=2, n_estimators=13, total=   0.0s\n",
            "[CV] max_depth=None, min_samples_leaf=3, min_samples_split=2, n_estimators=13 \n",
            "[CV]  max_depth=None, min_samples_leaf=3, min_samples_split=2, n_estimators=13, total=   0.0s\n",
            "[CV] max_depth=None, min_samples_leaf=3, min_samples_split=2, n_estimators=13 \n",
            "[CV]  max_depth=None, min_samples_leaf=3, min_samples_split=2, n_estimators=13, total=   0.0s\n",
            "[CV] max_depth=None, min_samples_leaf=3, min_samples_split=2, n_estimators=13 \n",
            "[CV]  max_depth=None, min_samples_leaf=3, min_samples_split=2, n_estimators=13, total=   0.0s\n",
            "[CV] max_depth=None, min_samples_leaf=3, min_samples_split=2, n_estimators=15 \n",
            "[CV]  max_depth=None, min_samples_leaf=3, min_samples_split=2, n_estimators=15, total=   0.0s\n",
            "[CV] max_depth=None, min_samples_leaf=3, min_samples_split=2, n_estimators=15 \n",
            "[CV]  max_depth=None, min_samples_leaf=3, min_samples_split=2, n_estimators=15, total=   0.0s\n",
            "[CV] max_depth=None, min_samples_leaf=3, min_samples_split=2, n_estimators=15 \n",
            "[CV]  max_depth=None, min_samples_leaf=3, min_samples_split=2, n_estimators=15, total=   0.0s\n",
            "[CV] max_depth=None, min_samples_leaf=3, min_samples_split=2, n_estimators=15 \n",
            "[CV]  max_depth=None, min_samples_leaf=3, min_samples_split=2, n_estimators=15, total=   0.0s\n",
            "[CV] max_depth=None, min_samples_leaf=3, min_samples_split=2, n_estimators=20 \n",
            "[CV]  max_depth=None, min_samples_leaf=3, min_samples_split=2, n_estimators=20, total=   0.0s\n",
            "[CV] max_depth=None, min_samples_leaf=3, min_samples_split=2, n_estimators=20 \n",
            "[CV]  max_depth=None, min_samples_leaf=3, min_samples_split=2, n_estimators=20, total=   0.0s\n",
            "[CV] max_depth=None, min_samples_leaf=3, min_samples_split=2, n_estimators=20 \n",
            "[CV]  max_depth=None, min_samples_leaf=3, min_samples_split=2, n_estimators=20, total=   0.0s\n",
            "[CV] max_depth=None, min_samples_leaf=3, min_samples_split=2, n_estimators=20 \n",
            "[CV]  max_depth=None, min_samples_leaf=3, min_samples_split=2, n_estimators=20, total=   0.0s\n",
            "[CV] max_depth=None, min_samples_leaf=3, min_samples_split=4, n_estimators=13 \n",
            "[CV]  max_depth=None, min_samples_leaf=3, min_samples_split=4, n_estimators=13, total=   0.0s\n",
            "[CV] max_depth=None, min_samples_leaf=3, min_samples_split=4, n_estimators=13 \n",
            "[CV]  max_depth=None, min_samples_leaf=3, min_samples_split=4, n_estimators=13, total=   0.0s\n",
            "[CV] max_depth=None, min_samples_leaf=3, min_samples_split=4, n_estimators=13 \n",
            "[CV]  max_depth=None, min_samples_leaf=3, min_samples_split=4, n_estimators=13, total=   0.0s\n",
            "[CV] max_depth=None, min_samples_leaf=3, min_samples_split=4, n_estimators=13 \n",
            "[CV]  max_depth=None, min_samples_leaf=3, min_samples_split=4, n_estimators=13, total=   0.0s\n",
            "[CV] max_depth=None, min_samples_leaf=3, min_samples_split=4, n_estimators=15 \n",
            "[CV]  max_depth=None, min_samples_leaf=3, min_samples_split=4, n_estimators=15, total=   0.0s\n",
            "[CV] max_depth=None, min_samples_leaf=3, min_samples_split=4, n_estimators=15 \n",
            "[CV]  max_depth=None, min_samples_leaf=3, min_samples_split=4, n_estimators=15, total=   0.0s\n",
            "[CV] max_depth=None, min_samples_leaf=3, min_samples_split=4, n_estimators=15 \n",
            "[CV]  max_depth=None, min_samples_leaf=3, min_samples_split=4, n_estimators=15, total=   0.0s\n",
            "[CV] max_depth=None, min_samples_leaf=3, min_samples_split=4, n_estimators=15 \n",
            "[CV]  max_depth=None, min_samples_leaf=3, min_samples_split=4, n_estimators=15, total=   0.0s\n",
            "[CV] max_depth=None, min_samples_leaf=3, min_samples_split=4, n_estimators=20 \n",
            "[CV]  max_depth=None, min_samples_leaf=3, min_samples_split=4, n_estimators=20, total=   0.0s\n",
            "[CV] max_depth=None, min_samples_leaf=3, min_samples_split=4, n_estimators=20 \n",
            "[CV]  max_depth=None, min_samples_leaf=3, min_samples_split=4, n_estimators=20, total=   0.0s\n",
            "[CV] max_depth=None, min_samples_leaf=3, min_samples_split=4, n_estimators=20 \n",
            "[CV]  max_depth=None, min_samples_leaf=3, min_samples_split=4, n_estimators=20, total=   0.0s\n",
            "[CV] max_depth=None, min_samples_leaf=3, min_samples_split=4, n_estimators=20 \n",
            "[CV]  max_depth=None, min_samples_leaf=3, min_samples_split=4, n_estimators=20, total=   0.0s\n",
            "[CV] max_depth=None, min_samples_leaf=3, min_samples_split=7, n_estimators=13 \n",
            "[CV]  max_depth=None, min_samples_leaf=3, min_samples_split=7, n_estimators=13, total=   0.0s\n",
            "[CV] max_depth=None, min_samples_leaf=3, min_samples_split=7, n_estimators=13 \n",
            "[CV]  max_depth=None, min_samples_leaf=3, min_samples_split=7, n_estimators=13, total=   0.0s\n",
            "[CV] max_depth=None, min_samples_leaf=3, min_samples_split=7, n_estimators=13 \n",
            "[CV]  max_depth=None, min_samples_leaf=3, min_samples_split=7, n_estimators=13, total=   0.0s\n",
            "[CV] max_depth=None, min_samples_leaf=3, min_samples_split=7, n_estimators=13 \n",
            "[CV]  max_depth=None, min_samples_leaf=3, min_samples_split=7, n_estimators=13, total=   0.0s\n",
            "[CV] max_depth=None, min_samples_leaf=3, min_samples_split=7, n_estimators=15 \n",
            "[CV]  max_depth=None, min_samples_leaf=3, min_samples_split=7, n_estimators=15, total=   0.0s\n",
            "[CV] max_depth=None, min_samples_leaf=3, min_samples_split=7, n_estimators=15 \n",
            "[CV]  max_depth=None, min_samples_leaf=3, min_samples_split=7, n_estimators=15, total=   0.0s\n",
            "[CV] max_depth=None, min_samples_leaf=3, min_samples_split=7, n_estimators=15 \n",
            "[CV]  max_depth=None, min_samples_leaf=3, min_samples_split=7, n_estimators=15, total=   0.0s\n",
            "[CV] max_depth=None, min_samples_leaf=3, min_samples_split=7, n_estimators=15 \n",
            "[CV]  max_depth=None, min_samples_leaf=3, min_samples_split=7, n_estimators=15, total=   0.0s\n",
            "[CV] max_depth=None, min_samples_leaf=3, min_samples_split=7, n_estimators=20 \n",
            "[CV]  max_depth=None, min_samples_leaf=3, min_samples_split=7, n_estimators=20, total=   0.0s\n",
            "[CV] max_depth=None, min_samples_leaf=3, min_samples_split=7, n_estimators=20 \n",
            "[CV]  max_depth=None, min_samples_leaf=3, min_samples_split=7, n_estimators=20, total=   0.0s\n",
            "[CV] max_depth=None, min_samples_leaf=3, min_samples_split=7, n_estimators=20 \n",
            "[CV]  max_depth=None, min_samples_leaf=3, min_samples_split=7, n_estimators=20, total=   0.0s\n",
            "[CV] max_depth=None, min_samples_leaf=3, min_samples_split=7, n_estimators=20 \n",
            "[CV]  max_depth=None, min_samples_leaf=3, min_samples_split=7, n_estimators=20, total=   0.0s\n",
            "[CV] max_depth=None, min_samples_leaf=5, min_samples_split=2, n_estimators=13 \n",
            "[CV]  max_depth=None, min_samples_leaf=5, min_samples_split=2, n_estimators=13, total=   0.0s\n",
            "[CV] max_depth=None, min_samples_leaf=5, min_samples_split=2, n_estimators=13 \n",
            "[CV]  max_depth=None, min_samples_leaf=5, min_samples_split=2, n_estimators=13, total=   0.0s\n",
            "[CV] max_depth=None, min_samples_leaf=5, min_samples_split=2, n_estimators=13 \n",
            "[CV]  max_depth=None, min_samples_leaf=5, min_samples_split=2, n_estimators=13, total=   0.0s\n",
            "[CV] max_depth=None, min_samples_leaf=5, min_samples_split=2, n_estimators=13 \n",
            "[CV]  max_depth=None, min_samples_leaf=5, min_samples_split=2, n_estimators=13, total=   0.0s\n",
            "[CV] max_depth=None, min_samples_leaf=5, min_samples_split=2, n_estimators=15 \n",
            "[CV]  max_depth=None, min_samples_leaf=5, min_samples_split=2, n_estimators=15, total=   0.0s\n",
            "[CV] max_depth=None, min_samples_leaf=5, min_samples_split=2, n_estimators=15 \n",
            "[CV]  max_depth=None, min_samples_leaf=5, min_samples_split=2, n_estimators=15, total=   0.0s\n",
            "[CV] max_depth=None, min_samples_leaf=5, min_samples_split=2, n_estimators=15 \n",
            "[CV]  max_depth=None, min_samples_leaf=5, min_samples_split=2, n_estimators=15, total=   0.0s\n",
            "[CV] max_depth=None, min_samples_leaf=5, min_samples_split=2, n_estimators=15 \n",
            "[CV]  max_depth=None, min_samples_leaf=5, min_samples_split=2, n_estimators=15, total=   0.0s\n",
            "[CV] max_depth=None, min_samples_leaf=5, min_samples_split=2, n_estimators=20 \n",
            "[CV]  max_depth=None, min_samples_leaf=5, min_samples_split=2, n_estimators=20, total=   0.0s\n",
            "[CV] max_depth=None, min_samples_leaf=5, min_samples_split=2, n_estimators=20 \n",
            "[CV]  max_depth=None, min_samples_leaf=5, min_samples_split=2, n_estimators=20, total=   0.0s\n",
            "[CV] max_depth=None, min_samples_leaf=5, min_samples_split=2, n_estimators=20 \n",
            "[CV]  max_depth=None, min_samples_leaf=5, min_samples_split=2, n_estimators=20, total=   0.0s\n",
            "[CV] max_depth=None, min_samples_leaf=5, min_samples_split=2, n_estimators=20 \n",
            "[CV]  max_depth=None, min_samples_leaf=5, min_samples_split=2, n_estimators=20, total=   0.0s\n",
            "[CV] max_depth=None, min_samples_leaf=5, min_samples_split=4, n_estimators=13 \n",
            "[CV]  max_depth=None, min_samples_leaf=5, min_samples_split=4, n_estimators=13, total=   0.0s\n",
            "[CV] max_depth=None, min_samples_leaf=5, min_samples_split=4, n_estimators=13 \n",
            "[CV]  max_depth=None, min_samples_leaf=5, min_samples_split=4, n_estimators=13, total=   0.0s\n",
            "[CV] max_depth=None, min_samples_leaf=5, min_samples_split=4, n_estimators=13 \n",
            "[CV]  max_depth=None, min_samples_leaf=5, min_samples_split=4, n_estimators=13, total=   0.0s\n",
            "[CV] max_depth=None, min_samples_leaf=5, min_samples_split=4, n_estimators=13 \n",
            "[CV]  max_depth=None, min_samples_leaf=5, min_samples_split=4, n_estimators=13, total=   0.0s\n",
            "[CV] max_depth=None, min_samples_leaf=5, min_samples_split=4, n_estimators=15 \n",
            "[CV]  max_depth=None, min_samples_leaf=5, min_samples_split=4, n_estimators=15, total=   0.0s\n",
            "[CV] max_depth=None, min_samples_leaf=5, min_samples_split=4, n_estimators=15 \n",
            "[CV]  max_depth=None, min_samples_leaf=5, min_samples_split=4, n_estimators=15, total=   0.0s\n",
            "[CV] max_depth=None, min_samples_leaf=5, min_samples_split=4, n_estimators=15 \n",
            "[CV]  max_depth=None, min_samples_leaf=5, min_samples_split=4, n_estimators=15, total=   0.0s\n",
            "[CV] max_depth=None, min_samples_leaf=5, min_samples_split=4, n_estimators=15 \n",
            "[CV]  max_depth=None, min_samples_leaf=5, min_samples_split=4, n_estimators=15, total=   0.0s\n",
            "[CV] max_depth=None, min_samples_leaf=5, min_samples_split=4, n_estimators=20 \n",
            "[CV]  max_depth=None, min_samples_leaf=5, min_samples_split=4, n_estimators=20, total=   0.0s\n",
            "[CV] max_depth=None, min_samples_leaf=5, min_samples_split=4, n_estimators=20 \n",
            "[CV]  max_depth=None, min_samples_leaf=5, min_samples_split=4, n_estimators=20, total=   0.0s\n",
            "[CV] max_depth=None, min_samples_leaf=5, min_samples_split=4, n_estimators=20 \n",
            "[CV]  max_depth=None, min_samples_leaf=5, min_samples_split=4, n_estimators=20, total=   0.0s\n",
            "[CV] max_depth=None, min_samples_leaf=5, min_samples_split=4, n_estimators=20 \n",
            "[CV]  max_depth=None, min_samples_leaf=5, min_samples_split=4, n_estimators=20, total=   0.0s\n",
            "[CV] max_depth=None, min_samples_leaf=5, min_samples_split=7, n_estimators=13 \n",
            "[CV]  max_depth=None, min_samples_leaf=5, min_samples_split=7, n_estimators=13, total=   0.0s\n",
            "[CV] max_depth=None, min_samples_leaf=5, min_samples_split=7, n_estimators=13 \n",
            "[CV]  max_depth=None, min_samples_leaf=5, min_samples_split=7, n_estimators=13, total=   0.0s\n",
            "[CV] max_depth=None, min_samples_leaf=5, min_samples_split=7, n_estimators=13 \n",
            "[CV]  max_depth=None, min_samples_leaf=5, min_samples_split=7, n_estimators=13, total=   0.0s\n",
            "[CV] max_depth=None, min_samples_leaf=5, min_samples_split=7, n_estimators=13 \n",
            "[CV]  max_depth=None, min_samples_leaf=5, min_samples_split=7, n_estimators=13, total=   0.0s\n",
            "[CV] max_depth=None, min_samples_leaf=5, min_samples_split=7, n_estimators=15 \n",
            "[CV]  max_depth=None, min_samples_leaf=5, min_samples_split=7, n_estimators=15, total=   0.0s\n",
            "[CV] max_depth=None, min_samples_leaf=5, min_samples_split=7, n_estimators=15 \n",
            "[CV]  max_depth=None, min_samples_leaf=5, min_samples_split=7, n_estimators=15, total=   0.0s\n",
            "[CV] max_depth=None, min_samples_leaf=5, min_samples_split=7, n_estimators=15 \n",
            "[CV]  max_depth=None, min_samples_leaf=5, min_samples_split=7, n_estimators=15, total=   0.0s\n",
            "[CV] max_depth=None, min_samples_leaf=5, min_samples_split=7, n_estimators=15 \n",
            "[CV]  max_depth=None, min_samples_leaf=5, min_samples_split=7, n_estimators=15, total=   0.0s\n",
            "[CV] max_depth=None, min_samples_leaf=5, min_samples_split=7, n_estimators=20 \n",
            "[CV]  max_depth=None, min_samples_leaf=5, min_samples_split=7, n_estimators=20, total=   0.0s\n",
            "[CV] max_depth=None, min_samples_leaf=5, min_samples_split=7, n_estimators=20 \n",
            "[CV]  max_depth=None, min_samples_leaf=5, min_samples_split=7, n_estimators=20, total=   0.0s\n",
            "[CV] max_depth=None, min_samples_leaf=5, min_samples_split=7, n_estimators=20 \n",
            "[CV]  max_depth=None, min_samples_leaf=5, min_samples_split=7, n_estimators=20, total=   0.0s\n",
            "[CV] max_depth=None, min_samples_leaf=5, min_samples_split=7, n_estimators=20 \n",
            "[CV]  max_depth=None, min_samples_leaf=5, min_samples_split=7, n_estimators=20, total=   0.0s\n"
          ],
          "name": "stdout"
        },
        {
          "output_type": "stream",
          "text": [
            "[Parallel(n_jobs=1)]: Done 324 out of 324 | elapsed:   10.4s finished\n"
          ],
          "name": "stderr"
        },
        {
          "output_type": "execute_result",
          "data": {
            "text/plain": [
              "GridSearchCV(cv=4, error_score=nan,\n",
              "             estimator=RandomForestClassifier(bootstrap=True, ccp_alpha=0.0,\n",
              "                                              class_weight=None,\n",
              "                                              criterion='gini', max_depth=5,\n",
              "                                              max_features='auto',\n",
              "                                              max_leaf_nodes=None,\n",
              "                                              max_samples=None,\n",
              "                                              min_impurity_decrease=0.0,\n",
              "                                              min_impurity_split=None,\n",
              "                                              min_samples_leaf=1,\n",
              "                                              min_samples_split=2,\n",
              "                                              min_weight_fraction_leaf=0.0,\n",
              "                                              n_estimators=15, n_jobs=None,\n",
              "                                              oob_score=False, random_state=0,\n",
              "                                              verbose=0, warm_start=False),\n",
              "             iid='deprecated', n_jobs=None,\n",
              "             param_grid={'max_depth': [5, 7, None],\n",
              "                         'min_samples_leaf': [1, 3, 5],\n",
              "                         'min_samples_split': [2, 4, 7],\n",
              "                         'n_estimators': [13, 15, 20]},\n",
              "             pre_dispatch='2*n_jobs', refit=True, return_train_score=False,\n",
              "             scoring=None, verbose=2)"
            ]
          },
          "metadata": {
            "tags": []
          },
          "execution_count": 28
        }
      ]
    },
    {
      "cell_type": "code",
      "metadata": {
        "id": "qZdJYrLlCXdb",
        "colab_type": "code",
        "colab": {
          "base_uri": "https://localhost:8080/",
          "height": 34
        },
        "outputId": "1cc4ba61-0472-4caa-ebc7-14c6641c4bb2"
      },
      "source": [
        "gd.score(X_val,y_val),gd.score(X_train,y_train)"
      ],
      "execution_count": 29,
      "outputs": [
        {
          "output_type": "execute_result",
          "data": {
            "text/plain": [
              "(0.8156424581005587, 0.898876404494382)"
            ]
          },
          "metadata": {
            "tags": []
          },
          "execution_count": 29
        }
      ]
    },
    {
      "cell_type": "code",
      "metadata": {
        "id": "bbqNPzJ-Cfqd",
        "colab_type": "code",
        "colab": {
          "base_uri": "https://localhost:8080/",
          "height": 86
        },
        "outputId": "e98b522b-d657-4de5-8f0f-f9ee4e53ae84"
      },
      "source": [
        "gd.best_params_"
      ],
      "execution_count": 30,
      "outputs": [
        {
          "output_type": "execute_result",
          "data": {
            "text/plain": [
              "{'max_depth': 7,\n",
              " 'min_samples_leaf': 1,\n",
              " 'min_samples_split': 4,\n",
              " 'n_estimators': 20}"
            ]
          },
          "metadata": {
            "tags": []
          },
          "execution_count": 30
        }
      ]
    },
    {
      "cell_type": "code",
      "metadata": {
        "id": "UpXsaQQODgJl",
        "colab_type": "code",
        "colab": {}
      },
      "source": [
        "corr_data = train_data.corr()"
      ],
      "execution_count": 31,
      "outputs": []
    },
    {
      "cell_type": "markdown",
      "metadata": {
        "id": "ZuuI8vZA5tGX",
        "colab_type": "text"
      },
      "source": [
        "## 5. Evaluating Model"
      ]
    },
    {
      "cell_type": "code",
      "metadata": {
        "id": "7j_0dB0D7Mv2",
        "colab_type": "code",
        "colab": {
          "base_uri": "https://localhost:8080/",
          "height": 175
        },
        "outputId": "67be1e9c-8d63-4e3d-8489-f7ca8402864e"
      },
      "source": [
        "pred_val = rd.predict(X_val)\n",
        "cls = pd.DataFrame(classification_report(pred_val,y_val,output_dict=True))\n",
        "cls"
      ],
      "execution_count": 32,
      "outputs": [
        {
          "output_type": "execute_result",
          "data": {
            "text/html": [
              "<div>\n",
              "<style scoped>\n",
              "    .dataframe tbody tr th:only-of-type {\n",
              "        vertical-align: middle;\n",
              "    }\n",
              "\n",
              "    .dataframe tbody tr th {\n",
              "        vertical-align: top;\n",
              "    }\n",
              "\n",
              "    .dataframe thead th {\n",
              "        text-align: right;\n",
              "    }\n",
              "</style>\n",
              "<table border=\"1\" class=\"dataframe\">\n",
              "  <thead>\n",
              "    <tr style=\"text-align: right;\">\n",
              "      <th></th>\n",
              "      <th>0</th>\n",
              "      <th>1</th>\n",
              "      <th>accuracy</th>\n",
              "      <th>macro avg</th>\n",
              "      <th>weighted avg</th>\n",
              "    </tr>\n",
              "  </thead>\n",
              "  <tbody>\n",
              "    <tr>\n",
              "      <th>precision</th>\n",
              "      <td>0.904762</td>\n",
              "      <td>0.689189</td>\n",
              "      <td>0.815642</td>\n",
              "      <td>0.796976</td>\n",
              "      <td>0.831299</td>\n",
              "    </tr>\n",
              "    <tr>\n",
              "      <th>recall</th>\n",
              "      <td>0.805085</td>\n",
              "      <td>0.836066</td>\n",
              "      <td>0.815642</td>\n",
              "      <td>0.820575</td>\n",
              "      <td>0.815642</td>\n",
              "    </tr>\n",
              "    <tr>\n",
              "      <th>f1-score</th>\n",
              "      <td>0.852018</td>\n",
              "      <td>0.755556</td>\n",
              "      <td>0.815642</td>\n",
              "      <td>0.803787</td>\n",
              "      <td>0.819145</td>\n",
              "    </tr>\n",
              "    <tr>\n",
              "      <th>support</th>\n",
              "      <td>118.000000</td>\n",
              "      <td>61.000000</td>\n",
              "      <td>0.815642</td>\n",
              "      <td>179.000000</td>\n",
              "      <td>179.000000</td>\n",
              "    </tr>\n",
              "  </tbody>\n",
              "</table>\n",
              "</div>"
            ],
            "text/plain": [
              "                    0          1  accuracy   macro avg  weighted avg\n",
              "precision    0.904762   0.689189  0.815642    0.796976      0.831299\n",
              "recall       0.805085   0.836066  0.815642    0.820575      0.815642\n",
              "f1-score     0.852018   0.755556  0.815642    0.803787      0.819145\n",
              "support    118.000000  61.000000  0.815642  179.000000    179.000000"
            ]
          },
          "metadata": {
            "tags": []
          },
          "execution_count": 32
        }
      ]
    },
    {
      "cell_type": "code",
      "metadata": {
        "id": "6EIv7_KL7emL",
        "colab_type": "code",
        "colab": {
          "base_uri": "https://localhost:8080/",
          "height": 334
        },
        "outputId": "d49c6068-2b15-4a3f-96ed-3e06279f8e67"
      },
      "source": [
        "fig,ax=plt.subplots(figsize=(5,5))\n",
        "ax=sns.heatmap(confusion_matrix(y_val,pred_val),annot=True)\n",
        "plt.xlabel(\"Real Values\")\n",
        "plt.ylabel(\"Predicted Values\")\n",
        "plt.show();"
      ],
      "execution_count": 33,
      "outputs": [
        {
          "output_type": "display_data",
          "data": {
            "image/png": "[encoded data removed]",
            "text/plain": [
              "<Figure size 360x360 with 2 Axes>"
            ]
          },
          "metadata": {
            "tags": [],
            "needs_background": "light"
          }
        }
      ]
    },
    {
      "cell_type": "code",
      "metadata": {
        "id": "nyRh9PwL7hhk",
        "colab_type": "code",
        "colab": {
          "base_uri": "https://localhost:8080/",
          "height": 279
        },
        "outputId": "86051894-2e76-4f10-ced9-45d19a5ef849"
      },
      "source": [
        "plot_roc_curve(rd,X_val,y_val)\n",
        "plt.show()"
      ],
      "execution_count": 34,
      "outputs": [
        {
          "output_type": "display_data",
          "data": {
            "image/png": "[encoded data removed]",
            "text/plain": [
              "<Figure size 432x288 with 1 Axes>"
            ]
          },
          "metadata": {
            "tags": [],
            "needs_background": "light"
          }
        }
      ]
    },
    {
      "cell_type": "code",
      "metadata": {
        "id": "eG6OwGp0FaEG",
        "colab_type": "code",
        "colab": {
          "base_uri": "https://localhost:8080/",
          "height": 323
        },
        "outputId": "171d5a57-d8b3-41f6-de2a-c41405c80d75"
      },
      "source": [
        "corr_data['Survived'].plot(kind='bar')"
      ],
      "execution_count": 35,
      "outputs": [
        {
          "output_type": "execute_result",
          "data": {
            "text/plain": [
              "<matplotlib.axes._subplots.AxesSubplot at 0x7fbad34b7a90>"
            ]
          },
          "metadata": {
            "tags": []
          },
          "execution_count": 35
        },
        {
          "output_type": "display_data",
          "data": {
            "image/png": "[encoded data removed]",
            "text/plain": [
              "<Figure size 432x288 with 1 Axes>"
            ]
          },
          "metadata": {
            "tags": [],
            "needs_background": "light"
          }
        }
      ]
    },
    {
      "cell_type": "code",
      "metadata": {
        "id": "P767ZqqOFqqK",
        "colab_type": "code",
        "colab": {
          "base_uri": "https://localhost:8080/",
          "height": 265
        },
        "outputId": "1c7bc5ce-3f14-4aa2-eafc-6459881afa7e"
      },
      "source": [
        "df=pd.DataFrame({'Importance':rd.feature_importances_,\n",
        "                 'features':X_train.columns})\n",
        "plt.bar(X_train.columns,rd.feature_importances_);"
      ],
      "execution_count": 36,
      "outputs": [
        {
          "output_type": "display_data",
          "data": {
            "image/png": "[encoded data removed]",
            "text/plain": [
              "<Figure size 432x288 with 1 Axes>"
            ]
          },
          "metadata": {
            "tags": [],
            "needs_background": "light"
          }
        }
      ]
    },
    {
      "cell_type": "markdown",
      "metadata": {
        "id": "DY_t8P_li-7X",
        "colab_type": "text"
      },
      "source": [
        "## 6. Predicting the Output"
      ]
    },
    {
      "cell_type": "code",
      "metadata": {
        "id": "PbSbrnKkGIKH",
        "colab_type": "code",
        "colab": {
          "base_uri": "https://localhost:8080/",
          "height": 34
        },
        "outputId": "734b7471-11e1-495a-c6d9-198b8f567135"
      },
      "source": [
        "# now test data must of same dimensions as training data\n",
        "test_passid = test_data['PassengerId']\n",
        "test_data.drop(['PassengerId','Cabin','Name'],axis=1,inplace=True)\n",
        "test_data.shape"
      ],
      "execution_count": 37,
      "outputs": [
        {
          "output_type": "execute_result",
          "data": {
            "text/plain": [
              "(418, 8)"
            ]
          },
          "metadata": {
            "tags": []
          },
          "execution_count": 37
        }
      ]
    },
    {
      "cell_type": "code",
      "metadata": {
        "id": "OcNrvIu_IUV7",
        "colab_type": "code",
        "colab": {
          "base_uri": "https://localhost:8080/",
          "height": 278
        },
        "outputId": "3c4edd16-80e8-4978-eab8-f832d42bd04c"
      },
      "source": [
        "test_data.info()"
      ],
      "execution_count": 38,
      "outputs": [
        {
          "output_type": "stream",
          "text": [
            "<class 'pandas.core.frame.DataFrame'>\n",
            "RangeIndex: 418 entries, 0 to 417\n",
            "Data columns (total 8 columns):\n",
            " #   Column    Non-Null Count  Dtype  \n",
            "---  ------    --------------  -----  \n",
            " 0   Pclass    418 non-null    int64  \n",
            " 1   Sex       418 non-null    object \n",
            " 2   Age       332 non-null    float64\n",
            " 3   SibSp     418 non-null    int64  \n",
            " 4   Parch     418 non-null    int64  \n",
            " 5   Ticket    418 non-null    object \n",
            " 6   Fare      417 non-null    float64\n",
            " 7   Embarked  418 non-null    object \n",
            "dtypes: float64(2), int64(3), object(3)\n",
            "memory usage: 26.2+ KB\n"
          ],
          "name": "stdout"
        }
      ]
    },
    {
      "cell_type": "code",
      "metadata": {
        "id": "ta-FEX7tIoug",
        "colab_type": "code",
        "colab": {}
      },
      "source": [
        "#filling missing numerical\n",
        "test_data['Age'].fillna(test_data['Age'].mean(),inplace=True)"
      ],
      "execution_count": 39,
      "outputs": []
    },
    {
      "cell_type": "code",
      "metadata": {
        "id": "7-uBT68kJL_D",
        "colab_type": "code",
        "colab": {
          "base_uri": "https://localhost:8080/",
          "height": 278
        },
        "outputId": "ba0e7747-4f9a-4169-e831-3c73efa33fdc"
      },
      "source": [
        "test_data.info()"
      ],
      "execution_count": 40,
      "outputs": [
        {
          "output_type": "stream",
          "text": [
            "<class 'pandas.core.frame.DataFrame'>\n",
            "RangeIndex: 418 entries, 0 to 417\n",
            "Data columns (total 8 columns):\n",
            " #   Column    Non-Null Count  Dtype  \n",
            "---  ------    --------------  -----  \n",
            " 0   Pclass    418 non-null    int64  \n",
            " 1   Sex       418 non-null    object \n",
            " 2   Age       418 non-null    float64\n",
            " 3   SibSp     418 non-null    int64  \n",
            " 4   Parch     418 non-null    int64  \n",
            " 5   Ticket    418 non-null    object \n",
            " 6   Fare      417 non-null    float64\n",
            " 7   Embarked  418 non-null    object \n",
            "dtypes: float64(2), int64(3), object(3)\n",
            "memory usage: 26.2+ KB\n"
          ],
          "name": "stdout"
        }
      ]
    },
    {
      "cell_type": "code",
      "metadata": {
        "id": "QUhV5Lq4JPdP",
        "colab_type": "code",
        "colab": {
          "base_uri": "https://localhost:8080/",
          "height": 225
        },
        "outputId": "7d3f23dc-739c-4801-d142-0c1731f59f79"
      },
      "source": [
        "test_data.Fare.value_counts()"
      ],
      "execution_count": 41,
      "outputs": [
        {
          "output_type": "execute_result",
          "data": {
            "text/plain": [
              "7.7500     21\n",
              "26.0000    19\n",
              "8.0500     17\n",
              "13.0000    17\n",
              "7.8958     11\n",
              "           ..\n",
              "9.3250      1\n",
              "14.4583     1\n",
              "15.0333     1\n",
              "25.4667     1\n",
              "21.0750     1\n",
              "Name: Fare, Length: 169, dtype: int64"
            ]
          },
          "metadata": {
            "tags": []
          },
          "execution_count": 41
        }
      ]
    },
    {
      "cell_type": "code",
      "metadata": {
        "id": "UQ6hTT-4KtFS",
        "colab_type": "code",
        "colab": {
          "base_uri": "https://localhost:8080/",
          "height": 266
        },
        "outputId": "4547d22a-15b4-4480-f9e0-72826bea944b"
      },
      "source": [
        "test_data.Fare.hist();"
      ],
      "execution_count": 42,
      "outputs": [
        {
          "output_type": "display_data",
          "data": {
            "image/png": "[encoded data removed]",
            "text/plain": [
              "<Figure size 432x288 with 1 Axes>"
            ]
          },
          "metadata": {
            "tags": [],
            "needs_background": "light"
          }
        }
      ]
    },
    {
      "cell_type": "code",
      "metadata": {
        "id": "Rq6btsvPLLTL",
        "colab_type": "code",
        "colab": {
          "base_uri": "https://localhost:8080/",
          "height": 34
        },
        "outputId": "40196ba6-627c-4720-cc9d-ba697272e0ec"
      },
      "source": [
        "test_data.Fare.max()"
      ],
      "execution_count": 43,
      "outputs": [
        {
          "output_type": "execute_result",
          "data": {
            "text/plain": [
              "512.3292"
            ]
          },
          "metadata": {
            "tags": []
          },
          "execution_count": 43
        }
      ]
    },
    {
      "cell_type": "code",
      "metadata": {
        "id": "-SOx4dAxLuvZ",
        "colab_type": "code",
        "colab": {
          "base_uri": "https://localhost:8080/",
          "height": 34
        },
        "outputId": "8ae7154b-3f2d-4fc3-ae11-95f73e30ad60"
      },
      "source": [
        "test_data.Fare.mean(),test_data.Fare.median()"
      ],
      "execution_count": 44,
      "outputs": [
        {
          "output_type": "execute_result",
          "data": {
            "text/plain": [
              "(35.6271884892086, 14.4542)"
            ]
          },
          "metadata": {
            "tags": []
          },
          "execution_count": 44
        }
      ]
    },
    {
      "cell_type": "code",
      "metadata": {
        "id": "2pu3t9n9L6ge",
        "colab_type": "code",
        "colab": {}
      },
      "source": [
        "test_data.Fare.fillna(test_data.Fare.median(),inplace=True)"
      ],
      "execution_count": 45,
      "outputs": []
    },
    {
      "cell_type": "code",
      "metadata": {
        "id": "r__UDfTbS3XP",
        "colab_type": "code",
        "colab": {}
      },
      "source": [
        "#convert non-numeric features into numeric\n",
        "for features,content in test_data.items():\n",
        "  if pd.api.types.is_string_dtype(content):\n",
        "    test_data[features] = content.astype('category').cat.as_ordered()\n",
        "    test_data[features] = pd.Categorical(content).codes"
      ],
      "execution_count": 46,
      "outputs": []
    },
    {
      "cell_type": "code",
      "metadata": {
        "id": "qmezbFORUCcc",
        "colab_type": "code",
        "colab": {
          "base_uri": "https://localhost:8080/",
          "height": 278
        },
        "outputId": "1b5c1534-7afb-4bdd-88f8-bb0bdcd8da9f"
      },
      "source": [
        "test_data.info()"
      ],
      "execution_count": 47,
      "outputs": [
        {
          "output_type": "stream",
          "text": [
            "<class 'pandas.core.frame.DataFrame'>\n",
            "RangeIndex: 418 entries, 0 to 417\n",
            "Data columns (total 8 columns):\n",
            " #   Column    Non-Null Count  Dtype  \n",
            "---  ------    --------------  -----  \n",
            " 0   Pclass    418 non-null    int64  \n",
            " 1   Sex       418 non-null    int8   \n",
            " 2   Age       418 non-null    float64\n",
            " 3   SibSp     418 non-null    int64  \n",
            " 4   Parch     418 non-null    int64  \n",
            " 5   Ticket    418 non-null    int16  \n",
            " 6   Fare      418 non-null    float64\n",
            " 7   Embarked  418 non-null    int8   \n",
            "dtypes: float64(2), int16(1), int64(3), int8(2)\n",
            "memory usage: 18.1 KB\n"
          ],
          "name": "stdout"
        }
      ]
    },
    {
      "cell_type": "code",
      "metadata": {
        "id": "0DHahG0rUP5f",
        "colab_type": "code",
        "colab": {
          "base_uri": "https://localhost:8080/",
          "height": 347
        },
        "outputId": "4448e562-1934-4af8-8553-d05b457ad2cb"
      },
      "source": [
        "pred_test = rd.predict(test_data)\n",
        "pred_test"
      ],
      "execution_count": 48,
      "outputs": [
        {
          "output_type": "execute_result",
          "data": {
            "text/plain": [
              "array([0, 0, 0, 0, 1, 0, 1, 0, 1, 0, 0, 0, 1, 0, 1, 1, 0, 0, 0, 1, 0, 0,\n",
              "       1, 0, 1, 0, 1, 0, 0, 0, 0, 0, 1, 0, 0, 0, 1, 1, 0, 1, 0, 0, 0, 1,\n",
              "       1, 0, 0, 0, 1, 1, 0, 0, 1, 1, 0, 0, 0, 0, 0, 1, 0, 0, 0, 1, 1, 1,\n",
              "       1, 0, 0, 1, 1, 0, 1, 0, 1, 1, 0, 1, 0, 1, 1, 0, 0, 0, 0, 0, 1, 0,\n",
              "       1, 1, 0, 0, 1, 0, 0, 0, 1, 0, 0, 0, 1, 0, 0, 0, 1, 0, 0, 0, 0, 0,\n",
              "       0, 1, 1, 1, 1, 0, 0, 1, 1, 1, 1, 0, 1, 0, 0, 1, 0, 1, 0, 0, 0, 0,\n",
              "       0, 0, 0, 0, 0, 0, 0, 0, 0, 1, 1, 0, 0, 0, 0, 0, 0, 0, 1, 0, 0, 1,\n",
              "       0, 0, 1, 0, 0, 0, 1, 0, 1, 0, 0, 0, 0, 0, 1, 0, 0, 0, 0, 0, 0, 1,\n",
              "       1, 0, 1, 1, 0, 0, 1, 0, 1, 0, 1, 0, 0, 0, 0, 0, 0, 0, 1, 0, 1, 0,\n",
              "       0, 0, 1, 1, 1, 1, 0, 0, 1, 0, 1, 0, 0, 0, 0, 1, 1, 0, 1, 0, 1, 0,\n",
              "       1, 0, 1, 0, 1, 1, 0, 1, 0, 0, 0, 1, 0, 0, 0, 0, 0, 0, 1, 1, 1, 1,\n",
              "       1, 0, 0, 0, 1, 0, 1, 1, 1, 0, 0, 0, 0, 0, 0, 0, 1, 0, 0, 0, 1, 1,\n",
              "       0, 0, 0, 0, 0, 0, 1, 0, 1, 1, 0, 1, 0, 0, 0, 0, 1, 1, 1, 1, 1, 0,\n",
              "       0, 0, 0, 0, 0, 1, 0, 0, 0, 0, 1, 0, 0, 0, 0, 0, 0, 0, 1, 1, 0, 1,\n",
              "       0, 0, 0, 0, 0, 1, 1, 1, 0, 0, 0, 0, 0, 0, 0, 0, 1, 0, 1, 0, 0, 0,\n",
              "       1, 0, 0, 1, 0, 0, 0, 0, 0, 0, 0, 0, 0, 1, 0, 1, 0, 1, 0, 1, 1, 0,\n",
              "       0, 0, 1, 0, 1, 0, 0, 1, 0, 1, 1, 0, 1, 0, 0, 0, 1, 0, 0, 1, 0, 0,\n",
              "       1, 1, 0, 0, 0, 0, 0, 0, 1, 1, 0, 1, 0, 0, 0, 0, 0, 1, 0, 0, 0, 1,\n",
              "       0, 1, 0, 0, 1, 0, 1, 0, 0, 0, 0, 0, 1, 1, 1, 1, 0, 0, 1, 0, 0, 0])"
            ]
          },
          "metadata": {
            "tags": []
          },
          "execution_count": 48
        }
      ]
    },
    {
      "cell_type": "code",
      "metadata": {
        "id": "_Znw-vvLUbBy",
        "colab_type": "code",
        "colab": {
          "base_uri": "https://localhost:8080/",
          "height": 424
        },
        "outputId": "7a36d220-29d3-4cdb-899c-cfb4ba3ffe25"
      },
      "source": [
        "output_df = (pd.DataFrame({'PassengerId':test_passid,\n",
        "                   'Survived':pred_test})).sort_values(by='PassengerId')\n",
        "output_df"
      ],
      "execution_count": 49,
      "outputs": [
        {
          "output_type": "execute_result",
          "data": {
            "text/html": [
              "<div>\n",
              "<style scoped>\n",
              "    .dataframe tbody tr th:only-of-type {\n",
              "        vertical-align: middle;\n",
              "    }\n",
              "\n",
              "    .dataframe tbody tr th {\n",
              "        vertical-align: top;\n",
              "    }\n",
              "\n",
              "    .dataframe thead th {\n",
              "        text-align: right;\n",
              "    }\n",
              "</style>\n",
              "<table border=\"1\" class=\"dataframe\">\n",
              "  <thead>\n",
              "    <tr style=\"text-align: right;\">\n",
              "      <th></th>\n",
              "      <th>PassengerId</th>\n",
              "      <th>Survived</th>\n",
              "    </tr>\n",
              "  </thead>\n",
              "  <tbody>\n",
              "    <tr>\n",
              "      <th>0</th>\n",
              "      <td>892</td>\n",
              "      <td>0</td>\n",
              "    </tr>\n",
              "    <tr>\n",
              "      <th>1</th>\n",
              "      <td>893</td>\n",
              "      <td>0</td>\n",
              "    </tr>\n",
              "    <tr>\n",
              "      <th>2</th>\n",
              "      <td>894</td>\n",
              "      <td>0</td>\n",
              "    </tr>\n",
              "    <tr>\n",
              "      <th>3</th>\n",
              "      <td>895</td>\n",
              "      <td>0</td>\n",
              "    </tr>\n",
              "    <tr>\n",
              "      <th>4</th>\n",
              "      <td>896</td>\n",
              "      <td>1</td>\n",
              "    </tr>\n",
              "    <tr>\n",
              "      <th>...</th>\n",
              "      <td>...</td>\n",
              "      <td>...</td>\n",
              "    </tr>\n",
              "    <tr>\n",
              "      <th>413</th>\n",
              "      <td>1305</td>\n",
              "      <td>0</td>\n",
              "    </tr>\n",
              "    <tr>\n",
              "      <th>414</th>\n",
              "      <td>1306</td>\n",
              "      <td>1</td>\n",
              "    </tr>\n",
              "    <tr>\n",
              "      <th>415</th>\n",
              "      <td>1307</td>\n",
              "      <td>0</td>\n",
              "    </tr>\n",
              "    <tr>\n",
              "      <th>416</th>\n",
              "      <td>1308</td>\n",
              "      <td>0</td>\n",
              "    </tr>\n",
              "    <tr>\n",
              "      <th>417</th>\n",
              "      <td>1309</td>\n",
              "      <td>0</td>\n",
              "    </tr>\n",
              "  </tbody>\n",
              "</table>\n",
              "<p>418 rows × 2 columns</p>\n",
              "</div>"
            ],
            "text/plain": [
              "     PassengerId  Survived\n",
              "0            892         0\n",
              "1            893         0\n",
              "2            894         0\n",
              "3            895         0\n",
              "4            896         1\n",
              "..           ...       ...\n",
              "413         1305         0\n",
              "414         1306         1\n",
              "415         1307         0\n",
              "416         1308         0\n",
              "417         1309         0\n",
              "\n",
              "[418 rows x 2 columns]"
            ]
          },
          "metadata": {
            "tags": []
          },
          "execution_count": 49
        }
      ]
    },
    {
      "cell_type": "code",
      "metadata": {
        "id": "K4fZL94I5p5A",
        "colab_type": "code",
        "colab": {}
      },
      "source": [
        ""
      ],
      "execution_count": 49,
      "outputs": []
    }
  ]
}