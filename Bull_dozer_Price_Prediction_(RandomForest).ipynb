{
  "nbformat": 4,
  "nbformat_minor": 0,
  "metadata": {
    "colab": {
      "name": "Bull_dozer Price Prediction (RandomForest).ipynb",
      "provenance": [],
      "collapsed_sections": [],
      "toc_visible": true
    },
    "kernelspec": {
      "name": "python3",
      "display_name": "Python 3"
    },
    "accelerator": "GPU"
  },
  "cells": [
    {
      "cell_type": "markdown",
      "metadata": {
        "id": "Y_1hwhJLrWQ0",
        "colab_type": "text"
      },
      "source": [
        "# Predicting the Price of Bulldozer, given it's features.\n",
        "\n",
        " * This notebook aims at predicting the Price of Bulldozer using ML algorithm's.\n",
        " * Dataset URL : https://www.kaggle.com/c/bluebook-for-bulldozers/data\n",
        " * Evaluation Metrics used (root mean square log error or RMSLE)"
      ]
    },
    {
      "cell_type": "markdown",
      "metadata": {
        "id": "5X-u4WE3O8kM",
        "colab_type": "text"
      },
      "source": [
        "## Steps to follow :\n",
        " 1. Import the dataset & necessary pakages.\n",
        " 2. Analysing & Manipulating the data.\n",
        " 3. Choosing Estimator & Training on portion of data.\n",
        " 4. Evaluating the Model.\n",
        " 5. Hyperparameter tuning & training on all data.\n",
        " 6. Saving the Model.\n",
        " 7. Important Features \n",
        "\n",
        "\n",
        " `NOTE`:Since this notebook is in reference to Kaggle Competetion, we will shape the output into required shape to upload to Kaggle."
      ]
    },
    {
      "cell_type": "markdown",
      "metadata": {
        "id": "pS-Skwj4T-Vy",
        "colab_type": "text"
      },
      "source": [
        "### 1. Import Necessary packages & data"
      ]
    },
    {
      "cell_type": "code",
      "metadata": {
        "id": "A_zIHPmnUHj2",
        "colab_type": "code",
        "colab": {
          "base_uri": "https://localhost:8080/",
          "height": 106
        },
        "outputId": "83c8c805-1f9b-4b59-9098-53a4e2746656"
      },
      "source": [
        "# Packages to be used.\n",
        "\n",
        "#Data Analysis & Manipulating packages\n",
        "import numpy as np\n",
        "import pandas as pd\n",
        "import matplotlib.pyplot as plt\n",
        "import seaborn as sns\n",
        "\n",
        "#Spliting Data into 2 sets \n",
        "from sklearn.model_selection import train_test_split\n",
        "\n",
        "#Model defining Packages\n",
        "from sklearn.ensemble import RandomForestRegressor\n",
        "\n",
        "#Evaluating packages\n",
        "from sklearn.metrics import mean_absolute_error,mean_squared_log_error\n",
        "\n",
        "#Tuning packages\n",
        "from sklearn.model_selection import RandomizedSearchCV\n",
        "\n",
        "#Save & Load Model\n",
        "from joblib import dump,load\n",
        "\n",
        "#Importing the dataset\n",
        "data=pd.read_csv(\"drive/My Drive/Bull_dozer_dataset/TrainAndValid.csv\",parse_dates=['saledate'])"
      ],
      "execution_count": 1,
      "outputs": [
        {
          "output_type": "stream",
          "text": [
            "/usr/local/lib/python3.6/dist-packages/statsmodels/tools/_testing.py:19: FutureWarning: pandas.util.testing is deprecated. Use the functions in the public API at pandas.testing instead.\n",
            "  import pandas.util.testing as tm\n",
            "/usr/local/lib/python3.6/dist-packages/IPython/core/interactiveshell.py:2718: DtypeWarning: Columns (13,39,40,41) have mixed types.Specify dtype option on import or set low_memory=False.\n",
            "  interactivity=interactivity, compiler=compiler, result=result)\n"
          ],
          "name": "stderr"
        }
      ]
    },
    {
      "cell_type": "markdown",
      "metadata": {
        "id": "mLbMui8rVmWU",
        "colab_type": "text"
      },
      "source": [
        "### 2. Data Analysis & Manipulation"
      ]
    },
    {
      "cell_type": "code",
      "metadata": {
        "id": "0XReSl_hW1Pb",
        "colab_type": "code",
        "colab": {
          "base_uri": "https://localhost:8080/",
          "height": 156
        },
        "outputId": "70084bb7-3b36-4883-b8a0-0788974822ef"
      },
      "source": [
        "data.head(),data.shape"
      ],
      "execution_count": 2,
      "outputs": [
        {
          "output_type": "execute_result",
          "data": {
            "text/plain": [
              "(   SalesID  SalePrice  ...  Differential_Type  Steering_Controls\n",
              " 0  1139246    66000.0  ...           Standard       Conventional\n",
              " 1  1139248    57000.0  ...           Standard       Conventional\n",
              " 2  1139249    10000.0  ...                NaN                NaN\n",
              " 3  1139251    38500.0  ...                NaN                NaN\n",
              " 4  1139253    11000.0  ...                NaN                NaN\n",
              " \n",
              " [5 rows x 53 columns], (412698, 53))"
            ]
          },
          "metadata": {
            "tags": []
          },
          "execution_count": 2
        }
      ]
    },
    {
      "cell_type": "code",
      "metadata": {
        "id": "8_TzBk1-W-73",
        "colab_type": "code",
        "colab": {
          "base_uri": "https://localhost:8080/",
          "height": 1000
        },
        "outputId": "f4d12a9c-dcf7-4936-8330-c31b59d6be4a"
      },
      "source": [
        "data.info()"
      ],
      "execution_count": 3,
      "outputs": [
        {
          "output_type": "stream",
          "text": [
            "<class 'pandas.core.frame.DataFrame'>\n",
            "RangeIndex: 412698 entries, 0 to 412697\n",
            "Data columns (total 53 columns):\n",
            " #   Column                    Non-Null Count   Dtype         \n",
            "---  ------                    --------------   -----         \n",
            " 0   SalesID                   412698 non-null  int64         \n",
            " 1   SalePrice                 412698 non-null  float64       \n",
            " 2   MachineID                 412698 non-null  int64         \n",
            " 3   ModelID                   412698 non-null  int64         \n",
            " 4   datasource                412698 non-null  int64         \n",
            " 5   auctioneerID              392562 non-null  float64       \n",
            " 6   YearMade                  412698 non-null  int64         \n",
            " 7   MachineHoursCurrentMeter  147504 non-null  float64       \n",
            " 8   UsageBand                 73670 non-null   object        \n",
            " 9   saledate                  412698 non-null  datetime64[ns]\n",
            " 10  fiModelDesc               412698 non-null  object        \n",
            " 11  fiBaseModel               412698 non-null  object        \n",
            " 12  fiSecondaryDesc           271971 non-null  object        \n",
            " 13  fiModelSeries             58667 non-null   object        \n",
            " 14  fiModelDescriptor         74816 non-null   object        \n",
            " 15  ProductSize               196093 non-null  object        \n",
            " 16  fiProductClassDesc        412698 non-null  object        \n",
            " 17  state                     412698 non-null  object        \n",
            " 18  ProductGroup              412698 non-null  object        \n",
            " 19  ProductGroupDesc          412698 non-null  object        \n",
            " 20  Drive_System              107087 non-null  object        \n",
            " 21  Enclosure                 412364 non-null  object        \n",
            " 22  Forks                     197715 non-null  object        \n",
            " 23  Pad_Type                  81096 non-null   object        \n",
            " 24  Ride_Control              152728 non-null  object        \n",
            " 25  Stick                     81096 non-null   object        \n",
            " 26  Transmission              188007 non-null  object        \n",
            " 27  Turbocharged              81096 non-null   object        \n",
            " 28  Blade_Extension           25983 non-null   object        \n",
            " 29  Blade_Width               25983 non-null   object        \n",
            " 30  Enclosure_Type            25983 non-null   object        \n",
            " 31  Engine_Horsepower         25983 non-null   object        \n",
            " 32  Hydraulics                330133 non-null  object        \n",
            " 33  Pushblock                 25983 non-null   object        \n",
            " 34  Ripper                    106945 non-null  object        \n",
            " 35  Scarifier                 25994 non-null   object        \n",
            " 36  Tip_Control               25983 non-null   object        \n",
            " 37  Tire_Size                 97638 non-null   object        \n",
            " 38  Coupler                   220679 non-null  object        \n",
            " 39  Coupler_System            44974 non-null   object        \n",
            " 40  Grouser_Tracks            44875 non-null   object        \n",
            " 41  Hydraulics_Flow           44875 non-null   object        \n",
            " 42  Track_Type                102193 non-null  object        \n",
            " 43  Undercarriage_Pad_Width   102916 non-null  object        \n",
            " 44  Stick_Length              102261 non-null  object        \n",
            " 45  Thumb                     102332 non-null  object        \n",
            " 46  Pattern_Changer           102261 non-null  object        \n",
            " 47  Grouser_Type              102193 non-null  object        \n",
            " 48  Backhoe_Mounting          80712 non-null   object        \n",
            " 49  Blade_Type                81875 non-null   object        \n",
            " 50  Travel_Controls           81877 non-null   object        \n",
            " 51  Differential_Type         71564 non-null   object        \n",
            " 52  Steering_Controls         71522 non-null   object        \n",
            "dtypes: datetime64[ns](1), float64(3), int64(5), object(44)\n",
            "memory usage: 166.9+ MB\n"
          ],
          "name": "stdout"
        }
      ]
    },
    {
      "cell_type": "code",
      "metadata": {
        "id": "vXCTL2O_XJD7",
        "colab_type": "code",
        "colab": {
          "base_uri": "https://localhost:8080/",
          "height": 34
        },
        "outputId": "2becb7d7-3f5c-4647-a346-69a9ec5c3239"
      },
      "source": [
        "#sort the rows a/c to saleyear\n",
        "data.sort_values(by='saledate',inplace=True)\n",
        "\n",
        "# separating year,month & day from saledate. It makes easier to discover trends and patters.\n",
        "data['saleyear'] = data.saledate.dt.year\n",
        "data['salemonth'] = data.saledate.dt.month\n",
        "data['saleday'] = data.saledate.dt.day\n",
        "data['saledayofweek'] = data.saledate.dt.dayofweek\n",
        "data['saledayofyear'] = data.saledate.dt.dayofyear\n",
        "\n",
        "#remove saledate col. as it is not required\n",
        "data.drop('saledate',axis=1,inplace=True)\n",
        "\n",
        "data.shape"
      ],
      "execution_count": 4,
      "outputs": [
        {
          "output_type": "execute_result",
          "data": {
            "text/plain": [
              "(412698, 57)"
            ]
          },
          "metadata": {
            "tags": []
          },
          "execution_count": 4
        }
      ]
    },
    {
      "cell_type": "code",
      "metadata": {
        "id": "X96AZ2WQYmsD",
        "colab_type": "code",
        "colab": {
          "base_uri": "https://localhost:8080/",
          "height": 365
        },
        "outputId": "56d9395f-99e1-4ada-8108-2fbd298a70c5"
      },
      "source": [
        "data.head()"
      ],
      "execution_count": 5,
      "outputs": [
        {
          "output_type": "execute_result",
          "data": {
            "text/html": [
              "<div>\n",
              "<style scoped>\n",
              "    .dataframe tbody tr th:only-of-type {\n",
              "        vertical-align: middle;\n",
              "    }\n",
              "\n",
              "    .dataframe tbody tr th {\n",
              "        vertical-align: top;\n",
              "    }\n",
              "\n",
              "    .dataframe thead th {\n",
              "        text-align: right;\n",
              "    }\n",
              "</style>\n",
              "<table border=\"1\" class=\"dataframe\">\n",
              "  <thead>\n",
              "    <tr style=\"text-align: right;\">\n",
              "      <th></th>\n",
              "      <th>SalesID</th>\n",
              "      <th>SalePrice</th>\n",
              "      <th>MachineID</th>\n",
              "      <th>ModelID</th>\n",
              "      <th>datasource</th>\n",
              "      <th>auctioneerID</th>\n",
              "      <th>YearMade</th>\n",
              "      <th>MachineHoursCurrentMeter</th>\n",
              "      <th>UsageBand</th>\n",
              "      <th>fiModelDesc</th>\n",
              "      <th>fiBaseModel</th>\n",
              "      <th>fiSecondaryDesc</th>\n",
              "      <th>fiModelSeries</th>\n",
              "      <th>fiModelDescriptor</th>\n",
              "      <th>ProductSize</th>\n",
              "      <th>fiProductClassDesc</th>\n",
              "      <th>state</th>\n",
              "      <th>ProductGroup</th>\n",
              "      <th>ProductGroupDesc</th>\n",
              "      <th>Drive_System</th>\n",
              "      <th>Enclosure</th>\n",
              "      <th>Forks</th>\n",
              "      <th>Pad_Type</th>\n",
              "      <th>Ride_Control</th>\n",
              "      <th>Stick</th>\n",
              "      <th>Transmission</th>\n",
              "      <th>Turbocharged</th>\n",
              "      <th>Blade_Extension</th>\n",
              "      <th>Blade_Width</th>\n",
              "      <th>Enclosure_Type</th>\n",
              "      <th>Engine_Horsepower</th>\n",
              "      <th>Hydraulics</th>\n",
              "      <th>Pushblock</th>\n",
              "      <th>Ripper</th>\n",
              "      <th>Scarifier</th>\n",
              "      <th>Tip_Control</th>\n",
              "      <th>Tire_Size</th>\n",
              "      <th>Coupler</th>\n",
              "      <th>Coupler_System</th>\n",
              "      <th>Grouser_Tracks</th>\n",
              "      <th>Hydraulics_Flow</th>\n",
              "      <th>Track_Type</th>\n",
              "      <th>Undercarriage_Pad_Width</th>\n",
              "      <th>Stick_Length</th>\n",
              "      <th>Thumb</th>\n",
              "      <th>Pattern_Changer</th>\n",
              "      <th>Grouser_Type</th>\n",
              "      <th>Backhoe_Mounting</th>\n",
              "      <th>Blade_Type</th>\n",
              "      <th>Travel_Controls</th>\n",
              "      <th>Differential_Type</th>\n",
              "      <th>Steering_Controls</th>\n",
              "      <th>saleyear</th>\n",
              "      <th>salemonth</th>\n",
              "      <th>saleday</th>\n",
              "      <th>saledayofweek</th>\n",
              "      <th>saledayofyear</th>\n",
              "    </tr>\n",
              "  </thead>\n",
              "  <tbody>\n",
              "    <tr>\n",
              "      <th>205615</th>\n",
              "      <td>1646770</td>\n",
              "      <td>9500.0</td>\n",
              "      <td>1126363</td>\n",
              "      <td>8434</td>\n",
              "      <td>132</td>\n",
              "      <td>18.0</td>\n",
              "      <td>1974</td>\n",
              "      <td>NaN</td>\n",
              "      <td>NaN</td>\n",
              "      <td>TD20</td>\n",
              "      <td>TD20</td>\n",
              "      <td>NaN</td>\n",
              "      <td>NaN</td>\n",
              "      <td>NaN</td>\n",
              "      <td>Medium</td>\n",
              "      <td>Track Type Tractor, Dozer - 105.0 to 130.0 Hor...</td>\n",
              "      <td>Texas</td>\n",
              "      <td>TTT</td>\n",
              "      <td>Track Type Tractors</td>\n",
              "      <td>NaN</td>\n",
              "      <td>OROPS</td>\n",
              "      <td>NaN</td>\n",
              "      <td>NaN</td>\n",
              "      <td>NaN</td>\n",
              "      <td>NaN</td>\n",
              "      <td>Direct Drive</td>\n",
              "      <td>NaN</td>\n",
              "      <td>NaN</td>\n",
              "      <td>NaN</td>\n",
              "      <td>NaN</td>\n",
              "      <td>NaN</td>\n",
              "      <td>2 Valve</td>\n",
              "      <td>NaN</td>\n",
              "      <td>None or Unspecified</td>\n",
              "      <td>NaN</td>\n",
              "      <td>NaN</td>\n",
              "      <td>NaN</td>\n",
              "      <td>NaN</td>\n",
              "      <td>NaN</td>\n",
              "      <td>NaN</td>\n",
              "      <td>NaN</td>\n",
              "      <td>NaN</td>\n",
              "      <td>NaN</td>\n",
              "      <td>NaN</td>\n",
              "      <td>NaN</td>\n",
              "      <td>NaN</td>\n",
              "      <td>NaN</td>\n",
              "      <td>None or Unspecified</td>\n",
              "      <td>Straight</td>\n",
              "      <td>None or Unspecified</td>\n",
              "      <td>NaN</td>\n",
              "      <td>NaN</td>\n",
              "      <td>1989</td>\n",
              "      <td>1</td>\n",
              "      <td>17</td>\n",
              "      <td>1</td>\n",
              "      <td>17</td>\n",
              "    </tr>\n",
              "    <tr>\n",
              "      <th>274835</th>\n",
              "      <td>1821514</td>\n",
              "      <td>14000.0</td>\n",
              "      <td>1194089</td>\n",
              "      <td>10150</td>\n",
              "      <td>132</td>\n",
              "      <td>99.0</td>\n",
              "      <td>1980</td>\n",
              "      <td>NaN</td>\n",
              "      <td>NaN</td>\n",
              "      <td>A66</td>\n",
              "      <td>A66</td>\n",
              "      <td>NaN</td>\n",
              "      <td>NaN</td>\n",
              "      <td>NaN</td>\n",
              "      <td>NaN</td>\n",
              "      <td>Wheel Loader - 120.0 to 135.0 Horsepower</td>\n",
              "      <td>Florida</td>\n",
              "      <td>WL</td>\n",
              "      <td>Wheel Loader</td>\n",
              "      <td>NaN</td>\n",
              "      <td>OROPS</td>\n",
              "      <td>None or Unspecified</td>\n",
              "      <td>NaN</td>\n",
              "      <td>None or Unspecified</td>\n",
              "      <td>NaN</td>\n",
              "      <td>NaN</td>\n",
              "      <td>NaN</td>\n",
              "      <td>NaN</td>\n",
              "      <td>NaN</td>\n",
              "      <td>NaN</td>\n",
              "      <td>NaN</td>\n",
              "      <td>2 Valve</td>\n",
              "      <td>NaN</td>\n",
              "      <td>NaN</td>\n",
              "      <td>NaN</td>\n",
              "      <td>NaN</td>\n",
              "      <td>None or Unspecified</td>\n",
              "      <td>None or Unspecified</td>\n",
              "      <td>NaN</td>\n",
              "      <td>NaN</td>\n",
              "      <td>NaN</td>\n",
              "      <td>NaN</td>\n",
              "      <td>NaN</td>\n",
              "      <td>NaN</td>\n",
              "      <td>NaN</td>\n",
              "      <td>NaN</td>\n",
              "      <td>NaN</td>\n",
              "      <td>NaN</td>\n",
              "      <td>NaN</td>\n",
              "      <td>NaN</td>\n",
              "      <td>Standard</td>\n",
              "      <td>Conventional</td>\n",
              "      <td>1989</td>\n",
              "      <td>1</td>\n",
              "      <td>31</td>\n",
              "      <td>1</td>\n",
              "      <td>31</td>\n",
              "    </tr>\n",
              "    <tr>\n",
              "      <th>141296</th>\n",
              "      <td>1505138</td>\n",
              "      <td>50000.0</td>\n",
              "      <td>1473654</td>\n",
              "      <td>4139</td>\n",
              "      <td>132</td>\n",
              "      <td>99.0</td>\n",
              "      <td>1978</td>\n",
              "      <td>NaN</td>\n",
              "      <td>NaN</td>\n",
              "      <td>D7G</td>\n",
              "      <td>D7</td>\n",
              "      <td>G</td>\n",
              "      <td>NaN</td>\n",
              "      <td>NaN</td>\n",
              "      <td>Large</td>\n",
              "      <td>Track Type Tractor, Dozer - 190.0 to 260.0 Hor...</td>\n",
              "      <td>Florida</td>\n",
              "      <td>TTT</td>\n",
              "      <td>Track Type Tractors</td>\n",
              "      <td>NaN</td>\n",
              "      <td>OROPS</td>\n",
              "      <td>NaN</td>\n",
              "      <td>NaN</td>\n",
              "      <td>NaN</td>\n",
              "      <td>NaN</td>\n",
              "      <td>Standard</td>\n",
              "      <td>NaN</td>\n",
              "      <td>NaN</td>\n",
              "      <td>NaN</td>\n",
              "      <td>NaN</td>\n",
              "      <td>NaN</td>\n",
              "      <td>2 Valve</td>\n",
              "      <td>NaN</td>\n",
              "      <td>None or Unspecified</td>\n",
              "      <td>NaN</td>\n",
              "      <td>NaN</td>\n",
              "      <td>NaN</td>\n",
              "      <td>NaN</td>\n",
              "      <td>NaN</td>\n",
              "      <td>NaN</td>\n",
              "      <td>NaN</td>\n",
              "      <td>NaN</td>\n",
              "      <td>NaN</td>\n",
              "      <td>NaN</td>\n",
              "      <td>NaN</td>\n",
              "      <td>NaN</td>\n",
              "      <td>NaN</td>\n",
              "      <td>None or Unspecified</td>\n",
              "      <td>Straight</td>\n",
              "      <td>None or Unspecified</td>\n",
              "      <td>NaN</td>\n",
              "      <td>NaN</td>\n",
              "      <td>1989</td>\n",
              "      <td>1</td>\n",
              "      <td>31</td>\n",
              "      <td>1</td>\n",
              "      <td>31</td>\n",
              "    </tr>\n",
              "    <tr>\n",
              "      <th>212552</th>\n",
              "      <td>1671174</td>\n",
              "      <td>16000.0</td>\n",
              "      <td>1327630</td>\n",
              "      <td>8591</td>\n",
              "      <td>132</td>\n",
              "      <td>99.0</td>\n",
              "      <td>1980</td>\n",
              "      <td>NaN</td>\n",
              "      <td>NaN</td>\n",
              "      <td>A62</td>\n",
              "      <td>A62</td>\n",
              "      <td>NaN</td>\n",
              "      <td>NaN</td>\n",
              "      <td>NaN</td>\n",
              "      <td>NaN</td>\n",
              "      <td>Wheel Loader - Unidentified</td>\n",
              "      <td>Florida</td>\n",
              "      <td>WL</td>\n",
              "      <td>Wheel Loader</td>\n",
              "      <td>NaN</td>\n",
              "      <td>EROPS</td>\n",
              "      <td>None or Unspecified</td>\n",
              "      <td>NaN</td>\n",
              "      <td>None or Unspecified</td>\n",
              "      <td>NaN</td>\n",
              "      <td>NaN</td>\n",
              "      <td>NaN</td>\n",
              "      <td>NaN</td>\n",
              "      <td>NaN</td>\n",
              "      <td>NaN</td>\n",
              "      <td>NaN</td>\n",
              "      <td>2 Valve</td>\n",
              "      <td>NaN</td>\n",
              "      <td>NaN</td>\n",
              "      <td>NaN</td>\n",
              "      <td>NaN</td>\n",
              "      <td>None or Unspecified</td>\n",
              "      <td>None or Unspecified</td>\n",
              "      <td>NaN</td>\n",
              "      <td>NaN</td>\n",
              "      <td>NaN</td>\n",
              "      <td>NaN</td>\n",
              "      <td>NaN</td>\n",
              "      <td>NaN</td>\n",
              "      <td>NaN</td>\n",
              "      <td>NaN</td>\n",
              "      <td>NaN</td>\n",
              "      <td>NaN</td>\n",
              "      <td>NaN</td>\n",
              "      <td>NaN</td>\n",
              "      <td>Standard</td>\n",
              "      <td>Conventional</td>\n",
              "      <td>1989</td>\n",
              "      <td>1</td>\n",
              "      <td>31</td>\n",
              "      <td>1</td>\n",
              "      <td>31</td>\n",
              "    </tr>\n",
              "    <tr>\n",
              "      <th>62755</th>\n",
              "      <td>1329056</td>\n",
              "      <td>22000.0</td>\n",
              "      <td>1336053</td>\n",
              "      <td>4089</td>\n",
              "      <td>132</td>\n",
              "      <td>99.0</td>\n",
              "      <td>1984</td>\n",
              "      <td>NaN</td>\n",
              "      <td>NaN</td>\n",
              "      <td>D3B</td>\n",
              "      <td>D3</td>\n",
              "      <td>B</td>\n",
              "      <td>NaN</td>\n",
              "      <td>NaN</td>\n",
              "      <td>NaN</td>\n",
              "      <td>Track Type Tractor, Dozer - 20.0 to 75.0 Horse...</td>\n",
              "      <td>Florida</td>\n",
              "      <td>TTT</td>\n",
              "      <td>Track Type Tractors</td>\n",
              "      <td>NaN</td>\n",
              "      <td>OROPS</td>\n",
              "      <td>NaN</td>\n",
              "      <td>NaN</td>\n",
              "      <td>NaN</td>\n",
              "      <td>NaN</td>\n",
              "      <td>Standard</td>\n",
              "      <td>NaN</td>\n",
              "      <td>NaN</td>\n",
              "      <td>NaN</td>\n",
              "      <td>NaN</td>\n",
              "      <td>NaN</td>\n",
              "      <td>2 Valve</td>\n",
              "      <td>NaN</td>\n",
              "      <td>None or Unspecified</td>\n",
              "      <td>NaN</td>\n",
              "      <td>NaN</td>\n",
              "      <td>NaN</td>\n",
              "      <td>NaN</td>\n",
              "      <td>NaN</td>\n",
              "      <td>NaN</td>\n",
              "      <td>NaN</td>\n",
              "      <td>NaN</td>\n",
              "      <td>NaN</td>\n",
              "      <td>NaN</td>\n",
              "      <td>NaN</td>\n",
              "      <td>NaN</td>\n",
              "      <td>NaN</td>\n",
              "      <td>None or Unspecified</td>\n",
              "      <td>PAT</td>\n",
              "      <td>Lever</td>\n",
              "      <td>NaN</td>\n",
              "      <td>NaN</td>\n",
              "      <td>1989</td>\n",
              "      <td>1</td>\n",
              "      <td>31</td>\n",
              "      <td>1</td>\n",
              "      <td>31</td>\n",
              "    </tr>\n",
              "  </tbody>\n",
              "</table>\n",
              "</div>"
            ],
            "text/plain": [
              "        SalesID  SalePrice  MachineID  ...  saleday  saledayofweek  saledayofyear\n",
              "205615  1646770     9500.0    1126363  ...       17              1             17\n",
              "274835  1821514    14000.0    1194089  ...       31              1             31\n",
              "141296  1505138    50000.0    1473654  ...       31              1             31\n",
              "212552  1671174    16000.0    1327630  ...       31              1             31\n",
              "62755   1329056    22000.0    1336053  ...       31              1             31\n",
              "\n",
              "[5 rows x 57 columns]"
            ]
          },
          "metadata": {
            "tags": []
          },
          "execution_count": 5
        }
      ]
    },
    {
      "cell_type": "code",
      "metadata": {
        "id": "a8ZafmhAbFpX",
        "colab_type": "code",
        "colab": {
          "base_uri": "https://localhost:8080/",
          "height": 513
        },
        "outputId": "c38fb013-3bcb-4c0d-8595-e721dd350b78"
      },
      "source": [
        "a=data.saleyear.value_counts()\n",
        "a.sort_index(inplace=True)\n",
        "plt.figure(figsize=(10,8))\n",
        "plt.plot(a.index,a.values)\n",
        "plt.xlabel(\"Sale Year\")\n",
        "plt.ylabel(\"No. of Machines Sold\")\n",
        "plt.title(\"Saleyear v/s No. of Machines sold\")\n",
        "plt.xticks(range(1989,2012,2))\n",
        "plt.grid()\n",
        "plt.show();"
      ],
      "execution_count": 6,
      "outputs": [
        {
          "output_type": "display_data",
          "data": {
            "image/png": "[encoded data removed]",
            "text/plain": [
              "<Figure size 720x576 with 1 Axes>"
            ]
          },
          "metadata": {
            "tags": [],
            "needs_background": "light"
          }
        }
      ]
    },
    {
      "cell_type": "code",
      "metadata": {
        "id": "vBnz1R1Xb1y9",
        "colab_type": "code",
        "colab": {
          "base_uri": "https://localhost:8080/",
          "height": 513
        },
        "outputId": "10e12451-dc94-44a0-a2dd-8f7e8910ba1d"
      },
      "source": [
        "a=[]\n",
        "for i in range(1989,2013):\n",
        "  a.append((data['SalePrice'][data['saleyear']==i]).sum())\n",
        "plt.figure(figsize=(10,8))\n",
        "plt.plot(range(1989,2013),a)\n",
        "plt.xlabel(\"Sale Year\")\n",
        "plt.ylabel(\"Sales per year\")\n",
        "plt.title(\"Sale/Year\")\n",
        "plt.xticks(range(1989,2012,2))\n",
        "plt.grid()\n",
        "plt.show();\n"
      ],
      "execution_count": 7,
      "outputs": [
        {
          "output_type": "display_data",
          "data": {
            "image/png": "[encoded data removed]",
            "text/plain": [
              "<Figure size 720x576 with 1 Axes>"
            ]
          },
          "metadata": {
            "tags": [],
            "needs_background": "light"
          }
        }
      ]
    },
    {
      "cell_type": "code",
      "metadata": {
        "id": "Tu2ILFx10z_Q",
        "colab_type": "code",
        "colab": {
          "base_uri": "https://localhost:8080/",
          "height": 1000
        },
        "outputId": "915189f3-9737-4e05-e018-6b955044d186"
      },
      "source": [
        "data.info()"
      ],
      "execution_count": 8,
      "outputs": [
        {
          "output_type": "stream",
          "text": [
            "<class 'pandas.core.frame.DataFrame'>\n",
            "Int64Index: 412698 entries, 205615 to 409203\n",
            "Data columns (total 57 columns):\n",
            " #   Column                    Non-Null Count   Dtype  \n",
            "---  ------                    --------------   -----  \n",
            " 0   SalesID                   412698 non-null  int64  \n",
            " 1   SalePrice                 412698 non-null  float64\n",
            " 2   MachineID                 412698 non-null  int64  \n",
            " 3   ModelID                   412698 non-null  int64  \n",
            " 4   datasource                412698 non-null  int64  \n",
            " 5   auctioneerID              392562 non-null  float64\n",
            " 6   YearMade                  412698 non-null  int64  \n",
            " 7   MachineHoursCurrentMeter  147504 non-null  float64\n",
            " 8   UsageBand                 73670 non-null   object \n",
            " 9   fiModelDesc               412698 non-null  object \n",
            " 10  fiBaseModel               412698 non-null  object \n",
            " 11  fiSecondaryDesc           271971 non-null  object \n",
            " 12  fiModelSeries             58667 non-null   object \n",
            " 13  fiModelDescriptor         74816 non-null   object \n",
            " 14  ProductSize               196093 non-null  object \n",
            " 15  fiProductClassDesc        412698 non-null  object \n",
            " 16  state                     412698 non-null  object \n",
            " 17  ProductGroup              412698 non-null  object \n",
            " 18  ProductGroupDesc          412698 non-null  object \n",
            " 19  Drive_System              107087 non-null  object \n",
            " 20  Enclosure                 412364 non-null  object \n",
            " 21  Forks                     197715 non-null  object \n",
            " 22  Pad_Type                  81096 non-null   object \n",
            " 23  Ride_Control              152728 non-null  object \n",
            " 24  Stick                     81096 non-null   object \n",
            " 25  Transmission              188007 non-null  object \n",
            " 26  Turbocharged              81096 non-null   object \n",
            " 27  Blade_Extension           25983 non-null   object \n",
            " 28  Blade_Width               25983 non-null   object \n",
            " 29  Enclosure_Type            25983 non-null   object \n",
            " 30  Engine_Horsepower         25983 non-null   object \n",
            " 31  Hydraulics                330133 non-null  object \n",
            " 32  Pushblock                 25983 non-null   object \n",
            " 33  Ripper                    106945 non-null  object \n",
            " 34  Scarifier                 25994 non-null   object \n",
            " 35  Tip_Control               25983 non-null   object \n",
            " 36  Tire_Size                 97638 non-null   object \n",
            " 37  Coupler                   220679 non-null  object \n",
            " 38  Coupler_System            44974 non-null   object \n",
            " 39  Grouser_Tracks            44875 non-null   object \n",
            " 40  Hydraulics_Flow           44875 non-null   object \n",
            " 41  Track_Type                102193 non-null  object \n",
            " 42  Undercarriage_Pad_Width   102916 non-null  object \n",
            " 43  Stick_Length              102261 non-null  object \n",
            " 44  Thumb                     102332 non-null  object \n",
            " 45  Pattern_Changer           102261 non-null  object \n",
            " 46  Grouser_Type              102193 non-null  object \n",
            " 47  Backhoe_Mounting          80712 non-null   object \n",
            " 48  Blade_Type                81875 non-null   object \n",
            " 49  Travel_Controls           81877 non-null   object \n",
            " 50  Differential_Type         71564 non-null   object \n",
            " 51  Steering_Controls         71522 non-null   object \n",
            " 52  saleyear                  412698 non-null  int64  \n",
            " 53  salemonth                 412698 non-null  int64  \n",
            " 54  saleday                   412698 non-null  int64  \n",
            " 55  saledayofweek             412698 non-null  int64  \n",
            " 56  saledayofyear             412698 non-null  int64  \n",
            "dtypes: float64(3), int64(10), object(44)\n",
            "memory usage: 182.6+ MB\n"
          ],
          "name": "stdout"
        }
      ]
    },
    {
      "cell_type": "code",
      "metadata": {
        "id": "XN6YkMnfCnQT",
        "colab_type": "code",
        "colab": {
          "base_uri": "https://localhost:8080/",
          "height": 1000
        },
        "outputId": "a305fb5d-5c2b-4d94-dc15-d6b3ad122b33"
      },
      "source": [
        "data.isna().sum()"
      ],
      "execution_count": 9,
      "outputs": [
        {
          "output_type": "execute_result",
          "data": {
            "text/plain": [
              "SalesID                          0\n",
              "SalePrice                        0\n",
              "MachineID                        0\n",
              "ModelID                          0\n",
              "datasource                       0\n",
              "auctioneerID                 20136\n",
              "YearMade                         0\n",
              "MachineHoursCurrentMeter    265194\n",
              "UsageBand                   339028\n",
              "fiModelDesc                      0\n",
              "fiBaseModel                      0\n",
              "fiSecondaryDesc             140727\n",
              "fiModelSeries               354031\n",
              "fiModelDescriptor           337882\n",
              "ProductSize                 216605\n",
              "fiProductClassDesc               0\n",
              "state                            0\n",
              "ProductGroup                     0\n",
              "ProductGroupDesc                 0\n",
              "Drive_System                305611\n",
              "Enclosure                      334\n",
              "Forks                       214983\n",
              "Pad_Type                    331602\n",
              "Ride_Control                259970\n",
              "Stick                       331602\n",
              "Transmission                224691\n",
              "Turbocharged                331602\n",
              "Blade_Extension             386715\n",
              "Blade_Width                 386715\n",
              "Enclosure_Type              386715\n",
              "Engine_Horsepower           386715\n",
              "Hydraulics                   82565\n",
              "Pushblock                   386715\n",
              "Ripper                      305753\n",
              "Scarifier                   386704\n",
              "Tip_Control                 386715\n",
              "Tire_Size                   315060\n",
              "Coupler                     192019\n",
              "Coupler_System              367724\n",
              "Grouser_Tracks              367823\n",
              "Hydraulics_Flow             367823\n",
              "Track_Type                  310505\n",
              "Undercarriage_Pad_Width     309782\n",
              "Stick_Length                310437\n",
              "Thumb                       310366\n",
              "Pattern_Changer             310437\n",
              "Grouser_Type                310505\n",
              "Backhoe_Mounting            331986\n",
              "Blade_Type                  330823\n",
              "Travel_Controls             330821\n",
              "Differential_Type           341134\n",
              "Steering_Controls           341176\n",
              "saleyear                         0\n",
              "salemonth                        0\n",
              "saleday                          0\n",
              "saledayofweek                    0\n",
              "saledayofyear                    0\n",
              "dtype: int64"
            ]
          },
          "metadata": {
            "tags": []
          },
          "execution_count": 9
        }
      ]
    },
    {
      "cell_type": "code",
      "metadata": {
        "id": "j8XuE2HgDcUo",
        "colab_type": "code",
        "colab": {
          "base_uri": "https://localhost:8080/",
          "height": 712
        },
        "outputId": "6c472a62-b969-4c8c-c9ed-7d738f73a315"
      },
      "source": [
        "#checking features with null values\n",
        "for feature,content in data.items():\n",
        "  if pd.api.types.is_numeric_dtype(content):\n",
        "    if content.isna().sum():\n",
        "      print(\"Numerical feature containing Null Value \",feature)\n",
        "  elif pd.api.types.is_string_dtype(content):\n",
        "    if content.isna().sum():\n",
        "      print(\"Non-Nummerical feature containing Null Value \",feature)\n",
        "  else:\n",
        "    continue"
      ],
      "execution_count": 10,
      "outputs": [
        {
          "output_type": "stream",
          "text": [
            "Numerical feature containing Null Value  auctioneerID\n",
            "Numerical feature containing Null Value  MachineHoursCurrentMeter\n",
            "Non-Nummerical feature containing Null Value  UsageBand\n",
            "Non-Nummerical feature containing Null Value  fiSecondaryDesc\n",
            "Non-Nummerical feature containing Null Value  fiModelSeries\n",
            "Non-Nummerical feature containing Null Value  fiModelDescriptor\n",
            "Non-Nummerical feature containing Null Value  ProductSize\n",
            "Non-Nummerical feature containing Null Value  Drive_System\n",
            "Non-Nummerical feature containing Null Value  Enclosure\n",
            "Non-Nummerical feature containing Null Value  Forks\n",
            "Non-Nummerical feature containing Null Value  Pad_Type\n",
            "Non-Nummerical feature containing Null Value  Ride_Control\n",
            "Non-Nummerical feature containing Null Value  Stick\n",
            "Non-Nummerical feature containing Null Value  Transmission\n",
            "Non-Nummerical feature containing Null Value  Turbocharged\n",
            "Non-Nummerical feature containing Null Value  Blade_Extension\n",
            "Non-Nummerical feature containing Null Value  Blade_Width\n",
            "Non-Nummerical feature containing Null Value  Enclosure_Type\n",
            "Non-Nummerical feature containing Null Value  Engine_Horsepower\n",
            "Non-Nummerical feature containing Null Value  Hydraulics\n",
            "Non-Nummerical feature containing Null Value  Pushblock\n",
            "Non-Nummerical feature containing Null Value  Ripper\n",
            "Non-Nummerical feature containing Null Value  Scarifier\n",
            "Non-Nummerical feature containing Null Value  Tip_Control\n",
            "Non-Nummerical feature containing Null Value  Tire_Size\n",
            "Non-Nummerical feature containing Null Value  Coupler\n",
            "Non-Nummerical feature containing Null Value  Coupler_System\n",
            "Non-Nummerical feature containing Null Value  Grouser_Tracks\n",
            "Non-Nummerical feature containing Null Value  Hydraulics_Flow\n",
            "Non-Nummerical feature containing Null Value  Track_Type\n",
            "Non-Nummerical feature containing Null Value  Undercarriage_Pad_Width\n",
            "Non-Nummerical feature containing Null Value  Stick_Length\n",
            "Non-Nummerical feature containing Null Value  Thumb\n",
            "Non-Nummerical feature containing Null Value  Pattern_Changer\n",
            "Non-Nummerical feature containing Null Value  Grouser_Type\n",
            "Non-Nummerical feature containing Null Value  Backhoe_Mounting\n",
            "Non-Nummerical feature containing Null Value  Blade_Type\n",
            "Non-Nummerical feature containing Null Value  Travel_Controls\n",
            "Non-Nummerical feature containing Null Value  Differential_Type\n",
            "Non-Nummerical feature containing Null Value  Steering_Controls\n"
          ],
          "name": "stdout"
        }
      ]
    },
    {
      "cell_type": "code",
      "metadata": {
        "id": "NHdgGqDaE2YJ",
        "colab_type": "code",
        "colab": {}
      },
      "source": [
        "#Filling NULL values for Numerical Columns with median values\n",
        "for feature,content in data.items():\n",
        "  if pd.api.types.is_numeric_dtype(content):\n",
        "    if content.isna().sum():\n",
        "      data[feature+' ismissing']=content.isna()    #Add binary column to inidicate whether sample had missing value\n",
        "      data[feature]=content.fillna(content.median())"
      ],
      "execution_count": 11,
      "outputs": []
    },
    {
      "cell_type": "code",
      "metadata": {
        "id": "CJij5c03HC0h",
        "colab_type": "code",
        "colab": {
          "base_uri": "https://localhost:8080/",
          "height": 1000
        },
        "outputId": "0c9f779c-6769-47e8-bbff-ab1355c11287"
      },
      "source": [
        "data.isna().sum()"
      ],
      "execution_count": 12,
      "outputs": [
        {
          "output_type": "execute_result",
          "data": {
            "text/plain": [
              "SalesID                                    0\n",
              "SalePrice                                  0\n",
              "MachineID                                  0\n",
              "ModelID                                    0\n",
              "datasource                                 0\n",
              "auctioneerID                               0\n",
              "YearMade                                   0\n",
              "MachineHoursCurrentMeter                   0\n",
              "UsageBand                             339028\n",
              "fiModelDesc                                0\n",
              "fiBaseModel                                0\n",
              "fiSecondaryDesc                       140727\n",
              "fiModelSeries                         354031\n",
              "fiModelDescriptor                     337882\n",
              "ProductSize                           216605\n",
              "fiProductClassDesc                         0\n",
              "state                                      0\n",
              "ProductGroup                               0\n",
              "ProductGroupDesc                           0\n",
              "Drive_System                          305611\n",
              "Enclosure                                334\n",
              "Forks                                 214983\n",
              "Pad_Type                              331602\n",
              "Ride_Control                          259970\n",
              "Stick                                 331602\n",
              "Transmission                          224691\n",
              "Turbocharged                          331602\n",
              "Blade_Extension                       386715\n",
              "Blade_Width                           386715\n",
              "Enclosure_Type                        386715\n",
              "Engine_Horsepower                     386715\n",
              "Hydraulics                             82565\n",
              "Pushblock                             386715\n",
              "Ripper                                305753\n",
              "Scarifier                             386704\n",
              "Tip_Control                           386715\n",
              "Tire_Size                             315060\n",
              "Coupler                               192019\n",
              "Coupler_System                        367724\n",
              "Grouser_Tracks                        367823\n",
              "Hydraulics_Flow                       367823\n",
              "Track_Type                            310505\n",
              "Undercarriage_Pad_Width               309782\n",
              "Stick_Length                          310437\n",
              "Thumb                                 310366\n",
              "Pattern_Changer                       310437\n",
              "Grouser_Type                          310505\n",
              "Backhoe_Mounting                      331986\n",
              "Blade_Type                            330823\n",
              "Travel_Controls                       330821\n",
              "Differential_Type                     341134\n",
              "Steering_Controls                     341176\n",
              "saleyear                                   0\n",
              "salemonth                                  0\n",
              "saleday                                    0\n",
              "saledayofweek                              0\n",
              "saledayofyear                              0\n",
              "auctioneerID ismissing                     0\n",
              "MachineHoursCurrentMeter ismissing         0\n",
              "dtype: int64"
            ]
          },
          "metadata": {
            "tags": []
          },
          "execution_count": 12
        }
      ]
    },
    {
      "cell_type": "code",
      "metadata": {
        "id": "szf_CorFIamv",
        "colab_type": "code",
        "colab": {
          "base_uri": "https://localhost:8080/",
          "height": 34
        },
        "outputId": "7b832351-2a0b-4372-e36a-ce6f6c8919d8"
      },
      "source": [
        "data.shape"
      ],
      "execution_count": 13,
      "outputs": [
        {
          "output_type": "execute_result",
          "data": {
            "text/plain": [
              "(412698, 59)"
            ]
          },
          "metadata": {
            "tags": []
          },
          "execution_count": 13
        }
      ]
    },
    {
      "cell_type": "code",
      "metadata": {
        "id": "15f-Qv1ZJiGr",
        "colab_type": "code",
        "colab": {}
      },
      "source": [
        "#Converting Non-Numeric columns into Numeric & filling null values \n",
        "for feature,content in data.items():\n",
        "  if not pd.api.types.is_numeric_dtype(content):\n",
        "    data[feature] = content.astype('category').cat.as_ordered()\n",
        "    data[feature+' ismissing'] = content.isna()\n",
        "    data[feature] = pd.Categorical(content).codes+1"
      ],
      "execution_count": 14,
      "outputs": []
    },
    {
      "cell_type": "code",
      "metadata": {
        "id": "Uo1rI3XyKX-r",
        "colab_type": "code",
        "colab": {
          "base_uri": "https://localhost:8080/",
          "height": 225
        },
        "outputId": "6538ef21-0d6f-4ad4-9bda-2fc0fe776d5a"
      },
      "source": [
        "data.dtypes"
      ],
      "execution_count": 15,
      "outputs": [
        {
          "output_type": "execute_result",
          "data": {
            "text/plain": [
              "SalesID                          int64\n",
              "SalePrice                      float64\n",
              "MachineID                        int64\n",
              "ModelID                          int64\n",
              "datasource                       int64\n",
              "                                ...   \n",
              "Backhoe_Mounting ismissing        bool\n",
              "Blade_Type ismissing              bool\n",
              "Travel_Controls ismissing         bool\n",
              "Differential_Type ismissing       bool\n",
              "Steering_Controls ismissing       bool\n",
              "Length: 103, dtype: object"
            ]
          },
          "metadata": {
            "tags": []
          },
          "execution_count": 15
        }
      ]
    },
    {
      "cell_type": "code",
      "metadata": {
        "id": "P8P9sZRGMVGa",
        "colab_type": "code",
        "colab": {
          "base_uri": "https://localhost:8080/",
          "height": 104
        },
        "outputId": "e4ea3357-7379-4b7b-aea1-63f7e7cd80eb"
      },
      "source": [
        "data.info()"
      ],
      "execution_count": 16,
      "outputs": [
        {
          "output_type": "stream",
          "text": [
            "<class 'pandas.core.frame.DataFrame'>\n",
            "Int64Index: 412698 entries, 205615 to 409203\n",
            "Columns: 103 entries, SalesID to Steering_Controls ismissing\n",
            "dtypes: bool(46), float64(3), int16(5), int64(10), int8(39)\n",
            "memory usage: 81.5 MB\n"
          ],
          "name": "stdout"
        }
      ]
    },
    {
      "cell_type": "code",
      "metadata": {
        "id": "T6VeVo17V6cH",
        "colab_type": "code",
        "colab": {
          "base_uri": "https://localhost:8080/",
          "height": 34
        },
        "outputId": "c0bbf399-e617-4cff-cc44-ee57f08384b7"
      },
      "source": [
        "# split into Independent & Dependent Var\n",
        "X = data.drop('SalePrice',axis=1)\n",
        "y = data['SalePrice']\n",
        "\n",
        "#Validation set contais datas from 2012 only & rest is training data\n",
        "X_train = X[:][X['saleyear'] != 2012]\n",
        "X_val = X[:][X['saleyear'] == 2012]\n",
        "y_train = data['SalePrice'][data['saleyear'] != 2012]\n",
        "y_val = data['SalePrice'][data['saleyear'] == 2012]\n",
        "\n",
        "len(X_train),len(X_val),len(y_train),len(y_val)"
      ],
      "execution_count": 17,
      "outputs": [
        {
          "output_type": "execute_result",
          "data": {
            "text/plain": [
              "(401125, 11573, 401125, 11573)"
            ]
          },
          "metadata": {
            "tags": []
          },
          "execution_count": 17
        }
      ]
    },
    {
      "cell_type": "code",
      "metadata": {
        "id": "o7lMu9vY1fyD",
        "colab_type": "code",
        "colab": {
          "base_uri": "https://localhost:8080/",
          "height": 34
        },
        "outputId": "8d8e0aea-9955-46e4-b697-47efb56ef2f0"
      },
      "source": [
        "#Test_data shape fed to the model must be of same dimenions as Training_data\n",
        "#Processing test_data to maatch Training_data shape.\n",
        "test_data = pd.read_csv(\"drive/My Drive/Bull_dozer_dataset/Test.csv\",parse_dates=['saledate'])\n",
        "\n",
        "# separating year,month & day from saledate. It makes easier to discover trends and patters.\n",
        "test_data['saleyear'] = test_data.saledate.dt.year\n",
        "test_data['salemonth'] = test_data.saledate.dt.month\n",
        "test_data['saleday'] = test_data.saledate.dt.day\n",
        "test_data['saledayofweek'] = test_data.saledate.dt.dayofweek\n",
        "test_data['saledayofyear'] = test_data.saledate.dt.dayofyear \n",
        "\n",
        "#remove saledate col. as it is not required\n",
        "test_data.drop('saledate',axis=1,inplace=True)\n",
        "\n",
        "for feature,content in test_data.items():\n",
        "  if pd.api.types.is_numeric_dtype(content):\n",
        "    if content.isna().sum():\n",
        "      test_data[feature+' ismissing']=content.isna()    #Add binary column to inidicate whether sample had missing value\n",
        "      test_data[feature]=content.fillna(content.median())\n",
        "\n",
        "for feature,content in test_data.items():\n",
        "  if not pd.api.types.is_numeric_dtype(content):\n",
        "    test_data[feature] = content.astype('category').cat.as_ordered()\n",
        "    test_data[feature+' ismissing'] = content.isna()\n",
        "    test_data[feature] = pd.Categorical(content).codes+1\n",
        "\n",
        "set(data.columns)-set(test_data.columns)    #Indicates the missing columns in Test_data"
      ],
      "execution_count": 18,
      "outputs": [
        {
          "output_type": "execute_result",
          "data": {
            "text/plain": [
              "{'SalePrice', 'auctioneerID ismissing'}"
            ]
          },
          "metadata": {
            "tags": []
          },
          "execution_count": 18
        }
      ]
    },
    {
      "cell_type": "code",
      "metadata": {
        "id": "CFawZZsbdGuj",
        "colab_type": "code",
        "colab": {}
      },
      "source": [
        "test_data['auctioneerID ismissing'] = False     #adding missing column in test_data to match training_data shape"
      ],
      "execution_count": 19,
      "outputs": []
    },
    {
      "cell_type": "markdown",
      "metadata": {
        "id": "_akfg7yPZSIX",
        "colab_type": "text"
      },
      "source": [
        "### 3. Model Training\n"
      ]
    },
    {
      "cell_type": "code",
      "metadata": {
        "id": "LrTObfpybdBM",
        "colab_type": "code",
        "colab": {
          "base_uri": "https://localhost:8080/",
          "height": 87
        },
        "outputId": "6f2ee154-6012-471a-dae6-96cdcd7f6c18"
      },
      "source": [
        "# Generate Baseline Model using default hyperparameters.\n",
        "# Use only portion of data to ensure the model is working correctly.\n",
        "\n",
        "%%time\n",
        "rd_frst = RandomForestRegressor(n_jobs=-1,\n",
        "                                random_state=42,\n",
        "                                max_samples=10000)\n",
        "rd_frst.fit(X_train,y_train)\n",
        "print(rd_frst.score(X_val,y_val))\n",
        "rd_frst.get_params()"
      ],
      "execution_count": 20,
      "outputs": [
        {
          "output_type": "execute_result",
          "data": {
            "application/vnd.google.colaboratory.intrinsic": {
              "type": "string"
            },
            "text/plain": [
              "'# Generate Baseline Model using default hyperparameters.\\n# Use only portion of data to ensure the model is working correctly.\\n\\n%%time\\nrd_frst = RandomForestRegressor(n_jobs=-1,\\n                                random_state=42,\\n                                max_samples=10000)\\nrd_frst.fit(X_train,y_train)\\nprint(rd_frst.score(X_val,y_val))\\nrd_frst.get_params()'"
            ]
          },
          "metadata": {
            "tags": []
          },
          "execution_count": 20
        }
      ]
    },
    {
      "cell_type": "markdown",
      "metadata": {
        "id": "q7JRUnx0ed9y",
        "colab_type": "text"
      },
      "source": [
        "### 4. Evaluating Model"
      ]
    },
    {
      "cell_type": "code",
      "metadata": {
        "id": "sXz7mZMshF9D",
        "colab_type": "code",
        "colab": {}
      },
      "source": [
        "# define a func which evaluates the model.\n",
        "\n",
        "def evaluation_metrics(model):\n",
        "  scores = {}\n",
        "  scores['Accuracy (Training)']=model.score(X_train,y_train)\n",
        "  scores['Accuracy (Validation)']=model.score(X_val,y_val)\n",
        "  y_val_pred = model.predict(X_val)\n",
        "  scores['MAE']=mean_absolute_error(y_val,y_val_pred)\n",
        "  scores['MSLE']=mean_squared_log_error(y_val,y_val_pred)\n",
        "  scores['RMSLE']=np.sqrt(scores['MSLE'])\n",
        "\n",
        "  return scores"
      ],
      "execution_count": 21,
      "outputs": []
    },
    {
      "cell_type": "code",
      "metadata": {
        "id": "3rPhsWSHixrr",
        "colab_type": "code",
        "colab": {}
      },
      "source": [
        "evaluation_metrics(rd_frst)"
      ],
      "execution_count": 22,
      "outputs": []
    },
    {
      "cell_type": "markdown",
      "metadata": {
        "id": "ukdgY0FFjzVy",
        "colab_type": "text"
      },
      "source": [
        "### 5. Hyperparameter Tuning"
      ]
    },
    {
      "cell_type": "code",
      "metadata": {
        "id": "4BlvcXMIi2p4",
        "colab_type": "code",
        "colab": {
          "base_uri": "https://localhost:8080/",
          "height": 122
        },
        "outputId": "8e9beee1-5182-4e45-a078-7cb990b58b25"
      },
      "source": [
        "%%time\n",
        "# Our base line model gave us pretty amazing results.\n",
        "# Now tune hyperparameters to improve accuracy\n",
        "\n",
        "np.random.seed(42)\n",
        "grid ={'n_estimators':[90,120],\n",
        "       'min_samples_split':[2,4,8],\n",
        "       'min_samples_leaf':[1,10],\n",
        "       'max_features':['auto',0.5],\n",
        "       'max_samples':[10000],\n",
        "      }\n",
        "\n",
        "rd_srch = RandomizedSearchCV(rd_frst,\n",
        "                             param_distributions=grid,\n",
        "                             n_iter=20,\n",
        "                             cv=5,\n",
        "                             verbose=2)\n",
        "\n",
        "rd_srch.fit(X_train,y_train)"
      ],
      "execution_count": 23,
      "outputs": [
        {
          "output_type": "execute_result",
          "data": {
            "application/vnd.google.colaboratory.intrinsic": {
              "type": "string"
            },
            "text/plain": [
              "\"%%time\\n# Our base line model gave us pretty amazing results.\\n# Now tune hyperparameters to improve accuracy\\n\\nnp.random.seed(42)\\ngrid ={'n_estimators':[90,120],\\n       'min_samples_split':[2,4,8],\\n       'min_samples_leaf':[1,10],\\n       'max_features':['auto',0.5],\\n       'max_samples':[10000],\\n      }\\n\\nrd_srch = RandomizedSearchCV(rd_frst,\\n                             param_distributions=grid,\\n                             n_iter=20,\\n                             cv=5,\\n                             verbose=2)\\n\\nrd_srch.fit(X_train,y_train)\""
            ]
          },
          "metadata": {
            "tags": []
          },
          "execution_count": 23
        }
      ]
    },
    {
      "cell_type": "code",
      "metadata": {
        "id": "9_kyzTnfnCuP",
        "colab_type": "code",
        "colab": {}
      },
      "source": [
        "rd_srch.best_params_"
      ],
      "execution_count": 24,
      "outputs": []
    },
    {
      "cell_type": "code",
      "metadata": {
        "id": "zA94KgRLIZpM",
        "colab_type": "code",
        "colab": {}
      },
      "source": [
        "evaluation_metrics(rd_srch)"
      ],
      "execution_count": 25,
      "outputs": []
    },
    {
      "cell_type": "code",
      "metadata": {
        "id": "-EPxZZgKIq4i",
        "colab_type": "code",
        "colab": {}
      },
      "source": [
        "%%time\n",
        "#use those parameters to train our ideal model\n",
        "rd_frst = RandomForestRegressor(min_samples_leaf= 1,\n",
        "                                min_samples_split= 2,\n",
        "                                n_estimators= 120,\n",
        "                                max_samples=None,\n",
        "                                n_jobs=-1,\n",
        "                                random_state=42,\n",
        "                                verbose=2)\n",
        "\n",
        "rd_frst.fit(X_train,y_train)"
      ],
      "execution_count": null,
      "outputs": []
    },
    {
      "cell_type": "code",
      "metadata": {
        "id": "lRnNZjp8VeE5",
        "colab_type": "code",
        "colab": {
          "base_uri": "https://localhost:8080/",
          "height": 260
        },
        "outputId": "142f4500-054e-45ee-f355-90373c788fd0"
      },
      "source": [
        "evaluation_metrics(rd_frst)"
      ],
      "execution_count": 27,
      "outputs": [
        {
          "output_type": "stream",
          "text": [
            "[Parallel(n_jobs=2)]: Using backend ThreadingBackend with 2 concurrent workers.\n",
            "[Parallel(n_jobs=2)]: Done  37 tasks      | elapsed:    3.5s\n",
            "[Parallel(n_jobs=2)]: Done 120 out of 120 | elapsed:   11.3s finished\n",
            "[Parallel(n_jobs=2)]: Using backend ThreadingBackend with 2 concurrent workers.\n",
            "[Parallel(n_jobs=2)]: Done  37 tasks      | elapsed:    0.1s\n",
            "[Parallel(n_jobs=2)]: Done 120 out of 120 | elapsed:    0.4s finished\n",
            "[Parallel(n_jobs=2)]: Using backend ThreadingBackend with 2 concurrent workers.\n",
            "[Parallel(n_jobs=2)]: Done  37 tasks      | elapsed:    0.1s\n",
            "[Parallel(n_jobs=2)]: Done 120 out of 120 | elapsed:    0.4s finished\n"
          ],
          "name": "stderr"
        },
        {
          "output_type": "execute_result",
          "data": {
            "text/plain": [
              "{'Accuracy (Training)': 0.9876134493333316,\n",
              " 'Accuracy (Validation)': 0.873065369113553,\n",
              " 'MAE': 6113.538262190732,\n",
              " 'MSLE': 0.06505385814156812,\n",
              " 'RMSLE': 0.25505657831463224}"
            ]
          },
          "metadata": {
            "tags": []
          },
          "execution_count": 27
        }
      ]
    },
    {
      "cell_type": "markdown",
      "metadata": {
        "id": "vBz0Jy2ncqZM",
        "colab_type": "text"
      },
      "source": [
        "### 6. Saving & Loading Model"
      ]
    },
    {
      "cell_type": "code",
      "metadata": {
        "id": "R_44lyTidDrB",
        "colab_type": "code",
        "colab": {
          "base_uri": "https://localhost:8080/",
          "height": 34
        },
        "outputId": "1e47924c-613e-4705-9124-39a34ea4b15b"
      },
      "source": [
        "#Saving the Model \n",
        "dump(rd_frst,filename=\"drive/My Drive/Bull_dozer_dataset/Model.joblib\")"
      ],
      "execution_count": 28,
      "outputs": [
        {
          "output_type": "execute_result",
          "data": {
            "text/plain": [
              "['drive/My Drive/Bull_dozer_dataset/Model.joblib']"
            ]
          },
          "metadata": {
            "tags": []
          },
          "execution_count": 28
        }
      ]
    },
    {
      "cell_type": "code",
      "metadata": {
        "id": "bkzp7rvypdyi",
        "colab_type": "code",
        "colab": {
          "base_uri": "https://localhost:8080/",
          "height": 476
        },
        "outputId": "60c096b9-1700-42f3-dba3-99076549d7c1"
      },
      "source": [
        "# Output should be of format mentioned by kaggle\n",
        "loaded_model = load(filename='drive/My Drive/Bull_dozer_dataset/Model.joblib')\n",
        "pred_test = loaded_model.predict(test_data)\n",
        "output_df=pd.DataFrame({'SaleID':test_data['SalesID'],\n",
        "                 'SalePrice':pred_test})\n",
        "output_df"
      ],
      "execution_count": 29,
      "outputs": [
        {
          "output_type": "stream",
          "text": [
            "[Parallel(n_jobs=2)]: Using backend ThreadingBackend with 2 concurrent workers.\n",
            "[Parallel(n_jobs=2)]: Done  37 tasks      | elapsed:    0.1s\n",
            "[Parallel(n_jobs=2)]: Done 120 out of 120 | elapsed:    0.3s finished\n"
          ],
          "name": "stderr"
        },
        {
          "output_type": "execute_result",
          "data": {
            "text/html": [
              "<div>\n",
              "<style scoped>\n",
              "    .dataframe tbody tr th:only-of-type {\n",
              "        vertical-align: middle;\n",
              "    }\n",
              "\n",
              "    .dataframe tbody tr th {\n",
              "        vertical-align: top;\n",
              "    }\n",
              "\n",
              "    .dataframe thead th {\n",
              "        text-align: right;\n",
              "    }\n",
              "</style>\n",
              "<table border=\"1\" class=\"dataframe\">\n",
              "  <thead>\n",
              "    <tr style=\"text-align: right;\">\n",
              "      <th></th>\n",
              "      <th>SaleID</th>\n",
              "      <th>SalePrice</th>\n",
              "    </tr>\n",
              "  </thead>\n",
              "  <tbody>\n",
              "    <tr>\n",
              "      <th>0</th>\n",
              "      <td>1227829</td>\n",
              "      <td>20763.750000</td>\n",
              "    </tr>\n",
              "    <tr>\n",
              "      <th>1</th>\n",
              "      <td>1227844</td>\n",
              "      <td>23324.166667</td>\n",
              "    </tr>\n",
              "    <tr>\n",
              "      <th>2</th>\n",
              "      <td>1227847</td>\n",
              "      <td>47825.000000</td>\n",
              "    </tr>\n",
              "    <tr>\n",
              "      <th>3</th>\n",
              "      <td>1227848</td>\n",
              "      <td>81741.666667</td>\n",
              "    </tr>\n",
              "    <tr>\n",
              "      <th>4</th>\n",
              "      <td>1227863</td>\n",
              "      <td>44890.833333</td>\n",
              "    </tr>\n",
              "    <tr>\n",
              "      <th>...</th>\n",
              "      <td>...</td>\n",
              "      <td>...</td>\n",
              "    </tr>\n",
              "    <tr>\n",
              "      <th>12452</th>\n",
              "      <td>6643171</td>\n",
              "      <td>58562.500000</td>\n",
              "    </tr>\n",
              "    <tr>\n",
              "      <th>12453</th>\n",
              "      <td>6643173</td>\n",
              "      <td>11487.500000</td>\n",
              "    </tr>\n",
              "    <tr>\n",
              "      <th>12454</th>\n",
              "      <td>6643184</td>\n",
              "      <td>12199.583333</td>\n",
              "    </tr>\n",
              "    <tr>\n",
              "      <th>12455</th>\n",
              "      <td>6643186</td>\n",
              "      <td>17752.500000</td>\n",
              "    </tr>\n",
              "    <tr>\n",
              "      <th>12456</th>\n",
              "      <td>6643196</td>\n",
              "      <td>30189.583333</td>\n",
              "    </tr>\n",
              "  </tbody>\n",
              "</table>\n",
              "<p>12457 rows × 2 columns</p>\n",
              "</div>"
            ],
            "text/plain": [
              "        SaleID     SalePrice\n",
              "0      1227829  20763.750000\n",
              "1      1227844  23324.166667\n",
              "2      1227847  47825.000000\n",
              "3      1227848  81741.666667\n",
              "4      1227863  44890.833333\n",
              "...        ...           ...\n",
              "12452  6643171  58562.500000\n",
              "12453  6643173  11487.500000\n",
              "12454  6643184  12199.583333\n",
              "12455  6643186  17752.500000\n",
              "12456  6643196  30189.583333\n",
              "\n",
              "[12457 rows x 2 columns]"
            ]
          },
          "metadata": {
            "tags": []
          },
          "execution_count": 29
        }
      ]
    },
    {
      "cell_type": "markdown",
      "metadata": {
        "id": "lH_2ZIUlxmbD",
        "colab_type": "text"
      },
      "source": [
        "### 7. Important Features"
      ]
    },
    {
      "cell_type": "code",
      "metadata": {
        "id": "8ATSG-yX2utu",
        "colab_type": "code",
        "colab": {}
      },
      "source": [
        "imp_features = loaded_model.feature_importances_"
      ],
      "execution_count": 30,
      "outputs": []
    },
    {
      "cell_type": "code",
      "metadata": {
        "id": "bQjhZ9He22XS",
        "colab_type": "code",
        "colab": {}
      },
      "source": [
        "def plot_features(columns,imp_features,n=20):\n",
        "  df=(pd.DataFrame({'features':columns,\n",
        "                   'imp_features':imp_features,}).sort_values('imp_features',ascending=False).reset_index(drop=True))\n",
        "  sns.barplot(x='imp_features',\n",
        "              y='features',\n",
        "              data=df[:n],\n",
        "              orient='h')\n",
        "  \n"
      ],
      "execution_count": 31,
      "outputs": []
    },
    {
      "cell_type": "code",
      "metadata": {
        "id": "2ggUnUm04sWY",
        "colab_type": "code",
        "colab": {
          "base_uri": "https://localhost:8080/",
          "height": 280
        },
        "outputId": "4f788d2b-a246-433c-a8c6-ee9aa545606f"
      },
      "source": [
        "plot_features(X_train.columns,imp_features)"
      ],
      "execution_count": 32,
      "outputs": [
        {
          "output_type": "display_data",
          "data": {
            "image/png": "[encoded data removed]",
            "text/plain": [
              "<Figure size 432x288 with 1 Axes>"
            ]
          },
          "metadata": {
            "tags": [],
            "needs_background": "light"
          }
        }
      ]
    },
    {
      "cell_type": "markdown",
      "metadata": {
        "id": "cZRXX8a942Xw",
        "colab_type": "text"
      },
      "source": [
        "#### To further enhance the model's accuracy, we could use only important features in training the model.This will avoid unecessary noise & model will be more accurate."
      ]
    },
    {
      "cell_type": "code",
      "metadata": {
        "id": "CQCQXZ9cM2_z",
        "colab_type": "code",
        "colab": {}
      },
      "source": [
        ""
      ],
      "execution_count": null,
      "outputs": []
    }
  ]
}